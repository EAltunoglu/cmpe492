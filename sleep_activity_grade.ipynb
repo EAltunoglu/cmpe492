{
 "cells": [
  {
   "cell_type": "code",
   "execution_count": 20,
   "metadata": {},
   "outputs": [],
   "source": [
    "import pandas as pd\n",
    "import seaborn as sns\n",
    "import pandasql as psql\n",
    "import numpy as np\n",
    "import matplotlib.pyplot as plt\n",
    "# from copy import deepcopy\n",
    "# from scipy import stats\n",
    "# from scipy.stats import chisquare"
   ]
  },
  {
   "cell_type": "code",
   "execution_count": 21,
   "metadata": {},
   "outputs": [],
   "source": [
    "# sleep_grade = pd.read_csv('sleep_grade_data/sleep_grade_0.csv')\n",
    "# activities = pd.read_csv('original_data/activity.csv')\n",
    "# activities.rename(columns={'datadate': 'dataDate'})"
   ]
  },
  {
   "cell_type": "code",
   "execution_count": 22,
   "metadata": {},
   "outputs": [
    {
     "data": {
      "text/html": [
       "<div>\n",
       "<style scoped>\n",
       "    .dataframe tbody tr th:only-of-type {\n",
       "        vertical-align: middle;\n",
       "    }\n",
       "\n",
       "    .dataframe tbody tr th {\n",
       "        vertical-align: top;\n",
       "    }\n",
       "\n",
       "    .dataframe thead th {\n",
       "        text-align: right;\n",
       "    }\n",
       "</style>\n",
       "<table border=\"1\" class=\"dataframe\">\n",
       "  <thead>\n",
       "    <tr style=\"text-align: right;\">\n",
       "      <th></th>\n",
       "      <th>egoid</th>\n",
       "      <th>dataDate</th>\n",
       "      <th>timetobed</th>\n",
       "      <th>timeoutofbed</th>\n",
       "      <th>bedtimedur</th>\n",
       "      <th>minstofallasleep</th>\n",
       "      <th>minsafterwakeup</th>\n",
       "      <th>minsasleep</th>\n",
       "      <th>minsawake</th>\n",
       "      <th>Efficiency</th>\n",
       "      <th>...</th>\n",
       "      <th>fairlyactiveminutes</th>\n",
       "      <th>veryactiveminutes</th>\n",
       "      <th>lowrangemins</th>\n",
       "      <th>fatburnmins</th>\n",
       "      <th>cardiomins</th>\n",
       "      <th>peakmins</th>\n",
       "      <th>lowrangecal</th>\n",
       "      <th>fatburncal</th>\n",
       "      <th>cardiocal</th>\n",
       "      <th>peakcal</th>\n",
       "    </tr>\n",
       "  </thead>\n",
       "  <tbody>\n",
       "    <tr>\n",
       "      <th>0</th>\n",
       "      <td>92552</td>\n",
       "      <td>2015-07-28</td>\n",
       "      <td>01:22:00</td>\n",
       "      <td>08:26:00</td>\n",
       "      <td>425</td>\n",
       "      <td>5</td>\n",
       "      <td>1</td>\n",
       "      <td>407</td>\n",
       "      <td>12</td>\n",
       "      <td>0.97136</td>\n",
       "      <td>...</td>\n",
       "      <td>0.0</td>\n",
       "      <td>0.0</td>\n",
       "      <td>795.0</td>\n",
       "      <td>1.0</td>\n",
       "      <td>0.0</td>\n",
       "      <td>0.0</td>\n",
       "      <td>1084.8119</td>\n",
       "      <td>1.22628</td>\n",
       "      <td>0.0</td>\n",
       "      <td>0.0</td>\n",
       "    </tr>\n",
       "    <tr>\n",
       "      <th>1</th>\n",
       "      <td>92552</td>\n",
       "      <td>2015-07-28</td>\n",
       "      <td>01:22:00</td>\n",
       "      <td>08:26:00</td>\n",
       "      <td>425</td>\n",
       "      <td>5</td>\n",
       "      <td>1</td>\n",
       "      <td>407</td>\n",
       "      <td>12</td>\n",
       "      <td>0.97136</td>\n",
       "      <td>...</td>\n",
       "      <td>0.0</td>\n",
       "      <td>0.0</td>\n",
       "      <td>795.0</td>\n",
       "      <td>1.0</td>\n",
       "      <td>0.0</td>\n",
       "      <td>0.0</td>\n",
       "      <td>1084.8119</td>\n",
       "      <td>1.22628</td>\n",
       "      <td>0.0</td>\n",
       "      <td>0.0</td>\n",
       "    </tr>\n",
       "    <tr>\n",
       "      <th>2</th>\n",
       "      <td>92552</td>\n",
       "      <td>2015-07-28</td>\n",
       "      <td>01:22:00</td>\n",
       "      <td>08:26:00</td>\n",
       "      <td>425</td>\n",
       "      <td>5</td>\n",
       "      <td>1</td>\n",
       "      <td>407</td>\n",
       "      <td>12</td>\n",
       "      <td>0.97136</td>\n",
       "      <td>...</td>\n",
       "      <td>0.0</td>\n",
       "      <td>0.0</td>\n",
       "      <td>795.0</td>\n",
       "      <td>1.0</td>\n",
       "      <td>0.0</td>\n",
       "      <td>0.0</td>\n",
       "      <td>1084.8119</td>\n",
       "      <td>1.22628</td>\n",
       "      <td>0.0</td>\n",
       "      <td>0.0</td>\n",
       "    </tr>\n",
       "    <tr>\n",
       "      <th>3</th>\n",
       "      <td>92552</td>\n",
       "      <td>2015-07-28</td>\n",
       "      <td>01:22:00</td>\n",
       "      <td>08:26:00</td>\n",
       "      <td>425</td>\n",
       "      <td>5</td>\n",
       "      <td>1</td>\n",
       "      <td>407</td>\n",
       "      <td>12</td>\n",
       "      <td>0.97136</td>\n",
       "      <td>...</td>\n",
       "      <td>0.0</td>\n",
       "      <td>0.0</td>\n",
       "      <td>795.0</td>\n",
       "      <td>1.0</td>\n",
       "      <td>0.0</td>\n",
       "      <td>0.0</td>\n",
       "      <td>1084.8119</td>\n",
       "      <td>1.22628</td>\n",
       "      <td>0.0</td>\n",
       "      <td>0.0</td>\n",
       "    </tr>\n",
       "    <tr>\n",
       "      <th>4</th>\n",
       "      <td>92552</td>\n",
       "      <td>2015-07-28</td>\n",
       "      <td>01:22:00</td>\n",
       "      <td>08:26:00</td>\n",
       "      <td>425</td>\n",
       "      <td>5</td>\n",
       "      <td>1</td>\n",
       "      <td>407</td>\n",
       "      <td>12</td>\n",
       "      <td>0.97136</td>\n",
       "      <td>...</td>\n",
       "      <td>0.0</td>\n",
       "      <td>0.0</td>\n",
       "      <td>795.0</td>\n",
       "      <td>1.0</td>\n",
       "      <td>0.0</td>\n",
       "      <td>0.0</td>\n",
       "      <td>1084.8119</td>\n",
       "      <td>1.22628</td>\n",
       "      <td>0.0</td>\n",
       "      <td>0.0</td>\n",
       "    </tr>\n",
       "  </tbody>\n",
       "</table>\n",
       "<p>5 rows × 31 columns</p>\n",
       "</div>"
      ],
      "text/plain": [
       "   egoid    dataDate timetobed timeoutofbed  bedtimedur  minstofallasleep  \\\n",
       "0  92552  2015-07-28  01:22:00     08:26:00         425                 5   \n",
       "1  92552  2015-07-28  01:22:00     08:26:00         425                 5   \n",
       "2  92552  2015-07-28  01:22:00     08:26:00         425                 5   \n",
       "3  92552  2015-07-28  01:22:00     08:26:00         425                 5   \n",
       "4  92552  2015-07-28  01:22:00     08:26:00         425                 5   \n",
       "\n",
       "   minsafterwakeup  minsasleep  minsawake  Efficiency  ...  \\\n",
       "0                1         407         12     0.97136  ...   \n",
       "1                1         407         12     0.97136  ...   \n",
       "2                1         407         12     0.97136  ...   \n",
       "3                1         407         12     0.97136  ...   \n",
       "4                1         407         12     0.97136  ...   \n",
       "\n",
       "   fairlyactiveminutes  veryactiveminutes  lowrangemins fatburnmins  \\\n",
       "0                  0.0                0.0         795.0         1.0   \n",
       "1                  0.0                0.0         795.0         1.0   \n",
       "2                  0.0                0.0         795.0         1.0   \n",
       "3                  0.0                0.0         795.0         1.0   \n",
       "4                  0.0                0.0         795.0         1.0   \n",
       "\n",
       "   cardiomins  peakmins  lowrangecal  fatburncal  cardiocal  peakcal  \n",
       "0         0.0       0.0    1084.8119     1.22628        0.0      0.0  \n",
       "1         0.0       0.0    1084.8119     1.22628        0.0      0.0  \n",
       "2         0.0       0.0    1084.8119     1.22628        0.0      0.0  \n",
       "3         0.0       0.0    1084.8119     1.22628        0.0      0.0  \n",
       "4         0.0       0.0    1084.8119     1.22628        0.0      0.0  \n",
       "\n",
       "[5 rows x 31 columns]"
      ]
     },
     "execution_count": 22,
     "metadata": {},
     "output_type": "execute_result"
    }
   ],
   "source": [
    "# activity_sleep_grade = pd.merge(sleep_grade, activities, how='left', left_on=['egoid', 'dataDate'], right_on=['egoid', 'datadate'])\n",
    "# activity_sleep_grade.to_csv('original_data/activity_sleep_grade.csv', index=False)\n",
    "\n",
    "activity_sleep_grade = pd.read_csv('original_data/activity_sleep_grade.csv')\n",
    "\n",
    "activity_sleep_grade.head()"
   ]
  },
  {
   "cell_type": "code",
   "execution_count": 23,
   "metadata": {},
   "outputs": [
    {
     "data": {
      "text/plain": [
       "<AxesSubplot:>"
      ]
     },
     "execution_count": 23,
     "metadata": {},
     "output_type": "execute_result"
    },
    {
     "data": {
      "image/png": "[encoded data removed]",
      "text/plain": [
       "<Figure size 432x288 with 2 Axes>"
      ]
     },
     "metadata": {
      "needs_background": "light"
     },
     "output_type": "display_data"
    }
   ],
   "source": [
    "sns.heatmap(activity_sleep_grade.corr())"
   ]
  },
  {
   "cell_type": "code",
   "execution_count": null,
   "metadata": {},
   "outputs": [],
   "source": [
    "sns.heatmap(activity_sleep_grade.corr(method='kendall'))"
   ]
  },
  {
   "cell_type": "code",
   "execution_count": null,
   "metadata": {},
   "outputs": [],
   "source": [
    "sns.heatmap(activity_sleep_grade.corr(method='spearman'))"
   ]
  }
 ],
 "metadata": {
  "interpreter": {
   "hash": "a80e6dafd4e4210dfc488fe76cd91449caa661e442ab457230cddcbd7c756147"
  },
  "kernelspec": {
   "display_name": "Python 3.9.10 64-bit (windows store)",
   "language": "python",
   "name": "python3"
  },
  "language_info": {
   "codemirror_mode": {
    "name": "ipython",
    "version": 3
   },
   "file_extension": ".py",
   "mimetype": "text/x-python",
   "name": "python",
   "nbconvert_exporter": "python",
   "pygments_lexer": "ipython3",
   "version": "3.9.10"
  },
  "orig_nbformat": 4
 },
 "nbformat": 4,
 "nbformat_minor": 2
}
