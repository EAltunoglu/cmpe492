{
 "cells": [
  {
   "cell_type": "code",
   "execution_count": 5,
   "metadata": {},
   "outputs": [],
   "source": [
    "import pandas as pd\n",
    "import numpy as np\n",
    "from sklearn.impute import SimpleImputer, KNNImputer\n",
    "from dython.nominal import identify_nominal_columns"
   ]
  },
  {
   "cell_type": "code",
   "execution_count": 6,
   "metadata": {},
   "outputs": [
    {
     "name": "stderr",
     "output_type": "stream",
     "text": [
      "C:\\Users\\Eren\\AppData\\Local\\Temp/ipykernel_11860/3977823022.py:1: DtypeWarning: Columns (314,391,392,789,791,792,1124,1125,1227,1228,1231,1232,1477,1478,1554,1555,1556,1557,1558,1559,1561,1568,1571,1678,1687,1745,1746,1818,1836,1837,1843,1844,1849,1851,1852,1853,2072,2116,2117,2264,2266,2280,2281,2282,2283,2289,2290,2483,2484,2501,2502,2508,2509,2699,2711,2712,2830) have mixed types. Specify dtype option on import or set low_memory=False.\n",
      "  survey = pd.read_csv('original_data/survey.csv')\n"
     ]
    }
   ],
   "source": [
    "survey = pd.read_csv('original_data/survey.csv')\n",
    "grade = pd.read_csv('original_data/grade.csv')\n",
    "activity = pd.read_csv('original_data/activity.csv')\n",
    "sleep = pd.read_csv('original_data/sleep.csv')"
   ]
  },
  {
   "cell_type": "code",
   "execution_count": 7,
   "metadata": {},
   "outputs": [],
   "source": [
    "su = set(survey['egoid'])\n",
    "g = set(grade['egoid'])\n",
    "a = set(activity['egoid'])\n",
    "s = set(sleep['egoid'])\n",
    "\n",
    "# egoids = su.intersection(g).intersection(a).intersection(s) # 215\n",
    "egoids = su.intersection(a).intersection(s) # 622\n",
    "\n",
    "egoids = list(egoids)\n",
    "\n",
    "survey_ego = survey[survey['egoid'].isin(egoids)]\n",
    "survey_ego.to_csv('original_data/survey_ego.csv', index=False)"
   ]
  },
  {
   "cell_type": "code",
   "execution_count": 20,
   "metadata": {},
   "outputs": [
    {
     "name": "stdout",
     "output_type": "stream",
     "text": [
      "0\n",
      "0\n"
     ]
    },
    {
     "name": "stderr",
     "output_type": "stream",
     "text": [
      "C:\\Users\\Eren\\AppData\\Local\\Temp/ipykernel_11860/1087830720.py:22: DtypeWarning: Columns (313,314,391,392,783,786,1117,1118,1213,1220,1221,1224,1366,1367,1465,1466,1467,1468,1543,1544,1545,1546,1547,1548,1550,1557,1559,1662,1669,1727,1728,1800,1801,1818,1819,1825,1826,1831,1833,1834,1835,2052,2096,2097,2244,2245,2260,2261,2262,2263,2269,2270,2463,2464,2481,2482,2488,2489,2679,2689,2690,2691,2692,2808,2809) have mixed types. Specify dtype option on import or set low_memory=False.\n",
      "  survey = pd.read_csv('original_data/survey_temp.csv')\n"
     ]
    }
   ],
   "source": [
    "# DROP ALL NA COLUMNS\n",
    "cols = []\n",
    "drop_cols = []\n",
    "\n",
    "for col in survey_ego.columns:\n",
    "    if survey_ego[col].isna().sum() != 622:\n",
    "        cols.append(col)\n",
    "    else:\n",
    "        drop_cols.append(col)\n",
    "\n",
    "cnt = 0\n",
    "for index, row in survey_ego.iterrows():\n",
    "    # print(row.isna().sum())\n",
    "    if row.isna().sum() >= 3000:\n",
    "        cnt += 1\n",
    "\n",
    "print(cnt)\n",
    "print(len(drop_cols))\n",
    "survey_ego = survey_ego.drop(drop_cols, axis=1)\n",
    "\n",
    "survey_ego.to_csv('original_data/survey_temp.csv', index=False)\n",
    "survey = pd.read_csv('original_data/survey_temp.csv')\n",
    "# print(survey_ego['egoid'])"
   ]
  },
  {
   "cell_type": "code",
   "execution_count": 9,
   "metadata": {},
   "outputs": [
    {
     "name": "stdout",
     "output_type": "stream",
     "text": [
      "0      44869.0\n",
      "1      43516.0\n",
      "2      89411.0\n",
      "3      74285.0\n",
      "4      56527.0\n",
      "        ...   \n",
      "617    35824.0\n",
      "618    48826.0\n",
      "619    93246.0\n",
      "620    75341.0\n",
      "621    35925.0\n",
      "Name: egoid, Length: 622, dtype: float64\n"
     ]
    }
   ],
   "source": [
    "# MEAN IMPUTATION\n",
    "# survey = survey_ego.copy()\n",
    "nominal_cols = identify_nominal_columns(survey)\n",
    "numeric_cols = [col for col in survey.columns if col not in nominal_cols] # 715 cols\n",
    "survey_mean = survey.copy()\n",
    "\n",
    "imp = SimpleImputer(missing_values=np.nan, strategy='mean')\n",
    "imp.fit(survey_mean[numeric_cols])\n",
    "\n",
    "survey_mean[numeric_cols] = pd.DataFrame(imp.transform(survey_mean[numeric_cols]))\n",
    "\n",
    "print(survey_mean['egoid'])\n",
    "\n",
    "survey_mean['egoid'] = survey_mean['egoid'].astype('int')\n",
    "survey_mean.to_csv('original_data/survey_mean.csv', index=False)"
   ]
  },
  {
   "cell_type": "code",
   "execution_count": 10,
   "metadata": {},
   "outputs": [],
   "source": [
    "# MEDIAN IMPUTATION\n",
    "nominal_cols = identify_nominal_columns(survey)\n",
    "numeric_cols = [col for col in survey.columns if col not in nominal_cols] # 715 cols\n",
    "survey_median = survey.copy()\n",
    "\n",
    "imp = SimpleImputer(missing_values=np.nan, strategy='median')\n",
    "imp.fit(survey_median[numeric_cols])\n",
    "\n",
    "survey_median[numeric_cols] = pd.DataFrame(imp.transform(survey_median[numeric_cols]))\n",
    "\n",
    "survey_median['egoid'] = survey_median['egoid'].astype('int')\n",
    "survey_median.to_csv('original_data/survey_median.csv', index=False)"
   ]
  },
  {
   "cell_type": "code",
   "execution_count": 11,
   "metadata": {},
   "outputs": [],
   "source": [
    "# MOST FREQUENT(MOD) IMPUTATION\n",
    "imp = SimpleImputer(missing_values=np.nan, strategy='most_frequent')\n",
    "imp.fit(survey)\n",
    "survey_mod = imp.transform(survey)\n",
    "survey_mod = pd.DataFrame(survey_mod, columns=cols)\n",
    "\n",
    "survey_mod['egoid'] = survey_mod['egoid'].astype('int')\n",
    "survey_mod.to_csv('original_data/survey_mod.csv', index=False)"
   ]
  },
  {
   "cell_type": "code",
   "execution_count": 12,
   "metadata": {},
   "outputs": [],
   "source": [
    "# MEAN + MOD IMPUTATION\n",
    "nominal_cols = identify_nominal_columns(survey)\n",
    "numeric_cols = [col for col in survey.columns if col not in nominal_cols] # 715 cols\n",
    "survey_mean = survey.copy()\n",
    "\n",
    "imp = SimpleImputer(missing_values=np.nan, strategy='mean')\n",
    "imp.fit(survey_mean[numeric_cols])\n",
    "\n",
    "survey_mean[numeric_cols] = pd.DataFrame(imp.transform(survey_mean[numeric_cols]))\n",
    "\n",
    "imp = SimpleImputer(missing_values=np.nan, strategy='most_frequent')\n",
    "imp.fit(survey_mean)\n",
    "survey_mean_mod = imp.transform(survey_mean)\n",
    "survey_mean_mod = pd.DataFrame(survey_mean_mod, columns=cols)\n",
    "\n",
    "survey_mean_mod['egoid'] = survey_mean_mod['egoid'].astype('int')\n",
    "survey_mean_mod.to_csv('original_data/survey_mean_mod.csv', index=False)"
   ]
  },
  {
   "cell_type": "code",
   "execution_count": 13,
   "metadata": {},
   "outputs": [],
   "source": [
    "# KNN IMPUTATION\n",
    "nominal_cols = identify_nominal_columns(survey)\n",
    "numeric_cols = [col for col in survey.columns if col not in nominal_cols] # 715 cols\n",
    "survey_knn = survey.copy()\n",
    "\n",
    "imp = KNNImputer(n_neighbors=3, weights=\"uniform\")\n",
    "\n",
    "survey_knn[numeric_cols] = pd.DataFrame(imp.fit_transform(survey_knn[numeric_cols]))\n",
    "\n",
    "survey_knn['egoid'] = survey_knn['egoid'].astype('int')\n",
    "survey_knn.to_csv('original_data/survey_knn.csv', index=False)"
   ]
  },
  {
   "cell_type": "code",
   "execution_count": 14,
   "metadata": {},
   "outputs": [],
   "source": [
    "# KNN + MOD IMPUTATION\n",
    "nominal_cols = identify_nominal_columns(survey)\n",
    "numeric_cols = [col for col in survey.columns if col not in nominal_cols] # 715 cols\n",
    "survey_knn = survey.copy()\n",
    "\n",
    "imp = KNNImputer(n_neighbors=3, weights=\"uniform\")\n",
    "\n",
    "survey_knn[numeric_cols] = pd.DataFrame(imp.fit_transform(survey_knn[numeric_cols]))\n",
    "\n",
    "imp = SimpleImputer(missing_values=np.nan, strategy='most_frequent')\n",
    "imp.fit(survey_knn)\n",
    "survey_knn_mod = imp.transform(survey_knn)\n",
    "survey_knn_mod = pd.DataFrame(survey_knn_mod, columns=cols)\n",
    "\n",
    "survey_knn_mod['egoid'] = survey_knn_mod['egoid'].astype('int')\n",
    "survey_knn_mod.to_csv('original_data/survey_knn_mod.csv', index=False)"
   ]
  },
  {
   "cell_type": "code",
   "execution_count": 15,
   "metadata": {},
   "outputs": [],
   "source": [
    "# version 1.1.0 required\n",
    "# Multivariate feature imputation IterativeImputer(Experimental)\n",
    "# imp = IterativeImputer(max_iter=10, random_state=0)\n",
    "# imp.fit(survey)"
   ]
  }
 ],
 "metadata": {
  "interpreter": {
   "hash": "b7433dc76bbec79316ba80912b4bf308cefecc15e81e3f815eeef1d0e9775f42"
  },
  "kernelspec": {
   "display_name": "Python 3.9.12 64-bit (windows store)",
   "language": "python",
   "name": "python3"
  },
  "language_info": {
   "codemirror_mode": {
    "name": "ipython",
    "version": 3
   },
   "file_extension": ".py",
   "mimetype": "text/x-python",
   "name": "python",
   "nbconvert_exporter": "python",
   "pygments_lexer": "ipython3",
   "version": "3.9.13"
  },
  "orig_nbformat": 4
 },
 "nbformat": 4,
 "nbformat_minor": 2
}
