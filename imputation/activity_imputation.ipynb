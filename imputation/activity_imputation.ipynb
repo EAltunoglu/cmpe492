{
 "cells": [
  {
   "cell_type": "code",
   "execution_count": 1,
   "metadata": {},
   "outputs": [],
   "source": [
    "import pandas as pd\n",
    "import numpy as np\n",
    "from sklearn.impute import SimpleImputer, KNNImputer\n",
    "from dython.nominal import identify_nominal_columns"
   ]
  },
  {
   "cell_type": "code",
   "execution_count": 2,
   "metadata": {},
   "outputs": [],
   "source": [
    "activity = pd.read_csv('../original_data/activity.csv')"
   ]
  },
  {
   "cell_type": "code",
   "execution_count": 3,
   "metadata": {},
   "outputs": [
    {
     "data": {
      "text/plain": [
       "['egoid',\n",
       " 'complypercent',\n",
       " 'meanrate',\n",
       " 'sdrate',\n",
       " 'steps',\n",
       " 'floors',\n",
       " 'sedentaryminutes',\n",
       " 'lightlyactiveminutes',\n",
       " 'fairlyactiveminutes',\n",
       " 'veryactiveminutes',\n",
       " 'lowrangemins',\n",
       " 'fatburnmins',\n",
       " 'cardiomins',\n",
       " 'peakmins',\n",
       " 'lowrangecal',\n",
       " 'fatburncal',\n",
       " 'cardiocal',\n",
       " 'peakcal']"
      ]
     },
     "execution_count": 3,
     "metadata": {},
     "output_type": "execute_result"
    }
   ],
   "source": [
    "# KNN IMPUTATION\n",
    "nominal_cols = identify_nominal_columns(activity)\n",
    "numeric_cols = [col for col in activity.columns if col not in nominal_cols]\n",
    "activity_knn = activity.copy()\n",
    "numeric_cols"
   ]
  },
  {
   "cell_type": "code",
   "execution_count": 4,
   "metadata": {},
   "outputs": [],
   "source": [
    "imp = KNNImputer(n_neighbors=3, weights=\"uniform\")\n",
    "\n",
    "activity_knn[numeric_cols] = pd.DataFrame(imp.fit_transform(activity_knn[numeric_cols]))\n",
    "\n",
    "activity_knn['egoid'] = activity_knn['egoid'].astype('int')\n",
    "activity_knn.to_csv('../refined_data/activity/activity_knn.csv', index=False)"
   ]
  },
  {
   "cell_type": "code",
   "execution_count": 5,
   "metadata": {},
   "outputs": [
    {
     "data": {
      "text/plain": [
       "(egoid                   0\n",
       " datadate                0\n",
       " complypercent           0\n",
       " meanrate                0\n",
       " sdrate                  0\n",
       " steps                   0\n",
       " floors                  0\n",
       " sedentaryminutes        0\n",
       " lightlyactiveminutes    0\n",
       " fairlyactiveminutes     0\n",
       " veryactiveminutes       0\n",
       " lowrangemins            0\n",
       " fatburnmins             0\n",
       " cardiomins              0\n",
       " peakmins                0\n",
       " lowrangecal             0\n",
       " fatburncal              0\n",
       " cardiocal               0\n",
       " peakcal                 0\n",
       " dtype: int64,\n",
       " 0)"
      ]
     },
     "execution_count": 5,
     "metadata": {},
     "output_type": "execute_result"
    }
   ],
   "source": [
    "activity_knn.isna().sum(), activity_knn.isna().sum().sum()"
   ]
  }
 ],
 "metadata": {
  "interpreter": {
   "hash": "b7433dc76bbec79316ba80912b4bf308cefecc15e81e3f815eeef1d0e9775f42"
  },
  "kernelspec": {
   "display_name": "Python 3.9.13 64-bit (windows store)",
   "language": "python",
   "name": "python3"
  },
  "language_info": {
   "codemirror_mode": {
    "name": "ipython",
    "version": 3
   },
   "file_extension": ".py",
   "mimetype": "text/x-python",
   "name": "python",
   "nbconvert_exporter": "python",
   "pygments_lexer": "ipython3",
   "version": "3.9.13"
  },
  "orig_nbformat": 4
 },
 "nbformat": 4,
 "nbformat_minor": 2
}
