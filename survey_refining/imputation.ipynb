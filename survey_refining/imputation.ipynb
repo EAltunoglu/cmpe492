{
 "cells": [
  {
   "cell_type": "code",
   "execution_count": null,
   "metadata": {},
   "outputs": [],
   "source": [
    "import pandas as pd\n",
    "import numpy as np\n",
    "from sklearn.impute import SimpleImputer, KNNImputer\n",
    "from dython.nominal import identify_nominal_columns"
   ]
  },
  {
   "cell_type": "code",
   "execution_count": null,
   "metadata": {},
   "outputs": [],
   "source": [
    "# for _class, prefixes in classification.items(): \n",
    "#     for wave in range(1, 9):\n",
    "#         added_cols = ['egoid']\n"
   ]
  },
  {
   "cell_type": "code",
   "execution_count": null,
   "metadata": {},
   "outputs": [],
   "source": [
    "# todo:\n",
    "# drop the unattended persons\n",
    "# look at their number of answered questions"
   ]
  },
  {
   "cell_type": "code",
   "execution_count": null,
   "metadata": {},
   "outputs": [],
   "source": [
    "# select rows for education\n",
    "education_select = ['hs_1', 'hssex_1', 'hsgrade_1', 'apexams_1', 'degreeintent_1', 'hrswork_1', 'ndfirst_1', 'majorevent_1']\n",
    "education_drop = ['major1rc_1', 'major2rc_1']\n",
    "education_refine = ['hsclub1rc_1', 'hsclub2rc_1', 'hsclub3rc_1', 'hsclub4rc_1', 'hsclub5rc_1']"
   ]
  },
  {
   "cell_type": "code",
   "execution_count": null,
   "metadata": {},
   "outputs": [],
   "source": [
    "# refine education\n",
    "\n",
    "# todo: imputation for all of them, most frequent\n",
    "# todo: filter number of clubs attended"
   ]
  },
  {
   "cell_type": "code",
   "execution_count": null,
   "metadata": {},
   "outputs": [],
   "source": [
    "# select rows for health\n",
    "health_select = ['Dieting_1', 'PhysicalDisability_1']\n",
    "health_drop = []\n",
    "health_refine = []"
   ]
  },
  {
   "cell_type": "code",
   "execution_count": null,
   "metadata": {},
   "outputs": [],
   "source": [
    "# refine health\n",
    "\n",
    "# todo: imputation for all of them, most frequent"
   ]
  },
  {
   "cell_type": "code",
   "execution_count": null,
   "metadata": {},
   "outputs": [],
   "source": [
    "#  select rows for mental health\n",
    "mental_health_select = ['STAITraitTotal_1', 'CESDOverall_1', 'BAIsum_1', 'STAITraitGroup_1', 'CESDGroup_1', 'BAIgroup_1']\n",
    "mental_health_drop = [] # many. use only the overall scores\n",
    "mental_health_refine = []"
   ]
  },
  {
   "cell_type": "code",
   "execution_count": null,
   "metadata": {},
   "outputs": [],
   "source": [
    "# refine mental health\n",
    "\n",
    "# STAITraitTotal_1, CESDOverall_1, BAIsum_1 are numeric; STAITraitGroup_1, CESDGroup_1, BAIgroup_1 are categorical\n",
    "# todo: imputation: knn for numerics, most frequent for categoricals"
   ]
  },
  {
   "cell_type": "code",
   "execution_count": null,
   "metadata": {},
   "outputs": [],
   "source": [
    "#  select rows for origin\n",
    "origin_select = ['gender_1', 'momdec_1', 'momusa_1', 'daddec_1', 'dadusa_1', 'parentstatus_1', 'dadage_1', 'momage_1',\n",
    "    'numsib_1', 'birthorder_1', 'parentincome_1', 'parenteduc_1', 'momrace_1', 'dadrace_1', 'momrelig_1', 'dadrelig_1', 'yourelig_1']\n",
    "origin_drop = ['parentND_1', 'grandparentND_1', 'siblingND_1', 'uncleND_1', 'cousinND_1', 'otherrelativeND_1',\n",
    "    'madaddec_1', 'madadusa_1', 'mamomdec_1', 'mamomusa_1', 'padaddec_1', 'padadusa_1', 'pamomdec_1', 'pamomusa_1',\n",
    "    'yrdadborn_1', 'yrdaddec_1', 'yrmomborn_1', 'yrmomdec_1', 'numbros_1', 'numsis_1', 'adopted_1', 'momeduc_1', 'dadeduc_1',\n",
    "    'momrace_AmInd_1', 'momrace_Asian_1', 'momrace_Black_1', 'momrace_Latino_1', 'momrace_Haw_1', 'momrace_White_1',\n",
    "    'dadrace_AmInd_1', 'dadrace_Asian_1', 'dadrace_Black_1', 'dadrace_Latino_1', 'dadrace_Haw_1', 'dadrace_White_1',\n",
    "    'dad_multiracial_1', 'mom_multiracial_1', 'parentrace_1']\n",
    "origin_refine = []"
   ]
  },
  {
   "cell_type": "code",
   "execution_count": null,
   "metadata": {},
   "outputs": [],
   "source": [
    "# refine origin\n",
    "\n",
    "# momdec_1, momusa_1, daddec_1, dadusa_1 insert 0 if null\n",
    "# others will be filled with most frequent"
   ]
  },
  {
   "cell_type": "code",
   "execution_count": null,
   "metadata": {},
   "outputs": [],
   "source": [
    "# select rows for personal info (self perception)\n",
    "personal_select = ['SelfEsteem_1', 'Trust_1', 'SRQE_Ext_1', 'SRQE_Introj_1', 'SRQE_Ident_1', 'SRQE_Intrin_1',\n",
    "    'selsa_rom_1', 'selsa_fam_1', 'selsa_soc_1', 'SelfEff_exercise_scale_1', 'SelfEff_diet_scale_1', 'selfreg_scale_1']\n",
    "personal_drop = [] # many. use only the overall scores. exception: SRQE_RAI_1 is score of scores\n",
    "personal_refine = []"
   ]
  },
  {
   "cell_type": "code",
   "execution_count": null,
   "metadata": {},
   "outputs": [],
   "source": [
    "# refine personal info (self perception)\n",
    "\n",
    "# fill all of them with means"
   ]
  },
  {
   "cell_type": "code",
   "execution_count": null,
   "metadata": {},
   "outputs": [],
   "source": [
    "# select rows for sleep\n",
    "sleep_select = ['PSQI_duration_1', 'PSQIGlobal_1', 'PSQIGroup_1', 'MEQTotal_1', 'MEQGroup_1']\n",
    "sleep_drop = [] # many. use only the overall scores\n",
    "sleep_refine = []"
   ]
  },
  {
   "cell_type": "code",
   "execution_count": null,
   "metadata": {},
   "outputs": [],
   "source": [
    "# refine sleep\n",
    "\n",
    "# numeric (mean): PSQI_duration_1, PSQIGlobal_1, MEQTotal_1\n",
    "# categorical (most frequent): PSQIGroup_1, MEQGroup_1"
   ]
  },
  {
   "cell_type": "code",
   "execution_count": null,
   "metadata": {},
   "outputs": [],
   "source": [
    "# do not use sexual orientation info"
   ]
  },
  {
   "cell_type": "code",
   "execution_count": null,
   "metadata": {},
   "outputs": [],
   "source": [
    "# do not use big5 as their score is in personality inventory"
   ]
  },
  {
   "cell_type": "code",
   "execution_count": null,
   "metadata": {},
   "outputs": [],
   "source": [
    "# use all rows for personality inventory\n",
    "\n",
    "# ['Extraversion', 'Agreeableness', 'Conscientiousness', 'Neuroticism', 'Openness']\n",
    "\n",
    "# fill with mean if there is any missing value"
   ]
  },
  {
   "cell_type": "code",
   "execution_count": null,
   "metadata": {},
   "outputs": [],
   "source": [
    "# use all rows for bad habits\n",
    "\n",
    "# fill with most frequent. all values are categorical"
   ]
  },
  {
   "cell_type": "code",
   "execution_count": null,
   "metadata": {},
   "outputs": [],
   "source": [
    "# use all rows for exercise\n",
    "\n",
    "# fill with most frequent. all values are categorical"
   ]
  }
 ],
 "metadata": {
  "language_info": {
   "name": "python"
  },
  "orig_nbformat": 4
 },
 "nbformat": 4,
 "nbformat_minor": 2
}
