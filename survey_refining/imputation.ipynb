{
 "cells": [
  {
   "cell_type": "code",
   "execution_count": 1,
   "metadata": {},
   "outputs": [],
   "source": [
    "import pandas as pd\n",
    "import numpy as np\n",
    "from sklearn.impute import SimpleImputer, KNNImputer\n",
    "from dython.nominal import identify_nominal_columns"
   ]
  },
  {
   "cell_type": "code",
   "execution_count": 2,
   "metadata": {},
   "outputs": [],
   "source": [
    "\n",
    "education = pd.read_csv('../original_data/survey_partial_2/survey_education_{}.csv'.format(1))\n",
    "\n",
    "# select rows for education\n",
    "education_select = ['hs', 'hssex', 'hsgrade', 'apexams', 'degreeintent', 'hrswork', 'ndfirst', 'majorevent']\n",
    "education_drop = ['major1rc', 'major2rc']\n",
    "education_refine = ['hsclub1rc', 'hsclub2rc', 'hsclub3rc', 'hsclub4rc', 'hsclub5rc']\n",
    "\n",
    "education_refined = education[[field + '_' + str(1) for field in education_select]].copy()\n",
    "education_refined['egoid'] = education['egoid'].copy()"
   ]
  },
  {
   "cell_type": "code",
   "execution_count": 3,
   "metadata": {},
   "outputs": [],
   "source": [
    "education_refined['hsclubrc_1'] = education.apply(lambda row: 0 if pd.isna(row['hsclub3rc_1']) \n",
    "                                                        or pd.isnull(row['hsclub3rc_1']) else 1, axis=1)"
   ]
  },
  {
   "cell_type": "code",
   "execution_count": 5,
   "metadata": {},
   "outputs": [],
   "source": [
    "education_refined = education_refined.apply(lambda column:column.fillna(column.value_counts().index[0]))"
   ]
  },
  {
   "cell_type": "code",
   "execution_count": 28,
   "metadata": {},
   "outputs": [],
   "source": [
    "mental_health = pd.read_csv(\n",
    "        '../original_data/survey_partial_2/survey_mental_health_{}.csv'.format(1))\n",
    "\n",
    "#  select rows for mental health\n",
    "mental_health_select = ['STAITraitTotal_1', 'CESDOverall_1',\n",
    "                            'BAIsum_1', 'STAITraitGroup_1', 'CESDGroup_1', 'BAIgroup_1']"
   ]
  },
  {
   "cell_type": "code",
   "execution_count": 35,
   "metadata": {},
   "outputs": [],
   "source": [
    "mental_health_refined = mental_health[mental_health_select].copy()"
   ]
  },
  {
   "cell_type": "code",
   "execution_count": 42,
   "metadata": {},
   "outputs": [
    {
     "name": "stdout",
     "output_type": "stream",
     "text": [
      "0\n",
      "0\n",
      "0\n",
      "0\n",
      "0\n",
      "0\n"
     ]
    }
   ],
   "source": [
    "for column in mental_health_refined:\n",
    "    print(mental_health_refined[column].isna().sum())"
   ]
  },
  {
   "cell_type": "code",
   "execution_count": 39,
   "metadata": {},
   "outputs": [
    {
     "name": "stderr",
     "output_type": "stream",
     "text": [
      "C:\\Users\\Ekrem\\AppData\\Local\\Temp\\ipykernel_20152\\2804185383.py:1: FutureWarning: Dropping of nuisance columns in DataFrame reductions (with 'numeric_only=None') is deprecated; in a future version this will raise TypeError.  Select only valid columns before calling the reduction.\n",
      "  mental_health_refined = mental_health_refined.fillna(mental_health_refined.mean())\n"
     ]
    }
   ],
   "source": [
    "mental_health_refined = mental_health_refined.fillna(mental_health_refined.mean())"
   ]
  },
  {
   "cell_type": "code",
   "execution_count": 41,
   "metadata": {},
   "outputs": [],
   "source": [
    "mental_health_refined = mental_health_refined.apply(lambda column:column.fillna(column.value_counts().index[0]))"
   ]
  }
 ],
 "metadata": {
  "language_info": {
   "name": "python"
  },
  "orig_nbformat": 4
 },
 "nbformat": 4,
 "nbformat_minor": 2
}
