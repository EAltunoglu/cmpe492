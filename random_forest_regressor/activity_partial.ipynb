{
 "cells": [
  {
   "cell_type": "code",
   "execution_count": 18,
   "metadata": {},
   "outputs": [],
   "source": [
    "import pandas as pd\n",
    "import numpy as np\n",
    "from sklearn.ensemble import RandomForestRegressor"
   ]
  },
  {
   "cell_type": "code",
   "execution_count": 19,
   "metadata": {},
   "outputs": [],
   "source": [
    "activity = pd.read_csv('../original_data/activity_date_class.csv')\n",
    "survey_mental_health = pd.read_csv('../original_data/survey_knn_mod_partial/survey_mental_health_1.csv')\n",
    "grades_numeric = pd.read_csv('../grades_numeric.csv')"
   ]
  },
  {
   "cell_type": "code",
   "execution_count": 20,
   "metadata": {},
   "outputs": [],
   "source": [
    "overall_columns = ['egoid', 'STAITraitTotal_1', 'CESDOverall_1', 'BAIsum_1', 'STAITraitGroup_1', 'CESDGroup_1', 'BAIgroup_1']\n",
    "\n",
    "survey_mental_health = survey_mental_health[overall_columns].copy()"
   ]
  },
  {
   "cell_type": "code",
   "execution_count": 21,
   "metadata": {},
   "outputs": [],
   "source": [
    "grade_columns = ['egoid', 'grade', 'AcademicPeriod']\n",
    "\n",
    "grades_numeric = grades_numeric[grade_columns].copy()"
   ]
  },
  {
   "cell_type": "code",
   "execution_count": 22,
   "metadata": {},
   "outputs": [
    {
     "data": {
      "text/html": [
       "<div>\n",
       "<style scoped>\n",
       "    .dataframe tbody tr th:only-of-type {\n",
       "        vertical-align: middle;\n",
       "    }\n",
       "\n",
       "    .dataframe tbody tr th {\n",
       "        vertical-align: top;\n",
       "    }\n",
       "\n",
       "    .dataframe thead th {\n",
       "        text-align: right;\n",
       "    }\n",
       "</style>\n",
       "<table border=\"1\" class=\"dataframe\">\n",
       "  <thead>\n",
       "    <tr style=\"text-align: right;\">\n",
       "      <th></th>\n",
       "      <th>egoid</th>\n",
       "      <th>datadate</th>\n",
       "      <th>complypercent</th>\n",
       "      <th>meanrate</th>\n",
       "      <th>sdrate</th>\n",
       "      <th>steps</th>\n",
       "      <th>floors</th>\n",
       "      <th>sedentaryminutes</th>\n",
       "      <th>lightlyactiveminutes</th>\n",
       "      <th>fairlyactiveminutes</th>\n",
       "      <th>veryactiveminutes</th>\n",
       "      <th>lowrangemins</th>\n",
       "      <th>fatburnmins</th>\n",
       "      <th>cardiomins</th>\n",
       "      <th>peakmins</th>\n",
       "      <th>lowrangecal</th>\n",
       "      <th>fatburncal</th>\n",
       "      <th>cardiocal</th>\n",
       "      <th>peakcal</th>\n",
       "    </tr>\n",
       "  </thead>\n",
       "  <tbody>\n",
       "    <tr>\n",
       "      <th>0</th>\n",
       "      <td>44869</td>\n",
       "      <td>2015-07-28</td>\n",
       "      <td>91</td>\n",
       "      <td>86.669746</td>\n",
       "      <td>11.979352</td>\n",
       "      <td>4034.0</td>\n",
       "      <td>1.0</td>\n",
       "      <td>1034.0</td>\n",
       "      <td>149.0</td>\n",
       "      <td>2.0</td>\n",
       "      <td>12.0</td>\n",
       "      <td>1211</td>\n",
       "      <td>75</td>\n",
       "      <td>9</td>\n",
       "      <td>4</td>\n",
       "      <td>1364.19900</td>\n",
       "      <td>159.79671</td>\n",
       "      <td>61.841969</td>\n",
       "      <td>35.46954</td>\n",
       "    </tr>\n",
       "    <tr>\n",
       "      <th>1</th>\n",
       "      <td>44869</td>\n",
       "      <td>2015-07-29</td>\n",
       "      <td>97</td>\n",
       "      <td>87.975342</td>\n",
       "      <td>8.990446</td>\n",
       "      <td>3702.0</td>\n",
       "      <td>0.0</td>\n",
       "      <td>769.0</td>\n",
       "      <td>153.0</td>\n",
       "      <td>0.0</td>\n",
       "      <td>0.0</td>\n",
       "      <td>1273</td>\n",
       "      <td>103</td>\n",
       "      <td>3</td>\n",
       "      <td>0</td>\n",
       "      <td>1322.14650</td>\n",
       "      <td>262.28818</td>\n",
       "      <td>11.997700</td>\n",
       "      <td>0.00000</td>\n",
       "    </tr>\n",
       "    <tr>\n",
       "      <th>2</th>\n",
       "      <td>44869</td>\n",
       "      <td>2015-07-30</td>\n",
       "      <td>100</td>\n",
       "      <td>83.281448</td>\n",
       "      <td>16.863153</td>\n",
       "      <td>3660.0</td>\n",
       "      <td>0.0</td>\n",
       "      <td>795.0</td>\n",
       "      <td>139.0</td>\n",
       "      <td>3.0</td>\n",
       "      <td>18.0</td>\n",
       "      <td>1267</td>\n",
       "      <td>109</td>\n",
       "      <td>15</td>\n",
       "      <td>16</td>\n",
       "      <td>1288.98170</td>\n",
       "      <td>232.89841</td>\n",
       "      <td>77.910057</td>\n",
       "      <td>127.26234</td>\n",
       "    </tr>\n",
       "    <tr>\n",
       "      <th>3</th>\n",
       "      <td>44869</td>\n",
       "      <td>2015-07-31</td>\n",
       "      <td>80</td>\n",
       "      <td>91.707787</td>\n",
       "      <td>12.464956</td>\n",
       "      <td>6016.0</td>\n",
       "      <td>13.0</td>\n",
       "      <td>954.0</td>\n",
       "      <td>259.0</td>\n",
       "      <td>0.0</td>\n",
       "      <td>0.0</td>\n",
       "      <td>846</td>\n",
       "      <td>295</td>\n",
       "      <td>2</td>\n",
       "      <td>0</td>\n",
       "      <td>954.04791</td>\n",
       "      <td>629.57526</td>\n",
       "      <td>2.224320</td>\n",
       "      <td>0.00000</td>\n",
       "    </tr>\n",
       "    <tr>\n",
       "      <th>4</th>\n",
       "      <td>44869</td>\n",
       "      <td>2015-08-01</td>\n",
       "      <td>78</td>\n",
       "      <td>101.268140</td>\n",
       "      <td>10.464320</td>\n",
       "      <td>9846.0</td>\n",
       "      <td>5.0</td>\n",
       "      <td>1078.0</td>\n",
       "      <td>282.0</td>\n",
       "      <td>24.0</td>\n",
       "      <td>8.0</td>\n",
       "      <td>628</td>\n",
       "      <td>502</td>\n",
       "      <td>0</td>\n",
       "      <td>0</td>\n",
       "      <td>702.88513</td>\n",
       "      <td>1080.83410</td>\n",
       "      <td>0.000000</td>\n",
       "      <td>0.00000</td>\n",
       "    </tr>\n",
       "  </tbody>\n",
       "</table>\n",
       "</div>"
      ],
      "text/plain": [
       "   egoid    datadate  complypercent    meanrate     sdrate   steps  floors  \\\n",
       "0  44869  2015-07-28             91   86.669746  11.979352  4034.0     1.0   \n",
       "1  44869  2015-07-29             97   87.975342   8.990446  3702.0     0.0   \n",
       "2  44869  2015-07-30            100   83.281448  16.863153  3660.0     0.0   \n",
       "3  44869  2015-07-31             80   91.707787  12.464956  6016.0    13.0   \n",
       "4  44869  2015-08-01             78  101.268140  10.464320  9846.0     5.0   \n",
       "\n",
       "   sedentaryminutes  lightlyactiveminutes  fairlyactiveminutes  \\\n",
       "0            1034.0                 149.0                  2.0   \n",
       "1             769.0                 153.0                  0.0   \n",
       "2             795.0                 139.0                  3.0   \n",
       "3             954.0                 259.0                  0.0   \n",
       "4            1078.0                 282.0                 24.0   \n",
       "\n",
       "   veryactiveminutes  lowrangemins  fatburnmins  cardiomins  peakmins  \\\n",
       "0               12.0          1211           75           9         4   \n",
       "1                0.0          1273          103           3         0   \n",
       "2               18.0          1267          109          15        16   \n",
       "3                0.0           846          295           2         0   \n",
       "4                8.0           628          502           0         0   \n",
       "\n",
       "   lowrangecal  fatburncal  cardiocal    peakcal  \n",
       "0   1364.19900   159.79671  61.841969   35.46954  \n",
       "1   1322.14650   262.28818  11.997700    0.00000  \n",
       "2   1288.98170   232.89841  77.910057  127.26234  \n",
       "3    954.04791   629.57526   2.224320    0.00000  \n",
       "4    702.88513  1080.83410   0.000000    0.00000  "
      ]
     },
     "execution_count": 22,
     "metadata": {},
     "output_type": "execute_result"
    }
   ],
   "source": [
    "activity = pd.read_csv('../original_data/activity.csv')\n",
    "activity.head()"
   ]
  },
  {
   "cell_type": "code",
   "execution_count": 23,
   "metadata": {},
   "outputs": [
    {
     "data": {
      "text/plain": [
       "(52544, 18)"
      ]
     },
     "execution_count": 23,
     "metadata": {},
     "output_type": "execute_result"
    }
   ],
   "source": [
    "activity = activity[(activity['datadate'].str.startswith('2015'))]\n",
    "activity = activity.drop(columns = ['datadate'])\n",
    "activity.shape"
   ]
  },
  {
   "cell_type": "code",
   "execution_count": 25,
   "metadata": {},
   "outputs": [
    {
     "data": {
      "text/plain": [
       "egoid               int64\n",
       "grade             float64\n",
       "AcademicPeriod      int64\n",
       "dtype: object"
      ]
     },
     "execution_count": 25,
     "metadata": {},
     "output_type": "execute_result"
    }
   ],
   "source": [
    "grades_numeric.dtypes"
   ]
  },
  {
   "cell_type": "code",
   "execution_count": 26,
   "metadata": {},
   "outputs": [
    {
     "name": "stdout",
     "output_type": "stream",
     "text": [
      "(9970, 3)\n"
     ]
    },
    {
     "data": {
      "text/plain": [
       "(2718, 2)"
      ]
     },
     "execution_count": 26,
     "metadata": {},
     "output_type": "execute_result"
    }
   ],
   "source": [
    "print(grades_numeric.shape)\n",
    "grades_numeric = grades_numeric[(grades_numeric['AcademicPeriod'] < 201600)]\n",
    "grades_numeric = grades_numeric.drop(columns=['AcademicPeriod'])\n",
    "grades_numeric.shape"
   ]
  },
  {
   "cell_type": "code",
   "execution_count": 27,
   "metadata": {},
   "outputs": [],
   "source": [
    "merged_data = pd.merge(activity, survey_mental_health, on='egoid')\n",
    "merged_data = pd.merge(merged_data, grades_numeric, on='egoid')"
   ]
  },
  {
   "cell_type": "code",
   "execution_count": 28,
   "metadata": {},
   "outputs": [],
   "source": [
    "merged_data = pd.get_dummies(merged_data.dropna().drop('egoid', axis=1))"
   ]
  },
  {
   "cell_type": "code",
   "execution_count": 29,
   "metadata": {},
   "outputs": [],
   "source": [
    "grades = merged_data['grade'].copy()"
   ]
  },
  {
   "cell_type": "code",
   "execution_count": 30,
   "metadata": {},
   "outputs": [],
   "source": [
    "merged_data = merged_data.drop(columns=['grade'])"
   ]
  },
  {
   "cell_type": "code",
   "execution_count": 31,
   "metadata": {},
   "outputs": [],
   "source": [
    "regr = RandomForestRegressor(random_state=0)"
   ]
  },
  {
   "cell_type": "code",
   "execution_count": 32,
   "metadata": {},
   "outputs": [
    {
     "data": {
      "text/plain": [
       "RandomForestRegressor(random_state=0)"
      ]
     },
     "execution_count": 32,
     "metadata": {},
     "output_type": "execute_result"
    }
   ],
   "source": [
    "regr.fit(merged_data, grades)"
   ]
  },
  {
   "cell_type": "code",
   "execution_count": null,
   "metadata": {},
   "outputs": [],
   "source": [
    "whole_pred = regr.predict(merged_data)"
   ]
  },
  {
   "cell_type": "code",
   "execution_count": null,
   "metadata": {},
   "outputs": [],
   "source": [
    "w_score = regr.score(merged_data, grades)"
   ]
  },
  {
   "cell_type": "code",
   "execution_count": 33,
   "metadata": {},
   "outputs": [],
   "source": [
    "importance_tuple = []\n",
    "for index, column in enumerate(merged_data):\n",
    "    if column == 'grade':\n",
    "        continue\n",
    "    else:\n",
    "        importance_tuple.append((column, regr.feature_importances_[index]))"
   ]
  },
  {
   "cell_type": "code",
   "execution_count": 34,
   "metadata": {},
   "outputs": [
    {
     "data": {
      "text/plain": [
       "[('STAITraitTotal_1', 0.2508245594955221),\n",
       " ('BAIsum_1', 0.24023019048398458),\n",
       " ('CESDOverall_1', 0.23806499272843637),\n",
       " ('lowrangecal', 0.03835678796572077),\n",
       " ('meanrate', 0.028831729672070903),\n",
       " ('sdrate', 0.020742556750171972),\n",
       " ('lowrangemins', 0.018801532238484218),\n",
       " ('sedentaryminutes', 0.017894115267874565),\n",
       " ('lightlyactiveminutes', 0.01680693806382935),\n",
       " ('steps', 0.0161006892895445),\n",
       " ('fatburncal', 0.015280687891898709),\n",
       " ('floors', 0.01422745750333854),\n",
       " ('fatburnmins', 0.012247665422941291),\n",
       " ('veryactiveminutes', 0.011714978385205068),\n",
       " ('fairlyactiveminutes', 0.011667293549292699),\n",
       " ('STAITraitGroup_1_anxious', 0.00864342336533907),\n",
       " ('complypercent', 0.008536959624787384),\n",
       " ('cardiomins', 0.007614140257512989),\n",
       " ('cardiocal', 0.0065708668681415386),\n",
       " ('CESDGroup_1_Not depressed', 0.005462553026932489),\n",
       " ('STAITraitGroup_1_not anxious', 0.005445965150953527),\n",
       " ('peakcal', 0.0016786112220066405),\n",
       " ('CESDGroup_1_Depressed', 0.0016004299754431971),\n",
       " ('BAIgroup_1_moderate', 0.0014802866524124155),\n",
       " ('peakmins', 0.0011315465400037906),\n",
       " ('BAIgroup_1_low', 4.304260815110469e-05)]"
      ]
     },
     "execution_count": 34,
     "metadata": {},
     "output_type": "execute_result"
    }
   ],
   "source": [
    "importance_tuple_sorted = sorted(importance_tuple, key=lambda tup: tup[1], reverse=True)\n",
    "importance_tuple_sorted"
   ]
  }
 ],
 "metadata": {
  "interpreter": {
   "hash": "81794d4967e6c3204c66dcd87b604927b115b27c00565d3d43f05ba2f3a2cb0d"
  },
  "kernelspec": {
   "display_name": "Python 3.9.0 64-bit",
   "language": "python",
   "name": "python3"
  },
  "language_info": {
   "codemirror_mode": {
    "name": "ipython",
    "version": 3
   },
   "file_extension": ".py",
   "mimetype": "text/x-python",
   "name": "python",
   "nbconvert_exporter": "python",
   "pygments_lexer": "ipython3",
   "version": "3.9.0"
  },
  "orig_nbformat": 4
 },
 "nbformat": 4,
 "nbformat_minor": 2
}
