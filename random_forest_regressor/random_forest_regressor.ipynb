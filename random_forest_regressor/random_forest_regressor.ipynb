{
 "cells": [
  {
   "cell_type": "code",
   "execution_count": 1,
   "metadata": {},
   "outputs": [],
   "source": [
    "import pandas as pd\n",
    "import numpy as np\n",
    "from sklearn.ensemble import RandomForestRegressor"
   ]
  },
  {
   "cell_type": "code",
   "execution_count": 3,
   "metadata": {},
   "outputs": [],
   "source": [
    "activity = pd.read_csv('../original_data/activity_date_class.csv')\n",
    "survey_mental_health = pd.read_csv('../original_data/survey_knn_mod_partial/survey_mental_health_1.csv')\n",
    "grades_numeric = pd.read_csv('../grades_numeric.csv')\n"
   ]
  },
  {
   "cell_type": "code",
   "execution_count": 4,
   "metadata": {},
   "outputs": [],
   "source": [
    "overall_columns = ['egoid', 'STAITraitTotal_1', 'CESDOverall_1', 'BAIsum_1', 'STAITraitGroup_1', 'CESDGroup_1', 'BAIgroup_1']\n",
    "\n",
    "survey_mental_health = survey_mental_health[overall_columns].copy()"
   ]
  },
  {
   "cell_type": "code",
   "execution_count": 5,
   "metadata": {},
   "outputs": [],
   "source": [
    "grade_columns = ['egoid', 'grade']\n",
    "\n",
    "grades_numeric = grades_numeric[grade_columns].copy()"
   ]
  },
  {
   "cell_type": "code",
   "execution_count": 5,
   "metadata": {},
   "outputs": [],
   "source": [
    "merged_data = pd.merge(activity, survey_mental_health, on='egoid')\n",
    "merged_data = pd.merge(merged_data, grades_numeric, on='egoid')"
   ]
  },
  {
   "cell_type": "code",
   "execution_count": 6,
   "metadata": {},
   "outputs": [],
   "source": [
    "merged_data = pd.get_dummies(merged_data.dropna().drop('egoid', axis=1))"
   ]
  },
  {
   "cell_type": "code",
   "execution_count": 7,
   "metadata": {},
   "outputs": [],
   "source": [
    "grades = merged_data['grade'].copy()\n"
   ]
  },
  {
   "cell_type": "code",
   "execution_count": 8,
   "metadata": {},
   "outputs": [],
   "source": [
    "merged_data = merged_data.drop(columns=['grade'])"
   ]
  },
  {
   "cell_type": "code",
   "execution_count": 9,
   "metadata": {},
   "outputs": [],
   "source": [
    "regr = RandomForestRegressor(random_state=0)"
   ]
  },
  {
   "cell_type": "code",
   "execution_count": 10,
   "metadata": {},
   "outputs": [
    {
     "data": {
      "text/plain": [
       "RandomForestRegressor(random_state=0)"
      ]
     },
     "execution_count": 10,
     "metadata": {},
     "output_type": "execute_result"
    }
   ],
   "source": [
    "regr.fit(merged_data, grades)"
   ]
  },
  {
   "cell_type": "code",
   "execution_count": 14,
   "metadata": {},
   "outputs": [],
   "source": [
    "whole_pred = regr.predict(merged_data)"
   ]
  },
  {
   "cell_type": "code",
   "execution_count": 13,
   "metadata": {},
   "outputs": [],
   "source": [
    "from sklearn.metrics import mean_absolute_error, mean_squared_error "
   ]
  },
  {
   "cell_type": "code",
   "execution_count": 15,
   "metadata": {},
   "outputs": [],
   "source": [
    "w_mae = mean_absolute_error(grades, whole_pred)\n",
    "w_mse = mean_squared_error(grades, whole_pred)"
   ]
  },
  {
   "cell_type": "code",
   "execution_count": 16,
   "metadata": {},
   "outputs": [],
   "source": [
    "w_score = regr.score(merged_data, grades)"
   ]
  },
  {
   "cell_type": "code",
   "execution_count": 19,
   "metadata": {},
   "outputs": [
    {
     "data": {
      "text/plain": [
       "array([3.44363642e-03, 2.74071230e-02, 6.09534872e-03, 1.14467152e-02,\n",
       "       4.08465903e-03, 5.69018316e-03, 5.22942418e-03, 3.51317081e-03,\n",
       "       3.33285559e-03, 5.30095560e-03, 6.36691479e-03, 9.77120263e-04,\n",
       "       3.43908600e-04, 3.22672200e-02, 3.85361463e-03, 1.89712429e-03,\n",
       "       8.16446515e-04, 2.21630380e-01, 2.92416757e-01, 2.77786515e-01,\n",
       "       4.69079494e-04, 1.09485355e-04, 2.84785054e-04, 1.91138149e-04,\n",
       "       5.40180714e-05, 1.48148509e-04, 2.09869150e-04, 3.34714486e-04,\n",
       "       1.33659008e-04, 2.81135644e-04, 2.93040439e-04, 3.73547241e-02,\n",
       "       3.76219087e-02, 7.07961905e-03, 2.56199881e-04, 2.39802026e-04,\n",
       "       1.03859942e-03])"
      ]
     },
     "execution_count": 19,
     "metadata": {},
     "output_type": "execute_result"
    }
   ],
   "source": [
    "regr.feature_importances_"
   ]
  },
  {
   "cell_type": "code",
   "execution_count": 23,
   "metadata": {},
   "outputs": [],
   "source": [
    "importance_tuple = []\n",
    "for index, column in enumerate(merged_data):\n",
    "    if column == 'grade':\n",
    "        continue\n",
    "    else:\n",
    "        importance_tuple.append((column, regr.feature_importances_[index]))"
   ]
  },
  {
   "cell_type": "code",
   "execution_count": 24,
   "metadata": {},
   "outputs": [
    {
     "data": {
      "text/plain": [
       "[('CESDOverall_1', 0.29241675745304496),\n",
       " ('BAIsum_1', 0.2777865150569703),\n",
       " ('STAITraitTotal_1', 0.22163038018746278),\n",
       " ('STAITraitGroup_1_not anxious', 0.03762190867438285),\n",
       " ('STAITraitGroup_1_anxious', 0.037354724074512236),\n",
       " ('lowrangecal', 0.03226722002850925),\n",
       " ('meanrate', 0.027407123037994904),\n",
       " ('steps', 0.01144671515347985),\n",
       " ('CESDGroup_1_Depressed', 0.007079619052548789),\n",
       " ('fatburnmins', 0.006366914788065835),\n",
       " ('sdrate', 0.006095348724131443),\n",
       " ('sedentaryminutes', 0.0056901831621330055),\n",
       " ('lowrangemins', 0.00530095560200853),\n",
       " ('lightlyactiveminutes', 0.00522942417822645),\n",
       " ('floors', 0.004084659029182556),\n",
       " ('fatburncal', 0.0038536146290157384),\n",
       " ('fairlyactiveminutes', 0.0035131708119278005),\n",
       " ('complypercent', 0.003443636416331849),\n",
       " ('veryactiveminutes', 0.003332855589684163),\n",
       " ('cardiocal', 0.0018971242885426063),\n",
       " ('BAIgroup_1_moderate', 0.001038599417825466),\n",
       " ('cardiomins', 0.0009771202626241218),\n",
       " ('peakcal', 0.0008164465154197175),\n",
       " ('datadate_Class', 0.0004690794942309398),\n",
       " ('peakmins', 0.00034390860032960046),\n",
       " ('datadate_Summer break', 0.0003347144855518708),\n",
       " ('datadate_fall break', 0.0002930404390642408),\n",
       " ('datadate_Final exam', 0.00028478505361586995),\n",
       " ('datadate_Winter break', 0.0002811356443649336),\n",
       " ('CESDGroup_1_Not depressed', 0.0002561998806888764),\n",
       " ('BAIgroup_1_low', 0.00023980202596296873),\n",
       " ('datadate_Spring break', 0.0002098691501813932),\n",
       " ('datadate_Final exams', 0.0001911381489788409),\n",
       " ('datadate_Mid-term break', 0.00014814850878836413),\n",
       " ('datadate_Thanksgiving', 0.0001336590081604953),\n",
       " ('datadate_Easter', 0.00010948535462387119),\n",
       " ('datadate_Mid-Term break', 5.401807143258425e-05)]"
      ]
     },
     "execution_count": 24,
     "metadata": {},
     "output_type": "execute_result"
    }
   ],
   "source": [
    "importance_tuple_sorted = sorted(importance_tuple, key=lambda tup: tup[1], reverse=True)\n",
    "importance_tuple_sorted"
   ]
  }
 ],
 "metadata": {
  "interpreter": {
   "hash": "81794d4967e6c3204c66dcd87b604927b115b27c00565d3d43f05ba2f3a2cb0d"
  },
  "kernelspec": {
   "display_name": "Python 3.9.0 64-bit",
   "language": "python",
   "name": "python3"
  },
  "language_info": {
   "codemirror_mode": {
    "name": "ipython",
    "version": 3
   },
   "file_extension": ".py",
   "mimetype": "text/x-python",
   "name": "python",
   "nbconvert_exporter": "python",
   "pygments_lexer": "ipython3",
   "version": "3.9.0"
  },
  "orig_nbformat": 4
 },
 "nbformat": 4,
 "nbformat_minor": 2
}
