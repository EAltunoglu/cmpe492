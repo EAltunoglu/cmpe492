{
 "cells": [
  {
   "cell_type": "code",
   "execution_count": 1,
   "metadata": {},
   "outputs": [],
   "source": [
    "import pandas as pd\n",
    "from numpy.linalg import eig\n",
    "import scipy.stats as stats\n",
    "import statsmodels.api as sm\n",
    "from statsmodels.formula.api import ols\n",
    "import matplotlib.pyplot as plt\n",
    "import seaborn as sns\n",
    "# from bioinfokit.analys import stat"
   ]
  },
  {
   "cell_type": "code",
   "execution_count": 3,
   "metadata": {},
   "outputs": [
    {
     "name": "stderr",
     "output_type": "stream",
     "text": [
      "C:\\Users\\Eren\\AppData\\Local\\Temp/ipykernel_10732/2755391667.py:1: DtypeWarning: Columns (314,391,392,789,791,792,1124,1125,1227,1228,1231,1232,1477,1478,1554,1555,1556,1557,1558,1559,1561,1568,1571,1678,1687,1745,1746,1818,1836,1837,1843,1844,1849,1851,1852,1853,2072,2116,2117,2264,2266,2280,2281,2282,2283,2289,2290,2483,2484,2501,2502,2508,2509,2699,2711,2712,2830) have mixed types. Specify dtype option on import or set low_memory=False.\n",
      "  survey = pd.read_csv('original_data/survey.csv')\n"
     ]
    }
   ],
   "source": [
    "survey = pd.read_csv('original_data/survey.csv')\n",
    "cols = survey.columns"
   ]
  },
  {
   "cell_type": "code",
   "execution_count": 8,
   "metadata": {},
   "outputs": [],
   "source": [
    "for wave in range(1, 9):\n",
    "    added_cols = ['egoid']\n",
    "    for col in cols:\n",
    "        if col.endswith(f'_{wave}'):\n",
    "            added_cols.append(col)\n",
    "    \n",
    "    survey[added_cols].to_csv('original_data/survey_partial/survey_wave_{}.csv'.format(wave), index=False)"
   ]
  },
  {
   "cell_type": "code",
   "execution_count": 9,
   "metadata": {},
   "outputs": [],
   "source": [
    "personality_inventory = ['Extraversion', 'Agreeableness', 'Conscientiousness', 'Neuroticism', 'Openness']\n",
    "\n",
    "added_cols = ['egoid']\n",
    "for col in cols:\n",
    "    for item in personality_inventory:\n",
    "        if col.startswith(item):\n",
    "            added_cols.append(col)\n",
    "\n",
    "survey[added_cols].to_csv('original_data/survey_partial/survey_personality_inv.csv', index=False)"
   ]
  },
  {
   "cell_type": "code",
   "execution_count": 10,
   "metadata": {},
   "outputs": [],
   "source": [
    "added_cols = ['egoid']\n",
    "\n",
    "for col in cols:\n",
    "    if col.startswith('BigFive'):\n",
    "        added_cols.append(col)\n",
    "\n",
    "survey[added_cols].to_csv('original_data/survey_partial/survey_bigfive.csv', index=False)"
   ]
  },
  {
   "cell_type": "code",
   "execution_count": 12,
   "metadata": {},
   "outputs": [],
   "source": [
    "sleep_prefix = ['PSQI', 'MEQ']\n",
    "\n",
    "added_cols = ['egoid']\n",
    "for col in cols:\n",
    "    for item in sleep_prefix:\n",
    "        if col.startswith(item):\n",
    "            added_cols.append(col)\n",
    "\n",
    "survey[added_cols].to_csv('original_data/survey_partial/survey_sleep.csv', index=False)"
   ]
  },
  {
   "cell_type": "code",
   "execution_count": 13,
   "metadata": {},
   "outputs": [],
   "source": [
    "sleep_prefix = ['STAI', 'BAI', 'Stress', 'BDI', 'CESD']\n",
    "\n",
    "added_cols = ['egoid']\n",
    "for col in cols:\n",
    "    for item in sleep_prefix:\n",
    "        if col.startswith(item):\n",
    "            added_cols.append(col)\n",
    "\n",
    "survey[added_cols].to_csv('original_data/survey_partial/survey_mental_health.csv', index=False)"
   ]
  },
  {
   "cell_type": "code",
   "execution_count": 14,
   "metadata": {},
   "outputs": [],
   "source": [
    "sleep_prefix = ['Weight', 'Height', 'Dieting', 'PhysicalDisability']\n",
    "\n",
    "added_cols = ['egoid']\n",
    "for col in cols:\n",
    "    for item in sleep_prefix:\n",
    "        if col.startswith(item):\n",
    "            added_cols.append(col)\n",
    "\n",
    "survey[added_cols].to_csv('original_data/survey_partial/survey_health.csv', index=False)"
   ]
  },
  {
   "cell_type": "code",
   "execution_count": 15,
   "metadata": {},
   "outputs": [],
   "source": [
    "sleep_prefix = ['hs', 'hsgrade', 'apcourses', 'apexams', 'degreeintent', 'major', 'ndfirst']\n",
    "\n",
    "added_cols = ['egoid']\n",
    "for col in cols:\n",
    "    for item in sleep_prefix:\n",
    "        if col.startswith(item):\n",
    "            added_cols.append(col)\n",
    "\n",
    "survey[added_cols].to_csv('original_data/survey_partial/survey_education.csv', index=False)"
   ]
  },
  {
   "cell_type": "code",
   "execution_count": null,
   "metadata": {},
   "outputs": [],
   "source": [
    "sleep_prefix = ['relative,', 'parent', 'grandparent', 'sibling', 'uncle', 'cousin', 'otherrelative', 'mom', 'dad', 'madad', 'mamo', 'padad', 'pamo', 'yr', 'num', 'adopted', 'birth', 'youre']\n",
    "\n",
    "added_cols = ['egoid']\n",
    "for col in cols:\n",
    "    for item in sleep_prefix:\n",
    "        if col.startswith(item):\n",
    "            added_cols.append(col)\n",
    "\n",
    "survey[added_cols].to_csv('original_data/survey_partial/survey_origin.csv', index=False)"
   ]
  },
  {
   "cell_type": "code",
   "execution_count": 3,
   "metadata": {},
   "outputs": [],
   "source": [
    "# PAGE 59\n",
    "classification = {\n",
    "    'health': ['Weight', 'Height', 'Dieting', 'PhysicalDisability', 'sex', 'gender', 'use',],\n",
    "    'personality_inv': ['Extraversion', 'Agreeableness', 'Conscientiousness', 'Neuroticism', 'Openness'],\n",
    "    'bigfive': ['BigFive'],\n",
    "    'sleep': ['PSQI', 'MEQ'],\n",
    "    'mental_health': ['STAI', 'BAI', 'Stress', 'BDI', 'CESD'],\n",
    "    'education': ['hs', 'hssex', 'hsgrade', 'apcourses', 'apexams', 'degreeintent', 'major', 'ndfirst', 'hrswork'],\n",
    "    'origin': ['gender', 'relative,', 'parent', 'grandparent', 'sibling', 'uncle', 'cousin', 'otherrelative', 'mom', 'dad', 'madad', 'mamo', 'padad', 'pamo', 'yr', 'num', 'adopted', 'birth', 'youre'],\n",
    "    'personal': ['SelfEsteem', 'Trust', 'SelfReg', 'SRQE', 'lonely', 'selsa', 'SelfEff', 'SelfReg', 'selfreg'],\n",
    "    'bad_habits': ['use'],\n",
    "    'exercise': ['exercise', 'clubsports', 'varsitysports', 'swimming'],\n",
    "    'sex': ['sex'] \n",
    "}\n",
    "\n",
    "for _class, prefixes in classification.items(): \n",
    "    for wave in range(1, 9):\n",
    "        added_cols = ['egoid']\n",
    "        \n",
    "        for col in cols:\n",
    "            if col.endswith(f'_{wave}'):\n",
    "                for item in prefixes:\n",
    "                    if col.startswith(item):\n",
    "                        added_cols.append(col)\n",
    "                        break\n",
    "        \n",
    "        survey[added_cols].to_csv('original_data/survey_partial_2/survey_{}_{}.csv'.format(_class, wave), index=False)"
   ]
  },
  {
   "cell_type": "code",
   "execution_count": 2,
   "metadata": {},
   "outputs": [
    {
     "name": "stderr",
     "output_type": "stream",
     "text": [
      "C:\\Users\\Eren\\AppData\\Local\\Temp/ipykernel_6052/293654901.py:19: DtypeWarning: Columns (313,314,391,392,783,786,1117,1118,1213,1220,1221,1224,1366,1367,1465,1466,1467,1468,1543,1544,1545,1546,1547,1548,1550,1557,1559,1662,1669,1727,1728,1800,1801,1818,1819,1825,1826,1831,1833,1834,1835,2052,2096,2097,2244,2245,2260,2261,2262,2263,2269,2270,2463,2464,2481,2482,2488,2489,2679,2689,2690,2691,2692,2808,2809) have mixed types. Specify dtype option on import or set low_memory=False.\n",
      "  survey_m = pd.read_csv(f'original_data/survey_{method}.csv')\n",
      "C:\\Users\\Eren\\AppData\\Local\\Temp/ipykernel_6052/293654901.py:19: DtypeWarning: Columns (313,314,391,392,783,786,1117,1118,1213,1220,1221,1224,1366,1367,1465,1466,1467,1468,1543,1544,1545,1546,1547,1548,1550,1557,1559,1662,1669,1727,1728,1800,1801,1818,1819,1825,1826,1831,1833,1834,1835,2052,2096,2097,2244,2245,2260,2261,2262,2263,2269,2270,2463,2464,2481,2482,2488,2489,2679,2689,2690,2691,2692,2808,2809) have mixed types. Specify dtype option on import or set low_memory=False.\n",
      "  survey_m = pd.read_csv(f'original_data/survey_{method}.csv')\n",
      "C:\\Users\\Eren\\AppData\\Local\\Temp/ipykernel_6052/293654901.py:19: DtypeWarning: Columns (313,314,391,392,783,786,1117,1118,1213,1220,1221,1224,1366,1367,1465,1466,1467,1468,1543,1544,1545,1546,1547,1548,1550,1557,1559,1662,1669,1727,1728,1800,1801,1818,1819,1825,1826,1831,1833,1834,1835,2052,2096,2097,2244,2245,2260,2261,2262,2263,2269,2270,2463,2464,2481,2482,2488,2489,2679,2689,2690,2691,2692,2808,2809) have mixed types. Specify dtype option on import or set low_memory=False.\n",
      "  survey_m = pd.read_csv(f'original_data/survey_{method}.csv')\n"
     ]
    }
   ],
   "source": [
    "# PAGE 59\n",
    "classification = {\n",
    "    'health': ['Weight', 'Height', 'Dieting', 'PhysicalDisability'],\n",
    "    'personality_inv': ['Extraversion', 'Agreeableness', 'Conscientiousness', 'Neuroticism', 'Openness'],\n",
    "    'bigfive': ['BigFive'],\n",
    "    'sleep': ['PSQI', 'MEQ'],\n",
    "    'mental_health': ['STAI', 'BAI', 'Stress', 'BDI', 'CESD'],\n",
    "    'education': ['hs', 'hssex', 'hsgrade', 'apcourses', 'apexams', 'degreeintent', 'major', 'ndfirst', 'hrswork'],\n",
    "    'origin': ['gender', 'relative,', 'parent', 'grandparent', 'sibling', 'uncle', 'cousin', 'otherrelative', 'mom', 'dad', 'madad', 'mamo', 'padad', 'pamo', 'yr', 'num', 'adopted', 'birth', 'youre'],\n",
    "    'personal': ['SelfEsteem', 'Trust', 'SelfReg', 'SRQE', 'lonely', 'selsa', 'SelfEff', 'SelfReg', 'selfreg'],\n",
    "    'bad_habits': ['use'],\n",
    "    'exercise': ['exercise', 'clubsports', 'varsitysports', 'swimming'],\n",
    "    'sex': ['sex'] \n",
    "}\n",
    "\n",
    "imp_methods = ['knn_mod', 'knn', 'mean_mod', 'mean', 'median', 'mod']\n",
    "\n",
    "for method in imp_methods:\n",
    "    survey_m = pd.read_csv(f'original_data/survey_{method}.csv')\n",
    "    cols = survey_m.columns\n",
    "\n",
    "    for _class, prefixes in classification.items(): \n",
    "        for wave in range(1, 9):\n",
    "            added_cols = ['egoid']\n",
    "            \n",
    "            for col in cols:\n",
    "                if col.endswith(f'_{wave}'):\n",
    "                    for item in prefixes:\n",
    "                        if col.startswith(item):\n",
    "                            added_cols.append(col)\n",
    "                            break\n",
    "            \n",
    "            \n",
    "            survey_m[added_cols].to_csv('original_data/survey_{}_partial/survey_{}_{}.csv'.format(method, _class, wave), index=False)"
   ]
  },
  {
   "cell_type": "code",
   "execution_count": 26,
   "metadata": {},
   "outputs": [
    {
     "name": "stdout",
     "output_type": "stream",
     "text": [
      "knn_mod_health_1\n",
      "Index(['Weight_1', 'Height_1', 'Dieting_1', 'PhysicalDisability_1'], dtype='object')\n",
      "      index              variable  value\n",
      "0         0              Weight_1  132.5\n",
      "1         1              Weight_1  135.0\n",
      "2         2              Weight_1  138.0\n",
      "3         3              Weight_1  126.0\n",
      "4         4              Weight_1  150.0\n",
      "...     ...                   ...    ...\n",
      "2883    717  PhysicalDisability_1    0.0\n",
      "2884    718  PhysicalDisability_1    0.0\n",
      "2885    719  PhysicalDisability_1    0.0\n",
      "2886    720  PhysicalDisability_1    0.0\n",
      "2887    721  PhysicalDisability_1    0.0\n",
      "\n",
      "[2888 rows x 3 columns]\n"
     ]
    },
    {
     "name": "stderr",
     "output_type": "stream",
     "text": [
      "C:\\Users\\Eren\\AppData\\Local\\Packages\\PythonSoftwareFoundation.Python.3.9_qbz5n2kfra8p0\\LocalCache\\local-packages\\Python39\\site-packages\\seaborn\\categorical.py:1296: UserWarning: 71.5% of the points cannot be placed; you may want to decrease the size of the markers or use stripplot.\n",
      "  warnings.warn(msg, UserWarning)\n",
      "C:\\Users\\Eren\\AppData\\Local\\Packages\\PythonSoftwareFoundation.Python.3.9_qbz5n2kfra8p0\\LocalCache\\local-packages\\Python39\\site-packages\\seaborn\\categorical.py:1296: UserWarning: 98.2% of the points cannot be placed; you may want to decrease the size of the markers or use stripplot.\n",
      "  warnings.warn(msg, UserWarning)\n"
     ]
    },
    {
     "data": {
      "image/png": "[encoded data removed]",
      "text/plain": [
       "<Figure size 432x288 with 1 Axes>"
      ]
     },
     "metadata": {
      "needs_background": "light"
     },
     "output_type": "display_data"
    },
    {
     "name": "stdout",
     "output_type": "stream",
     "text": [
      "fvalue, pvalue\n",
      "21922.733482364714 0.0\n"
     ]
    },
    {
     "data": {
      "text/html": [
       "<div>\n",
       "<style scoped>\n",
       "    .dataframe tbody tr th:only-of-type {\n",
       "        vertical-align: middle;\n",
       "    }\n",
       "\n",
       "    .dataframe tbody tr th {\n",
       "        vertical-align: top;\n",
       "    }\n",
       "\n",
       "    .dataframe thead th {\n",
       "        text-align: right;\n",
       "    }\n",
       "</style>\n",
       "<table border=\"1\" class=\"dataframe\">\n",
       "  <thead>\n",
       "    <tr style=\"text-align: right;\">\n",
       "      <th></th>\n",
       "      <th>sum_sq</th>\n",
       "      <th>df</th>\n",
       "      <th>F</th>\n",
       "      <th>PR(&gt;F)</th>\n",
       "    </tr>\n",
       "  </thead>\n",
       "  <tbody>\n",
       "    <tr>\n",
       "      <th>C(variable)</th>\n",
       "      <td>1.201793e+07</td>\n",
       "      <td>3.0</td>\n",
       "      <td>21922.733482</td>\n",
       "      <td>0.0</td>\n",
       "    </tr>\n",
       "    <tr>\n",
       "      <th>Residual</th>\n",
       "      <td>5.269979e+05</td>\n",
       "      <td>2884.0</td>\n",
       "      <td>NaN</td>\n",
       "      <td>NaN</td>\n",
       "    </tr>\n",
       "  </tbody>\n",
       "</table>\n",
       "</div>"
      ],
      "text/plain": [
       "                   sum_sq      df             F  PR(>F)\n",
       "C(variable)  1.201793e+07     3.0  21922.733482     0.0\n",
       "Residual     5.269979e+05  2884.0           NaN     NaN"
      ]
     },
     "execution_count": 26,
     "metadata": {},
     "output_type": "execute_result"
    }
   ],
   "source": [
    "classification = {\n",
    "    'health': ['Weight', 'Height', 'Dieting', 'PhysicalDisability'],\n",
    "    'personality_inv': ['Extraversion', 'Agreeableness', 'Conscientiousness', 'Neuroticism', 'Openness'],\n",
    "    'bigfive': ['BigFive'],\n",
    "    'sleep': ['PSQI', 'MEQ'],\n",
    "    'mental_health': ['STAI', 'BAI', 'Stress', 'BDI', 'CESD'],\n",
    "    'education': ['hs', 'hssex', 'hsgrade', 'apcourses', 'apexams', 'degreeintent', 'major', 'ndfirst', 'hrswork'],\n",
    "    'origin': ['relative,', 'parent', 'grandparent', 'sibling', 'uncle', 'cousin', 'otherrelative', 'mom', 'dad', 'madad', 'mamo', 'padad', 'pamo', 'yr', 'num', 'adopted', 'birth', 'youre'],\n",
    "    'personal': ['SelfEsteem', 'Trust', 'SelfReg', 'SRQE', 'lonely', 'selsa', 'SelfEff', 'SelfReg', 'selfreg'],\n",
    "    'bad_habits': ['use'],\n",
    "    'exercise': ['exercise', 'clubsports', 'varsitysports', 'swimming'],\n",
    "    'sex': ['sex', 'gender'] \n",
    "}\n",
    "\n",
    "dc = {\n",
    "    'Strongly Disagree': 1,\n",
    "    'Disagree': 2,\n",
    "    'Neither Agree nor Disagree': 3,\n",
    "    'Agree': 4,\n",
    "    'Strongly Agree': 5,\n",
    "    \n",
    "    'no': 0,\n",
    "    'yes': 1,\n",
    "    \n",
    "    'Almost never': 1,\n",
    "    'Sometimes': 2,\n",
    "    'Often': 3,\n",
    "    'Almost always': 4,\n",
    "}\n",
    "\n",
    "imp_methods = ['knn_mod', 'knn', 'mean_mod', 'mean', 'median', 'mod']\n",
    "\n",
    "for method in imp_methods:\n",
    "    for _class, prefixes in classification.items(): \n",
    "        for wave in range(1, 9):\n",
    "            survey_sub = pd.read_csv('original_data/survey_{}_partial/survey_{}_{}.csv'.format(method, _class, wave))\n",
    "            survey_sub = survey_sub.drop('egoid', axis=1)\n",
    "            \n",
    "            print(f'{method}_{_class}_{wave}')\n",
    "            print(survey_sub.columns)\n",
    "            \n",
    "            survey_sub['Dieting_1'] = survey_sub['Dieting_1'].map(dc, na_action='ignore')\n",
    "            survey_sub['PhysicalDisability_1'] = survey_sub['PhysicalDisability_1'].map(dc, na_action='ignore')\n",
    "            \n",
    "            survey_sub_melt = pd.melt(survey_sub.reset_index(), id_vars=['index'], value_vars=survey_sub.columns)\n",
    "            \n",
    "            print(survey_sub_melt)\n",
    "\n",
    "            ax = sns.boxplot(x='variable', y='value', data=survey_sub_melt, color='#99c2a2')\n",
    "            ax = sns.swarmplot(x=\"variable\", y=\"value\", data=survey_sub_melt, color='#7d0013')\n",
    "            plt.show()\n",
    "\n",
    "            fvalue, pvalue = stats.f_oneway(survey_sub['Weight_1'], survey_sub['Height_1'], survey_sub['Dieting_1'], survey_sub['PhysicalDisability_1'])\n",
    "            print('fvalue, pvalue')\n",
    "            print(fvalue, pvalue)\n",
    "            \n",
    "            model = ols('value ~ C(variable)', data=survey_sub_melt).fit()\n",
    "            anova_table = sm.stats.anova_lm(model, typ=2)\n",
    "            anova_table\n",
    "            \n",
    "            from bioinfokit.analys import stat\n",
    "            res = stat()\n",
    "            res.anova_stat(df=survey_sub_melt, res_var='value', anova_model='value ~ C(variable)')\n",
    "            res.anova_summary\n",
    "\n",
    "            break\n",
    "        break\n",
    "    break\n",
    "\n",
    "anova_table"
   ]
  }
 ],
 "metadata": {
  "interpreter": {
   "hash": "b7433dc76bbec79316ba80912b4bf308cefecc15e81e3f815eeef1d0e9775f42"
  },
  "kernelspec": {
   "display_name": "Python 3.9.12 64-bit (windows store)",
   "language": "python",
   "name": "python3"
  },
  "language_info": {
   "codemirror_mode": {
    "name": "ipython",
    "version": 3
   },
   "file_extension": ".py",
   "mimetype": "text/x-python",
   "name": "python",
   "nbconvert_exporter": "python",
   "pygments_lexer": "ipython3",
   "version": "3.9.13"
  },
  "orig_nbformat": 4
 },
 "nbformat": 4,
 "nbformat_minor": 2
}
