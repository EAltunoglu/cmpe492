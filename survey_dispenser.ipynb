{
 "cells": [
  {
   "cell_type": "code",
   "execution_count": 1,
   "metadata": {},
   "outputs": [],
   "source": [
    "import pandas as pd"
   ]
  },
  {
   "cell_type": "code",
   "execution_count": 2,
   "metadata": {},
   "outputs": [
    {
     "name": "stderr",
     "output_type": "stream",
     "text": [
      "C:\\Users\\Eren\\AppData\\Local\\Temp/ipykernel_18412/2755391667.py:1: DtypeWarning: Columns (314,391,392,789,791,792,1124,1125,1227,1228,1231,1232,1477,1478,1554,1555,1556,1557,1558,1559,1561,1568,1571,1678,1687,1745,1746,1818,1836,1837,1843,1844,1849,1851,1852,1853,2072,2116,2117,2264,2266,2280,2281,2282,2283,2289,2290,2483,2484,2501,2502,2508,2509,2699,2711,2712,2830) have mixed types. Specify dtype option on import or set low_memory=False.\n",
      "  survey = pd.read_csv('original_data/survey.csv')\n"
     ]
    }
   ],
   "source": [
    "survey = pd.read_csv('original_data/survey.csv')\n",
    "cols = survey.columns"
   ]
  },
  {
   "cell_type": "code",
   "execution_count": 8,
   "metadata": {},
   "outputs": [],
   "source": [
    "for wave in range(1, 9):\n",
    "    added_cols = ['egoid']\n",
    "    for col in cols:\n",
    "        if col.endswith(f'_{wave}'):\n",
    "            added_cols.append(col)\n",
    "    \n",
    "    survey[added_cols].to_csv('original_data/survey_partial/survey_wave_{}.csv'.format(wave), index=False)"
   ]
  },
  {
   "cell_type": "code",
   "execution_count": 9,
   "metadata": {},
   "outputs": [],
   "source": [
    "personality_inventory = ['Extraversion', 'Agreeableness', 'Conscientiousness', 'Neuroticism', 'Openness']\n",
    "\n",
    "added_cols = ['egoid']\n",
    "for col in cols:\n",
    "    for item in personality_inventory:\n",
    "        if col.startswith(item):\n",
    "            added_cols.append(col)\n",
    "\n",
    "survey[added_cols].to_csv('original_data/survey_partial/survey_personality_inv.csv', index=False)"
   ]
  },
  {
   "cell_type": "code",
   "execution_count": 10,
   "metadata": {},
   "outputs": [],
   "source": [
    "added_cols = ['egoid']\n",
    "\n",
    "for col in cols:\n",
    "    if col.startswith('BigFive'):\n",
    "        added_cols.append(col)\n",
    "\n",
    "survey[added_cols].to_csv('original_data/survey_partial/survey_bigfive.csv', index=False)"
   ]
  },
  {
   "cell_type": "code",
   "execution_count": 12,
   "metadata": {},
   "outputs": [],
   "source": [
    "sleep_prefix = ['PSQI', 'MEQ']\n",
    "\n",
    "added_cols = ['egoid']\n",
    "for col in cols:\n",
    "    for item in sleep_prefix:\n",
    "        if col.startswith(item):\n",
    "            added_cols.append(col)\n",
    "\n",
    "survey[added_cols].to_csv('original_data/survey_partial/survey_sleep.csv', index=False)"
   ]
  },
  {
   "cell_type": "code",
   "execution_count": 13,
   "metadata": {},
   "outputs": [],
   "source": [
    "sleep_prefix = ['STAI', 'BAI', 'Stress', 'BDI', 'CESD']\n",
    "\n",
    "added_cols = ['egoid']\n",
    "for col in cols:\n",
    "    for item in sleep_prefix:\n",
    "        if col.startswith(item):\n",
    "            added_cols.append(col)\n",
    "\n",
    "survey[added_cols].to_csv('original_data/survey_partial/survey_mental_health.csv', index=False)"
   ]
  },
  {
   "cell_type": "code",
   "execution_count": 14,
   "metadata": {},
   "outputs": [],
   "source": [
    "sleep_prefix = ['Weight', 'Height', 'Dieting', 'PhysicalDisability']\n",
    "\n",
    "added_cols = ['egoid']\n",
    "for col in cols:\n",
    "    for item in sleep_prefix:\n",
    "        if col.startswith(item):\n",
    "            added_cols.append(col)\n",
    "\n",
    "survey[added_cols].to_csv('original_data/survey_partial/survey_health.csv', index=False)"
   ]
  },
  {
   "cell_type": "code",
   "execution_count": 15,
   "metadata": {},
   "outputs": [],
   "source": [
    "sleep_prefix = ['hs', 'hsgrade', 'apcourses', 'apexams', 'degreeintent', 'major', 'ndfirst']\n",
    "\n",
    "added_cols = ['egoid']\n",
    "for col in cols:\n",
    "    for item in sleep_prefix:\n",
    "        if col.startswith(item):\n",
    "            added_cols.append(col)\n",
    "\n",
    "survey[added_cols].to_csv('original_data/survey_partial/survey_education.csv', index=False)"
   ]
  },
  {
   "cell_type": "code",
   "execution_count": null,
   "metadata": {},
   "outputs": [],
   "source": [
    "sleep_prefix = ['relative,', 'parent', 'grandparent', 'sibling', 'uncle', 'cousin', 'otherrelative', 'mom', 'dad', 'madad', 'mamo', 'padad', 'pamo', 'yr', 'num', 'adopted', 'birth', 'youre']\n",
    "\n",
    "added_cols = ['egoid']\n",
    "for col in cols:\n",
    "    for item in sleep_prefix:\n",
    "        if col.startswith(item):\n",
    "            added_cols.append(col)\n",
    "\n",
    "survey[added_cols].to_csv('original_data/survey_partial/survey_origin.csv', index=False)"
   ]
  },
  {
   "cell_type": "code",
   "execution_count": 3,
   "metadata": {},
   "outputs": [],
   "source": [
    "# PAGE 41\n",
    "classification = {\n",
    "    'health': ['Weight', 'Height', 'Dieting', 'PhysicalDisability'],\n",
    "    'personality_inv': ['Extraversion', 'Agreeableness', 'Conscientiousness', 'Neuroticism', 'Openness'],\n",
    "    'bigfive': ['BigFive'],\n",
    "    'sleep': ['PSQI', 'MEQ'],\n",
    "    'mental_health': ['STAI', 'BAI', 'Stress', 'BDI', 'CESD'],\n",
    "    'education': ['hs', 'hssex', 'hsgrade', 'apcourses', 'apexams', 'degreeintent', 'major', 'ndfirst', 'hrswork'],\n",
    "    'origin': ['gender', 'relative,', 'parent', 'grandparent', 'sibling', 'uncle', 'cousin', 'otherrelative', 'mom', 'dad', 'madad', 'mamo', 'padad', 'pamo', 'yr', 'num', 'adopted', 'birth', 'youre'],\n",
    "    'personal': ['SelfEsteem', 'Trust', 'SelfReg', 'SRQE', 'lonely', 'selsa', 'SelfEff', 'SelfReg', 'selfreg'],\n",
    "    'bad_habits': ['use'],\n",
    "    'exercise': ['exercise', 'clubsports', 'varsitysports', 'swimming'],\n",
    "    'sex': ['sex'] \n",
    "}\n",
    "\n",
    "for _class, prefixes in classification.items(): \n",
    "    for wave in range(1, 9):\n",
    "        added_cols = ['egoid']\n",
    "        \n",
    "        for col in cols:\n",
    "            if col.endswith(f'_{wave}'):\n",
    "                for item in prefixes:\n",
    "                    if col.startswith(item):\n",
    "                        added_cols.append(col)\n",
    "                        break\n",
    "        \n",
    "        survey[added_cols].to_csv('original_data/survey_partial_2/survey_{}_{}.csv'.format(_class, wave), index=False)"
   ]
  }
 ],
 "metadata": {
  "interpreter": {
   "hash": "a80e6dafd4e4210dfc488fe76cd91449caa661e442ab457230cddcbd7c756147"
  },
  "kernelspec": {
   "display_name": "Python 3.9.12 64-bit (windows store)",
   "language": "python",
   "name": "python3"
  },
  "language_info": {
   "codemirror_mode": {
    "name": "ipython",
    "version": 3
   },
   "file_extension": ".py",
   "mimetype": "text/x-python",
   "name": "python",
   "nbconvert_exporter": "python",
   "pygments_lexer": "ipython3",
   "version": "3.9.12"
  },
  "orig_nbformat": 4
 },
 "nbformat": 4,
 "nbformat_minor": 2
}
