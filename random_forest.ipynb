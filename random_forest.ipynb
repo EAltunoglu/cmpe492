{
 "cells": [
  {
   "cell_type": "code",
   "execution_count": 1,
   "metadata": {},
   "outputs": [],
   "source": [
    "import pandas as pd\n",
    "import numpy as np\n",
    "from sklearn.model_selection import train_test_split\n",
    "from sklearn.ensemble import RandomForestRegressor, RandomForestClassifier\n",
    "from sklearn.datasets import make_classification"
   ]
  },
  {
   "cell_type": "code",
   "execution_count": 2,
   "metadata": {},
   "outputs": [],
   "source": [
    "activity = pd.read_csv('original_data/activity_date_class.csv')\n",
    "survey_mental_health = pd.read_csv('original_data/survey_knn_mod_partial/survey_mental_health_1.csv')\n",
    "overall_columns = ['egoid', 'STAITraitTotal_1', 'CESDOverall_1', 'BAIsum_1', 'STAITraitGroup_1', 'CESDGroup_1', 'BAIgroup_1']\n",
    "# PSQI_duration_1,PSQIGlobal_1,PSQIGroup_1 ,MEQTotal_1,MEQGroup_1\n",
    "survey_mental_health = survey_mental_health[overall_columns]\n"
   ]
  },
  {
   "cell_type": "code",
   "execution_count": 3,
   "metadata": {},
   "outputs": [],
   "source": [
    "merged_data = pd.merge(activity, survey_mental_health, on='egoid')"
   ]
  },
  {
   "cell_type": "code",
   "execution_count": 37,
   "metadata": {},
   "outputs": [
    {
     "data": {
      "text/plain": [
       "2.23"
      ]
     },
     "execution_count": 37,
     "metadata": {},
     "output_type": "execute_result"
    }
   ],
   "source": [
    "merged_data_D = pd.get_dummies(merged_data.dropna().drop('egoid', axis=1))\n",
    "labels = np.array(merged_data_D['meanrate'])\n",
    "features = merged_data_D.drop('meanrate', axis=1)\n",
    "feature_list = list(features.columns)\n",
    "features = np.array(features)\n",
    "\n",
    "train_features, test_features, train_labels, test_labels = train_test_split(features, labels, test_size = 0.25, random_state = 42)\n",
    "rf = RandomForestRegressor(n_estimators = 100, random_state = 42)\n",
    "rf.fit(train_features, train_labels)\n",
    "predictions = rf.predict(test_features)\n",
    "errors = abs(predictions - test_labels)\n",
    "\n",
    "round(np.mean(errors), 2) # 88.82 for sedantary minutes, # 2.23 for meanrate"
   ]
  },
  {
   "cell_type": "code",
   "execution_count": 39,
   "metadata": {},
   "outputs": [
    {
     "data": {
      "text/plain": [
       "96.83299664213912"
      ]
     },
     "execution_count": 39,
     "metadata": {},
     "output_type": "execute_result"
    }
   ],
   "source": [
    "mape = 100 * (errors / test_labels)\n",
    "accuracy = 100 - np.mean(mape)\n",
    "accuracy"
   ]
  },
  {
   "cell_type": "code",
   "execution_count": 3,
   "metadata": {},
   "outputs": [
    {
     "name": "stdout",
     "output_type": "stream",
     "text": [
      "2.31\n"
     ]
    }
   ],
   "source": [
    "activity = pd.read_csv('original_data/activity_date_class.csv')\n",
    "merged_data_D = pd.get_dummies(activity.dropna().drop('egoid', axis=1))\n",
    "labels = np.array(merged_data_D['meanrate'])\n",
    "features = merged_data_D.drop('meanrate', axis=1)\n",
    "feature_list = list(features.columns)\n",
    "features = np.array(features)\n",
    "\n",
    "train_features, test_features, train_labels, test_labels = train_test_split(features, labels, test_size = 0.25, random_state = 42)\n",
    "rf = RandomForestRegressor(n_estimators = 100, random_state = 42)\n",
    "rf.fit(train_features, train_labels)\n",
    "predictions = rf.predict(test_features)\n",
    "errors = abs(predictions - test_labels)\n",
    "\n",
    "print(round(np.mean(errors), 2)) # 2.23 for meanrate"
   ]
  },
  {
   "cell_type": "code",
   "execution_count": 2,
   "metadata": {},
   "outputs": [],
   "source": [
    "activity_sleep = pd.read_csv('merged_data/activity_sleep_daily_date_class.csv')\n",
    "activity_sleep.drop(['timetobed', 'timeoutofbed'], axis=1, inplace=True)\n",
    "activity_sleep.dropna(inplace=True)\n",
    "\n",
    "survey_mental_health_1 = pd.read_csv('refined_data/survey_mental_health_1.csv')\n",
    "activity_sleep_survey = pd.merge(activity_sleep, survey_mental_health_1, on='egoid')\n",
    "\n"
   ]
  },
  {
   "cell_type": "code",
   "execution_count": null,
   "metadata": {},
   "outputs": [],
   "source": [
    "merged_data_D = pd.get_dummies(activity_sleep_survey.dropna().drop('egoid', axis=1))\n",
    "labels = np.array(merged_data_D['meanrate'])\n",
    "features = merged_data_D.drop('meanrate', axis=1)\n",
    "feature_list = list(features.columns)\n",
    "features = np.array(features)\n",
    "\n",
    "train_features, test_features, train_labels, test_labels = train_test_split(features, labels, test_size = 0.25, random_state = 42)\n",
    "rf = RandomForestRegressor(n_estimators = 100, random_state = 42)\n",
    "rf.fit(train_features, train_labels)\n",
    "predictions = rf.predict(test_features)\n",
    "errors = abs(predictions - test_labels)\n",
    "\n",
    "print(round(np.mean(errors), 2))"
   ]
  }
 ],
 "metadata": {
  "interpreter": {
   "hash": "b7433dc76bbec79316ba80912b4bf308cefecc15e81e3f815eeef1d0e9775f42"
  },
  "kernelspec": {
   "display_name": "Python 3.9.13 64-bit (windows store)",
   "language": "python",
   "name": "python3"
  },
  "language_info": {
   "codemirror_mode": {
    "name": "ipython",
    "version": 3
   },
   "file_extension": ".py",
   "mimetype": "text/x-python",
   "name": "python",
   "nbconvert_exporter": "python",
   "pygments_lexer": "ipython3",
   "version": "3.9.13"
  },
  "orig_nbformat": 4
 },
 "nbformat": 4,
 "nbformat_minor": 2
}
