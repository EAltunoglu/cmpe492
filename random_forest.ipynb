{
 "cells": [
  {
   "cell_type": "code",
   "execution_count": 7,
   "metadata": {},
   "outputs": [],
   "source": [
    "import pandas as pd\n",
    "import numpy as np\n",
    "from sklearn.model_selection import train_test_split\n",
    "from sklearn.ensemble import RandomForestRegressor, RandomForestClassifier\n",
    "from sklearn.datasets import make_classification\n",
    "from sklearn.metrics import classification_report"
   ]
  },
  {
   "cell_type": "code",
   "execution_count": 2,
   "metadata": {},
   "outputs": [],
   "source": [
    "activity = pd.read_csv('original_data/activity_date_class.csv')\n",
    "survey_mental_health = pd.read_csv('original_data/survey_knn_mod_partial/survey_mental_health_1.csv')\n",
    "overall_columns = ['egoid', 'STAITraitTotal_1', 'CESDOverall_1', 'BAIsum_1', 'STAITraitGroup_1', 'CESDGroup_1', 'BAIgroup_1']\n",
    "# PSQI_duration_1,PSQIGlobal_1,PSQIGroup_1 ,MEQTotal_1,MEQGroup_1\n",
    "survey_mental_health = survey_mental_health[overall_columns]\n"
   ]
  },
  {
   "cell_type": "code",
   "execution_count": 3,
   "metadata": {},
   "outputs": [],
   "source": [
    "merged_data = pd.merge(activity, survey_mental_health, on='egoid')"
   ]
  },
  {
   "cell_type": "code",
   "execution_count": 37,
   "metadata": {},
   "outputs": [
    {
     "data": {
      "text/plain": [
       "2.23"
      ]
     },
     "execution_count": 37,
     "metadata": {},
     "output_type": "execute_result"
    }
   ],
   "source": [
    "merged_data_D = pd.get_dummies(merged_data.dropna().drop('egoid', axis=1))\n",
    "labels = np.array(merged_data_D['meanrate'])\n",
    "features = merged_data_D.drop('meanrate', axis=1)\n",
    "feature_list = list(features.columns)\n",
    "features = np.array(features)\n",
    "\n",
    "train_features, test_features, train_labels, test_labels = train_test_split(features, labels, test_size = 0.25, random_state = 42)\n",
    "rf = RandomForestRegressor(n_estimators = 100, random_state = 42)\n",
    "rf.fit(train_features, train_labels)\n",
    "predictions = rf.predict(test_features)\n",
    "errors = abs(predictions - test_labels)\n",
    "\n",
    "round(np.mean(errors), 2) # 88.82 for sedantary minutes, # 2.23 for meanrate"
   ]
  },
  {
   "cell_type": "code",
   "execution_count": 39,
   "metadata": {},
   "outputs": [
    {
     "data": {
      "text/plain": [
       "96.83299664213912"
      ]
     },
     "execution_count": 39,
     "metadata": {},
     "output_type": "execute_result"
    }
   ],
   "source": [
    "mape = 100 * (errors / test_labels)\n",
    "accuracy = 100 - np.mean(mape)\n",
    "accuracy"
   ]
  },
  {
   "cell_type": "code",
   "execution_count": 3,
   "metadata": {},
   "outputs": [
    {
     "name": "stdout",
     "output_type": "stream",
     "text": [
      "2.31\n"
     ]
    }
   ],
   "source": [
    "activity = pd.read_csv('original_data/activity_date_class.csv')\n",
    "merged_data_D = pd.get_dummies(activity.dropna().drop('egoid', axis=1))\n",
    "labels = np.array(merged_data_D['meanrate'])\n",
    "features = merged_data_D.drop('meanrate', axis=1)\n",
    "feature_list = list(features.columns)\n",
    "features = np.array(features)\n",
    "\n",
    "train_features, test_features, train_labels, test_labels = train_test_split(features, labels, test_size = 0.25, random_state = 42)\n",
    "rf = RandomForestRegressor(n_estimators = 100, random_state = 42)\n",
    "rf.fit(train_features, train_labels)\n",
    "predictions = rf.predict(test_features)\n",
    "errors = abs(predictions - test_labels)\n",
    "\n",
    "print(round(np.mean(errors), 2)) # 2.23 for meanrate"
   ]
  },
  {
   "cell_type": "code",
   "execution_count": 4,
   "metadata": {},
   "outputs": [],
   "source": [
    "activity_sleep = pd.read_csv('merged_data/activity_sleep_daily_date_class.csv')\n",
    "activity_sleep.drop(['timetobed', 'timeoutofbed'], axis=1, inplace=True)\n",
    "activity_sleep.dropna(inplace=True)\n",
    "\n",
    "survey_all_1 = pd.read_csv('refined_data/survey_all_1.csv')\n",
    "activity_sleep_survey = pd.merge(activity_sleep, survey_all_1, on='egoid')"
   ]
  },
  {
   "cell_type": "code",
   "execution_count": null,
   "metadata": {},
   "outputs": [],
   "source": [
    "merged_data_D = pd.get_dummies(activity_sleep_survey.dropna().drop('egoid', axis=1))\n",
    "labels = np.array(merged_data_D['meanrate'])\n",
    "features = merged_data_D.drop('meanrate', axis=1)\n",
    "feature_list = list(features.columns)\n",
    "features = np.array(features)\n",
    "\n",
    "train_features, test_features, train_labels, test_labels = train_test_split(features, labels, test_size = 0.25, random_state = 42)\n",
    "rf = RandomForestRegressor(n_estimators = 100, random_state = 42)\n",
    "rf.fit(train_features, train_labels)\n",
    "predictions = rf.predict(test_features)\n",
    "errors = abs(predictions - test_labels)\n",
    "\n",
    "print(round(np.mean(errors), 2)) # 2.22"
   ]
  },
  {
   "cell_type": "code",
   "execution_count": 4,
   "metadata": {},
   "outputs": [
    {
     "data": {
      "text/plain": [
       "steps                                                 0.087835\n",
       "veryactiveminutes                                     0.058759\n",
       "fairlyactiveminutes                                   0.046499\n",
       "lightlyactiveminutes                                  0.040686\n",
       "sedentaryminutes                                      0.039148\n",
       "                                                        ...   \n",
       "birthorder_1_sixth born or later, not the youngest    0.000058\n",
       "MEQGroup_1_definite morning                           0.000058\n",
       "momdec_1                                              0.000046\n",
       "usedrugs_prescr_1_Three times a week or more          0.000038\n",
       "momrace_1_Other                                       0.000022\n",
       "Length: 202, dtype: float64"
      ]
     },
     "execution_count": 4,
     "metadata": {},
     "output_type": "execute_result"
    }
   ],
   "source": [
    "activity_sleep = pd.read_csv('merged_data/activity_sleep_daily_date_class_2015.csv')\n",
    "activity_sleep.drop(['timetobed', 'timeoutofbed'], axis=1, inplace=True)\n",
    "activity_sleep.dropna(inplace=True)\n",
    "\n",
    "survey_all_1 = pd.read_csv('refined_data/survey_all_1.csv')\n",
    "activity_sleep_survey = pd.merge(activity_sleep, survey_all_1, on='egoid')\n",
    "train_data = pd.get_dummies(activity_sleep_survey.dropna().drop(['egoid', 'dataDate'], axis=1))\n",
    "\n",
    "clf = RandomForestClassifier(random_state=33, oob_score=True)\n",
    "clf.fit(train_data, activity_sleep_survey['dataDate'])\n",
    "\n",
    "\n",
    "feature_imp = pd.Series(clf.feature_importances_, index = train_data.columns).sort_values(ascending = False)\n",
    "feature_imp"
   ]
  },
  {
   "cell_type": "code",
   "execution_count": 12,
   "metadata": {},
   "outputs": [
    {
     "name": "stdout",
     "output_type": "stream",
     "text": [
      "              precision    recall  f1-score   support\n",
      "\n",
      "           b       0.78      0.55      0.64      2748\n",
      "           c       0.81      0.95      0.88      7214\n",
      "           f       0.25      0.00      0.01       387\n",
      "\n",
      "    accuracy                           0.81     10349\n",
      "   macro avg       0.62      0.50      0.51     10349\n",
      "weighted avg       0.79      0.81      0.78     10349\n",
      "\n"
     ]
    }
   ],
   "source": [
    "activity_sleep = pd.read_csv('merged_data/activity_sleep_daily_date_class_2015.csv')\n",
    "activity_sleep.drop(['timetobed', 'timeoutofbed'], axis=1, inplace=True)\n",
    "activity_sleep.dropna(inplace=True)\n",
    "\n",
    "survey_all_1 = pd.read_csv('refined_data/survey_all_1.csv')\n",
    "activity_sleep_survey = pd.merge(activity_sleep, survey_all_1, on='egoid')\n",
    "train_data = pd.get_dummies(activity_sleep_survey.dropna().drop(['egoid', 'dataDate'], axis=1))\n",
    "\n",
    "train_features, test_features, train_labels, test_labels = train_test_split(train_data, activity_sleep_survey['dataDate'], test_size = 0.25, random_state = 42)\n",
    "\n",
    "clf = RandomForestClassifier(random_state=33, oob_score=True)\n",
    "clf.fit(train_features, train_labels)\n",
    "y_pred = clf.predict(test_features)\n",
    "\n",
    "\n",
    "# feature_imp = pd.Series(clf.feature_importances_, index = train_data.columns).sort_values(ascending = False)\n",
    "# feature_imp\n",
    "y_true = test_labels\n",
    "print(classification_report(y_true, y_pred))"
   ]
  },
  {
   "cell_type": "code",
   "execution_count": 4,
   "metadata": {},
   "outputs": [
    {
     "data": {
      "text/plain": [
       "0.7399265629529423"
      ]
     },
     "execution_count": 4,
     "metadata": {},
     "output_type": "execute_result"
    }
   ],
   "source": [
    "clf.oob_score_"
   ]
  },
  {
   "cell_type": "code",
   "execution_count": 5,
   "metadata": {},
   "outputs": [
    {
     "data": {
      "text/plain": [
       "1.0"
      ]
     },
     "execution_count": 5,
     "metadata": {},
     "output_type": "execute_result"
    }
   ],
   "source": [
    "clf.score(train_data, activity_sleep_survey['dataDate'])"
   ]
  },
  {
   "cell_type": "code",
   "execution_count": 6,
   "metadata": {},
   "outputs": [
    {
     "data": {
      "text/plain": [
       "0.7433568460720843"
      ]
     },
     "execution_count": 6,
     "metadata": {},
     "output_type": "execute_result"
    }
   ],
   "source": [
    "activity_sleep = pd.read_csv('merged_data/activity_sleep_daily_date_extended_class_2015.csv')\n",
    "activity_sleep.drop(['timetobed', 'timeoutofbed'], axis=1, inplace=True)\n",
    "activity_sleep.dropna(inplace=True)\n",
    "\n",
    "survey_all_1 = pd.read_csv('refined_data/survey_all_1.csv')\n",
    "activity_sleep_survey = pd.merge(activity_sleep, survey_all_1, on='egoid')\n",
    "train_data = pd.get_dummies(activity_sleep_survey.dropna().drop(['egoid', 'dataDate'], axis=1))\n",
    "cols = train_data.columns\n",
    "\n",
    "train_features, test_features, train_labels, test_labels = train_test_split(train_data, activity_sleep_survey['dataDate'], test_size = 0.25, random_state = 42)\n",
    "clf = RandomForestClassifier(random_state=33, oob_score=True)\n",
    "clf.fit(train_features, train_labels)\n",
    "predict_score = clf.score(test_features, test_labels)\n",
    "\n",
    "feature_imp_2 = pd.Series(clf.feature_importances_, index = cols).sort_values(ascending = False)\n",
    "# feature_imp_2\n",
    "predict_score"
   ]
  },
  {
   "cell_type": "code",
   "execution_count": 10,
   "metadata": {},
   "outputs": [
    {
     "name": "stdout",
     "output_type": "stream",
     "text": [
      "              precision    recall  f1-score   support\n",
      "\n",
      "  fall_break       0.35      0.09      0.15       931\n",
      "  fall_class       0.77      0.99      0.86      7214\n",
      "  fall_final       0.00      0.00      0.00       387\n",
      "summer_break       0.64      0.24      0.35      1015\n",
      "winter_break       0.57      0.32      0.41       802\n",
      "\n",
      "    accuracy                           0.74     10349\n",
      "   macro avg       0.47      0.33      0.35     10349\n",
      "weighted avg       0.67      0.74      0.68     10349\n",
      "\n"
     ]
    }
   ],
   "source": [
    "predictions = clf.predict(test_features)\n",
    "\n",
    "y_true = test_labels\n",
    "y_pred = predictions\n",
    "\n",
    "print(classification_report(y_true, y_pred))"
   ]
  },
  {
   "cell_type": "code",
   "execution_count": 15,
   "metadata": {},
   "outputs": [
    {
     "name": "stdout",
     "output_type": "stream",
     "text": [
      "              precision    recall  f1-score   support\n",
      "\n",
      "  fall_break       0.28      0.10      0.14       931\n",
      "  fall_class       0.78      0.98      0.87      7214\n",
      "  fall_final       0.00      0.00      0.00       387\n",
      "summer_break       0.42      0.19      0.26      1015\n",
      "winter_break       0.45      0.31      0.37       802\n",
      "\n",
      "    accuracy                           0.73     10349\n",
      "   macro avg       0.39      0.31      0.33     10349\n",
      "weighted avg       0.65      0.73      0.67     10349\n",
      "\n"
     ]
    },
    {
     "name": "stderr",
     "output_type": "stream",
     "text": [
      "C:\\Users\\Eren\\AppData\\Local\\Packages\\PythonSoftwareFoundation.Python.3.9_qbz5n2kfra8p0\\LocalCache\\local-packages\\Python39\\site-packages\\sklearn\\metrics\\_classification.py:1318: UndefinedMetricWarning: Precision and F-score are ill-defined and being set to 0.0 in labels with no predicted samples. Use `zero_division` parameter to control this behavior.\n",
      "  _warn_prf(average, modifier, msg_start, len(result))\n",
      "C:\\Users\\Eren\\AppData\\Local\\Packages\\PythonSoftwareFoundation.Python.3.9_qbz5n2kfra8p0\\LocalCache\\local-packages\\Python39\\site-packages\\sklearn\\metrics\\_classification.py:1318: UndefinedMetricWarning: Precision and F-score are ill-defined and being set to 0.0 in labels with no predicted samples. Use `zero_division` parameter to control this behavior.\n",
      "  _warn_prf(average, modifier, msg_start, len(result))\n",
      "C:\\Users\\Eren\\AppData\\Local\\Packages\\PythonSoftwareFoundation.Python.3.9_qbz5n2kfra8p0\\LocalCache\\local-packages\\Python39\\site-packages\\sklearn\\metrics\\_classification.py:1318: UndefinedMetricWarning: Precision and F-score are ill-defined and being set to 0.0 in labels with no predicted samples. Use `zero_division` parameter to control this behavior.\n",
      "  _warn_prf(average, modifier, msg_start, len(result))\n"
     ]
    }
   ],
   "source": [
    "activity_sleep = pd.read_csv('merged_data/activity_sleep_daily_date_extended_class_2015.csv')\n",
    "activity_sleep.drop(['timetobed', 'timeoutofbed'], axis=1, inplace=True)\n",
    "activity_sleep.dropna(inplace=True)\n",
    "\n",
    "train_data = pd.get_dummies(activity_sleep.dropna().drop(['egoid', 'dataDate'], axis=1))\n",
    "\n",
    "train_features, test_features, train_labels, test_labels = train_test_split(train_data, activity_sleep['dataDate'], test_size = 0.25, random_state = 42)\n",
    "\n",
    "clf = RandomForestClassifier(random_state=33, oob_score=True)\n",
    "clf.fit(train_features, train_labels)\n",
    "y_pred = clf.predict(test_features)\n",
    "\n",
    "\n",
    "# feature_imp = pd.Series(clf.feature_importances_, index = train_data.columns).sort_values(ascending = False)\n",
    "# feature_imp\n",
    "y_true = test_labels\n",
    "print(classification_report(y_true, y_pred))"
   ]
  },
  {
   "cell_type": "code",
   "execution_count": 16,
   "metadata": {},
   "outputs": [
    {
     "name": "stderr",
     "output_type": "stream",
     "text": [
      "C:\\Users\\Eren\\AppData\\Local\\Packages\\PythonSoftwareFoundation.Python.3.9_qbz5n2kfra8p0\\LocalCache\\local-packages\\Python39\\site-packages\\sklearn\\metrics\\_classification.py:1318: UndefinedMetricWarning: Precision and F-score are ill-defined and being set to 0.0 in labels with no predicted samples. Use `zero_division` parameter to control this behavior.\n",
      "  _warn_prf(average, modifier, msg_start, len(result))\n"
     ]
    },
    {
     "name": "stdout",
     "output_type": "stream",
     "text": [
      "              precision    recall  f1-score   support\n",
      "\n",
      "  fall_break       0.10      0.00      0.00       912\n",
      "  fall_class       0.49      0.55      0.52      7369\n",
      "  fall_final       0.00      0.00      0.00       345\n",
      "spring_break       0.00      0.00      0.00       836\n",
      "spring_class       0.53      0.57      0.55      7249\n",
      "spring_final       0.00      0.00      0.00       348\n",
      "summer_break       0.52      0.71      0.60      6397\n",
      "winter_break       0.41      0.04      0.08      1627\n",
      "\n",
      "    accuracy                           0.51     25083\n",
      "   macro avg       0.25      0.23      0.22     25083\n",
      "weighted avg       0.46      0.51      0.47     25083\n",
      "\n"
     ]
    },
    {
     "name": "stderr",
     "output_type": "stream",
     "text": [
      "C:\\Users\\Eren\\AppData\\Local\\Packages\\PythonSoftwareFoundation.Python.3.9_qbz5n2kfra8p0\\LocalCache\\local-packages\\Python39\\site-packages\\sklearn\\metrics\\_classification.py:1318: UndefinedMetricWarning: Precision and F-score are ill-defined and being set to 0.0 in labels with no predicted samples. Use `zero_division` parameter to control this behavior.\n",
      "  _warn_prf(average, modifier, msg_start, len(result))\n",
      "C:\\Users\\Eren\\AppData\\Local\\Packages\\PythonSoftwareFoundation.Python.3.9_qbz5n2kfra8p0\\LocalCache\\local-packages\\Python39\\site-packages\\sklearn\\metrics\\_classification.py:1318: UndefinedMetricWarning: Precision and F-score are ill-defined and being set to 0.0 in labels with no predicted samples. Use `zero_division` parameter to control this behavior.\n",
      "  _warn_prf(average, modifier, msg_start, len(result))\n"
     ]
    }
   ],
   "source": [
    "activity_sleep = pd.read_csv('merged_data/activity_sleep_daily_date_extended_class_2016.csv')\n",
    "activity_sleep.drop(['timetobed', 'timeoutofbed'], axis=1, inplace=True)\n",
    "activity_sleep.dropna(inplace=True)\n",
    "\n",
    "train_data = pd.get_dummies(activity_sleep.dropna().drop(['egoid', 'dataDate'], axis=1))\n",
    "\n",
    "train_features, test_features, train_labels, test_labels = train_test_split(train_data, activity_sleep['dataDate'], test_size = 0.25, random_state = 42)\n",
    "\n",
    "clf = RandomForestClassifier(random_state=33, oob_score=True)\n",
    "clf.fit(train_features, train_labels)\n",
    "y_pred = clf.predict(test_features)\n",
    "\n",
    "\n",
    "# feature_imp = pd.Series(clf.feature_importances_, index = train_data.columns).sort_values(ascending = False)\n",
    "# feature_imp\n",
    "y_true = test_labels\n",
    "print(classification_report(y_true, y_pred))"
   ]
  },
  {
   "cell_type": "code",
   "execution_count": 18,
   "metadata": {},
   "outputs": [
    {
     "name": "stdout",
     "output_type": "stream",
     "text": [
      "              precision    recall  f1-score   support\n",
      "\n",
      "  fall_break       0.29      0.02      0.03       915\n",
      "  fall_class       0.63      0.71      0.66      7099\n",
      "  fall_final       0.33      0.00      0.01       356\n",
      "spring_break       0.20      0.01      0.03       801\n",
      "spring_class       0.64      0.76      0.70      7123\n",
      "spring_final       0.00      0.00      0.00       304\n",
      "summer_break       0.61      0.73      0.67      6338\n",
      "winter_break       0.53      0.12      0.20      1529\n",
      "\n",
      "    accuracy                           0.62     24465\n",
      "   macro avg       0.40      0.29      0.29     24465\n",
      "weighted avg       0.58      0.62      0.58     24465\n",
      "\n"
     ]
    }
   ],
   "source": [
    "activity_sleep = pd.read_csv('merged_data/activity_sleep_daily_date_extended_class_2016.csv')\n",
    "activity_sleep.drop(['timetobed', 'timeoutofbed'], axis=1, inplace=True)\n",
    "activity_sleep.dropna(inplace=True)\n",
    "\n",
    "survey_all_1 = pd.read_csv('refined_data/survey_all_2.csv')\n",
    "activity_sleep_survey = pd.merge(activity_sleep, survey_all_1, on='egoid')\n",
    "train_data = pd.get_dummies(activity_sleep_survey.dropna().drop(['egoid', 'dataDate'], axis=1))\n",
    "\n",
    "train_features, test_features, train_labels, test_labels = train_test_split(train_data, activity_sleep_survey['dataDate'], test_size = 0.25, random_state = 42)\n",
    "\n",
    "clf = RandomForestClassifier(random_state=33, oob_score=True)\n",
    "clf.fit(train_features, train_labels)\n",
    "y_pred = clf.predict(test_features)\n",
    "\n",
    "y_true = test_labels\n",
    "print(classification_report(y_true, y_pred))"
   ]
  },
  {
   "cell_type": "code",
   "execution_count": null,
   "metadata": {},
   "outputs": [],
   "source": [
    "activity_sleep = pd.read_csv('merged_data/activity_sleep_daily_date_extended_class_2016.csv')\n",
    "activity_sleep.drop(['timetobed', 'timeoutofbed'], axis=1, inplace=True)\n",
    "activity_sleep.dropna(inplace=True)\n",
    "\n",
    "survey_all_1 = pd.read_csv('refined_data/survey_all_1.csv')\n",
    "activity_sleep_survey = pd.merge(activity_sleep, survey_all_1, on='egoid')\n",
    "train_data = pd.get_dummies(activity_sleep_survey.dropna().drop(['egoid', 'dataDate'], axis=1))\n",
    "\n",
    "train_features, test_features, train_labels, test_labels = train_test_split(train_data, activity_sleep_survey['dataDate'], test_size = 0.25, random_state = 42)\n",
    "\n",
    "clf = RandomForestClassifier(random_state=33, oob_score=True)\n",
    "clf.fit(train_features, train_labels)\n",
    "y_pred = clf.predict(test_features)\n",
    "\n",
    "y_true = test_labels\n",
    "print(classification_report(y_true, y_pred))"
   ]
  }
 ],
 "metadata": {
  "interpreter": {
   "hash": "b7433dc76bbec79316ba80912b4bf308cefecc15e81e3f815eeef1d0e9775f42"
  },
  "kernelspec": {
   "display_name": "Python 3.9.13 64-bit (windows store)",
   "language": "python",
   "name": "python3"
  },
  "language_info": {
   "codemirror_mode": {
    "name": "ipython",
    "version": 3
   },
   "file_extension": ".py",
   "mimetype": "text/x-python",
   "name": "python",
   "nbconvert_exporter": "python",
   "pygments_lexer": "ipython3",
   "version": "3.9.13"
  },
  "orig_nbformat": 4
 },
 "nbformat": 4,
 "nbformat_minor": 2
}
