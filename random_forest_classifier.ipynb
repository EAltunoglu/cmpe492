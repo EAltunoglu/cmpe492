{
 "cells": [
  {
   "cell_type": "code",
   "execution_count": 11,
   "metadata": {},
   "outputs": [],
   "source": [
    "import pandas as pd\n",
    "import numpy as np\n",
    "from sklearn.ensemble import RandomForestClassifier"
   ]
  },
  {
   "cell_type": "code",
   "execution_count": 12,
   "metadata": {},
   "outputs": [],
   "source": [
    "activity = pd.read_csv('original_data/activity_date_class.csv')\n",
    "survey_mental_health = pd.read_csv('original_data/survey_knn_mod_partial/survey_mental_health_1.csv')\n",
    "grades_numeric = pd.read_csv('grades_numeric.csv')\n"
   ]
  },
  {
   "cell_type": "code",
   "execution_count": 13,
   "metadata": {},
   "outputs": [],
   "source": [
    "overall_columns = ['egoid', 'STAITraitTotal_1', 'CESDOverall_1', 'BAIsum_1', 'STAITraitGroup_1', 'CESDGroup_1', 'BAIgroup_1']\n",
    "\n",
    "survey_mental_health = survey_mental_health[overall_columns].copy()"
   ]
  },
  {
   "cell_type": "code",
   "execution_count": 14,
   "metadata": {},
   "outputs": [],
   "source": [
    "grade_columns = ['egoid', 'grade']\n",
    "\n",
    "grades_numeric = grades_numeric[grade_columns].copy()"
   ]
  },
  {
   "cell_type": "code",
   "execution_count": 15,
   "metadata": {},
   "outputs": [],
   "source": [
    "merged_data = pd.merge(activity, survey_mental_health, on='egoid')\n",
    "merged_data = pd.merge(merged_data, grades_numeric, on='egoid')"
   ]
  },
  {
   "cell_type": "code",
   "execution_count": 16,
   "metadata": {},
   "outputs": [],
   "source": [
    "merged_data = pd.get_dummies(merged_data.dropna().drop('egoid', axis=1))"
   ]
  },
  {
   "cell_type": "code",
   "execution_count": 17,
   "metadata": {},
   "outputs": [],
   "source": [
    "grades = merged_data['grade'].copy()\n"
   ]
  },
  {
   "cell_type": "code",
   "execution_count": 18,
   "metadata": {},
   "outputs": [],
   "source": [
    "merged_data = merged_data.drop(columns=['grade'])"
   ]
  },
  {
   "cell_type": "code",
   "execution_count": 19,
   "metadata": {},
   "outputs": [],
   "source": [
    "clf = RandomForestClassifier(random_state=0)"
   ]
  },
  {
   "cell_type": "code",
   "execution_count": 20,
   "metadata": {},
   "outputs": [
    {
     "ename": "ValueError",
     "evalue": "Unknown label type: 'continuous'",
     "output_type": "error",
     "traceback": [
      "\u001b[1;31m---------------------------------------------------------------------------\u001b[0m",
      "\u001b[1;31mValueError\u001b[0m                                Traceback (most recent call last)",
      "\u001b[1;32mc:\\Users\\Ekrem\\Desktop\\492 Proje\\cmpe492\\random_forest_classifier.ipynb Cell 10'\u001b[0m in \u001b[0;36m<cell line: 1>\u001b[1;34m()\u001b[0m\n\u001b[1;32m----> <a href='vscode-notebook-cell:/c%3A/Users/Ekrem/Desktop/492%20Proje/cmpe492/random_forest_classifier.ipynb#ch0000009?line=0'>1</a>\u001b[0m clf\u001b[39m.\u001b[39;49mfit(merged_data, grades)\n",
      "File \u001b[1;32mc:\\Python39\\lib\\site-packages\\sklearn\\ensemble\\_forest.py:367\u001b[0m, in \u001b[0;36mBaseForest.fit\u001b[1;34m(self, X, y, sample_weight)\u001b[0m\n\u001b[0;32m    <a href='file:///c%3A/Python39/lib/site-packages/sklearn/ensemble/_forest.py?line=359'>360</a>\u001b[0m         \u001b[39mraise\u001b[39;00m \u001b[39mValueError\u001b[39;00m(\n\u001b[0;32m    <a href='file:///c%3A/Python39/lib/site-packages/sklearn/ensemble/_forest.py?line=360'>361</a>\u001b[0m             \u001b[39m\"\u001b[39m\u001b[39mSum of y is not strictly positive which \u001b[39m\u001b[39m\"\u001b[39m\n\u001b[0;32m    <a href='file:///c%3A/Python39/lib/site-packages/sklearn/ensemble/_forest.py?line=361'>362</a>\u001b[0m             \u001b[39m\"\u001b[39m\u001b[39mis necessary for Poisson regression.\u001b[39m\u001b[39m\"\u001b[39m\n\u001b[0;32m    <a href='file:///c%3A/Python39/lib/site-packages/sklearn/ensemble/_forest.py?line=362'>363</a>\u001b[0m         )\n\u001b[0;32m    <a href='file:///c%3A/Python39/lib/site-packages/sklearn/ensemble/_forest.py?line=364'>365</a>\u001b[0m \u001b[39mself\u001b[39m\u001b[39m.\u001b[39mn_outputs_ \u001b[39m=\u001b[39m y\u001b[39m.\u001b[39mshape[\u001b[39m1\u001b[39m]\n\u001b[1;32m--> <a href='file:///c%3A/Python39/lib/site-packages/sklearn/ensemble/_forest.py?line=366'>367</a>\u001b[0m y, expanded_class_weight \u001b[39m=\u001b[39m \u001b[39mself\u001b[39;49m\u001b[39m.\u001b[39;49m_validate_y_class_weight(y)\n\u001b[0;32m    <a href='file:///c%3A/Python39/lib/site-packages/sklearn/ensemble/_forest.py?line=368'>369</a>\u001b[0m \u001b[39mif\u001b[39;00m \u001b[39mgetattr\u001b[39m(y, \u001b[39m\"\u001b[39m\u001b[39mdtype\u001b[39m\u001b[39m\"\u001b[39m, \u001b[39mNone\u001b[39;00m) \u001b[39m!=\u001b[39m DOUBLE \u001b[39mor\u001b[39;00m \u001b[39mnot\u001b[39;00m y\u001b[39m.\u001b[39mflags\u001b[39m.\u001b[39mcontiguous:\n\u001b[0;32m    <a href='file:///c%3A/Python39/lib/site-packages/sklearn/ensemble/_forest.py?line=369'>370</a>\u001b[0m     y \u001b[39m=\u001b[39m np\u001b[39m.\u001b[39mascontiguousarray(y, dtype\u001b[39m=\u001b[39mDOUBLE)\n",
      "File \u001b[1;32mc:\\Python39\\lib\\site-packages\\sklearn\\ensemble\\_forest.py:734\u001b[0m, in \u001b[0;36mForestClassifier._validate_y_class_weight\u001b[1;34m(self, y)\u001b[0m\n\u001b[0;32m    <a href='file:///c%3A/Python39/lib/site-packages/sklearn/ensemble/_forest.py?line=732'>733</a>\u001b[0m \u001b[39mdef\u001b[39;00m \u001b[39m_validate_y_class_weight\u001b[39m(\u001b[39mself\u001b[39m, y):\n\u001b[1;32m--> <a href='file:///c%3A/Python39/lib/site-packages/sklearn/ensemble/_forest.py?line=733'>734</a>\u001b[0m     check_classification_targets(y)\n\u001b[0;32m    <a href='file:///c%3A/Python39/lib/site-packages/sklearn/ensemble/_forest.py?line=735'>736</a>\u001b[0m     y \u001b[39m=\u001b[39m np\u001b[39m.\u001b[39mcopy(y)\n\u001b[0;32m    <a href='file:///c%3A/Python39/lib/site-packages/sklearn/ensemble/_forest.py?line=736'>737</a>\u001b[0m     expanded_class_weight \u001b[39m=\u001b[39m \u001b[39mNone\u001b[39;00m\n",
      "File \u001b[1;32mc:\\Python39\\lib\\site-packages\\sklearn\\utils\\multiclass.py:197\u001b[0m, in \u001b[0;36mcheck_classification_targets\u001b[1;34m(y)\u001b[0m\n\u001b[0;32m    <a href='file:///c%3A/Python39/lib/site-packages/sklearn/utils/multiclass.py?line=188'>189</a>\u001b[0m y_type \u001b[39m=\u001b[39m type_of_target(y)\n\u001b[0;32m    <a href='file:///c%3A/Python39/lib/site-packages/sklearn/utils/multiclass.py?line=189'>190</a>\u001b[0m \u001b[39mif\u001b[39;00m y_type \u001b[39mnot\u001b[39;00m \u001b[39min\u001b[39;00m [\n\u001b[0;32m    <a href='file:///c%3A/Python39/lib/site-packages/sklearn/utils/multiclass.py?line=190'>191</a>\u001b[0m     \u001b[39m\"\u001b[39m\u001b[39mbinary\u001b[39m\u001b[39m\"\u001b[39m,\n\u001b[0;32m    <a href='file:///c%3A/Python39/lib/site-packages/sklearn/utils/multiclass.py?line=191'>192</a>\u001b[0m     \u001b[39m\"\u001b[39m\u001b[39mmulticlass\u001b[39m\u001b[39m\"\u001b[39m,\n\u001b[1;32m   (...)\u001b[0m\n\u001b[0;32m    <a href='file:///c%3A/Python39/lib/site-packages/sklearn/utils/multiclass.py?line=194'>195</a>\u001b[0m     \u001b[39m\"\u001b[39m\u001b[39mmultilabel-sequences\u001b[39m\u001b[39m\"\u001b[39m,\n\u001b[0;32m    <a href='file:///c%3A/Python39/lib/site-packages/sklearn/utils/multiclass.py?line=195'>196</a>\u001b[0m ]:\n\u001b[1;32m--> <a href='file:///c%3A/Python39/lib/site-packages/sklearn/utils/multiclass.py?line=196'>197</a>\u001b[0m     \u001b[39mraise\u001b[39;00m \u001b[39mValueError\u001b[39;00m(\u001b[39m\"\u001b[39m\u001b[39mUnknown label type: \u001b[39m\u001b[39m%r\u001b[39;00m\u001b[39m\"\u001b[39m \u001b[39m%\u001b[39m y_type)\n",
      "\u001b[1;31mValueError\u001b[0m: Unknown label type: 'continuous'"
     ]
    }
   ],
   "source": [
    "clf.fit(merged_data, grades)"
   ]
  }
 ],
 "metadata": {
  "interpreter": {
   "hash": "81794d4967e6c3204c66dcd87b604927b115b27c00565d3d43f05ba2f3a2cb0d"
  },
  "kernelspec": {
   "display_name": "Python 3.9.0 64-bit",
   "language": "python",
   "name": "python3"
  },
  "language_info": {
   "codemirror_mode": {
    "name": "ipython",
    "version": 3
   },
   "file_extension": ".py",
   "mimetype": "text/x-python",
   "name": "python",
   "nbconvert_exporter": "python",
   "pygments_lexer": "ipython3",
   "version": "3.9.0"
  },
  "orig_nbformat": 4
 },
 "nbformat": 4,
 "nbformat_minor": 2
}
