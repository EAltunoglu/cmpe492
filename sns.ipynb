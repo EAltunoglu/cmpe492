{
 "cells": [
  {
   "cell_type": "code",
   "execution_count": 167,
   "metadata": {},
   "outputs": [],
   "source": [
    "import pandas as pd\n",
    "import seaborn as sns\n",
    "import pandasql as psql\n",
    "import numpy as np\n",
    "# from scipy import stats\n",
    "from scipy.stats import chisquare"
   ]
  },
  {
   "cell_type": "code",
   "execution_count": 168,
   "metadata": {},
   "outputs": [],
   "source": [
    "sleeps = pd.read_csv(\"sleep.csv\")\n",
    "\n",
    "average_sleeps = psql.sqldf(\n",
    "    '''\n",
    "    SELECT\n",
    "        egoid,\n",
    "        dataDate,\n",
    "        SUM(bedtimedur) as bedtimedur,\n",
    "        SUM(minstofallasleep) as minstofallasleep,\n",
    "        SUM(minsafterwakeup) as minsafterwakeup,\n",
    "        SUM(minsasleep) as minsasleep,\n",
    "        SUM(minsawake) as minsawake,\n",
    "        SUM(efficiency * minsasleep) / SUM(minsasleep) as weighted_efficiency\n",
    "    FROM sleeps\n",
    "    GROUP BY egoid, dataDate\n",
    "    '''\n",
    ")\n",
    "average_sleeps.to_csv('sleep_data/average_sleeps_1.csv', index=False)\n",
    "\n",
    "weighted_average_sleeps = psql.sqldf(\n",
    "    '''\n",
    "    SELECT\n",
    "        egoid,\n",
    "        AVG(bedtimedur) as bedtimedur,\n",
    "        AVG(minstofallasleep) as minstofallasleep,\n",
    "        AVG(minsafterwakeup) as minsafterwakeup,\n",
    "        AVG(minsasleep) as minsasleep_avg,\n",
    "        AVG(minsawake) as minsawake,\n",
    "        AVG(weighted_efficiency*100) as efficiency_avg,\n",
    "        AVG(minsasleep*weighted_efficiency) as sleep_score\n",
    "    FROM average_sleeps\n",
    "    GROUP BY egoid\n",
    "    ORDER BY egoid ASC\n",
    "    '''\n",
    ")\n",
    "weighted_average_sleeps.to_csv('sleep_data/weighted_average_sleep.csv', index=False)"
   ]
  },
  {
   "cell_type": "code",
   "execution_count": 169,
   "metadata": {},
   "outputs": [
    {
     "name": "stdout",
     "output_type": "stream",
     "text": [
      "Pearson: 0.08077088921214982\n",
      "Spearmen: 0.05785104640339794\n",
      "Kendall: 0.04193133257913927\n"
     ]
    }
   ],
   "source": [
    "\n",
    "average_grades = pd.read_csv('average_grades.csv')\n",
    "average_sleeps = weighted_average_sleeps\n",
    "# average_sleeps = pd.read_csv('average_sleeps.csv')\n",
    "\n",
    "pearson = average_grades['average_grade'].corr(average_sleeps['sleep_score'])\n",
    "spearmen = average_grades['average_grade'].corr(average_sleeps['sleep_score'], method='spearman')\n",
    "kendall = average_grades['average_grade'].corr(average_sleeps['sleep_score'], method='kendall')\n",
    "\n",
    "print('Pearson:', pearson)\n",
    "print('Spearmen:', spearmen)\n",
    "print('Kendall:', kendall)"
   ]
  },
  {
   "cell_type": "code",
   "execution_count": 170,
   "metadata": {},
   "outputs": [],
   "source": [
    "average_grades = pd.read_csv('average_grades.csv')\n",
    "# average_sleeps = pd.read_csv('average_sleeps.csv')\n",
    "average_sleeps = weighted_average_sleeps\n",
    "\n",
    "sleep_grade_average = pd.merge(average_grades, average_sleeps, on=['egoid'])\n",
    "sleep_grade_average.to_csv('sleep_grade_average.csv')\n",
    "base_matrix = sleep_grade_average[['sleep_score', 'average_grade']]\n",
    "corr_matrix = base_matrix.corr(method='pearson')\n",
    "corr_matrix.to_csv('corr_matrices/pearson_matrix_sleep_grade_average.csv', index=True)\n",
    "corr_matrix = base_matrix.corr(method='kendall')\n",
    "corr_matrix.to_csv('corr_matrices/kendall_matrix_sleep_grade_average.csv', index=True)\n",
    "corr_matrix = base_matrix.corr(method='spearman')\n",
    "corr_matrix.to_csv('corr_matrices/spearman_matrix_sleep_grade_average.csv', index=True)"
   ]
  },
  {
   "cell_type": "code",
   "execution_count": 171,
   "metadata": {},
   "outputs": [
    {
     "name": "stdout",
     "output_type": "stream",
     "text": [
      "[]\n",
      "-0.367307104249635\n"
     ]
    }
   ],
   "source": [
    "# grades_numeric = pd.read_csv('grades_numeric.csv')\n",
    "average_grades = pd.read_csv('average_grades.csv')\n",
    "sleep_grade = pd.merge(average_grades, weighted_average_sleeps, on=['egoid'])\n",
    "sleep_grade.to_csv('sleep_grade_data/sleep_grade_1.csv', index=False)\n",
    "# sleep_grade = sleep_grade[['sleep_score', 'average_grade']]\n",
    "# sleep_grade.drop(['minsawake'], axis=1, inplace=True)\n",
    "sleep_grade.drop(['egoid', 'efficiency_avg', 'sleep_score'], axis=1, inplace=True)\n",
    "\n",
    "# x = sleep_grade.drop(['grade'], axis=1).values\n",
    "# y = sleep_grade['grade'].values\n",
    "x = sleep_grade.drop(['average_grade'], axis=1).values\n",
    "y = sleep_grade['average_grade'].values\n",
    "from dython.nominal import identify_nominal_columns\n",
    "categorical_features=identify_nominal_columns(x)\n",
    "print(categorical_features)\n",
    "# print(x)\n",
    "# print(y)\n",
    "\n",
    "from sklearn.model_selection import train_test_split\n",
    "from sklearn.linear_model import LinearRegression\n",
    "\n",
    "x_train, x_test, y_train, y_test = train_test_split(x, y, test_size=0.3, random_state=0)\n",
    "ml = LinearRegression()\n",
    "ml.fit(x_train, y_train)\n",
    "\n",
    "y_pred = ml.predict(x_test)\n",
    "\n",
    "from sklearn.metrics import r2_score\n",
    "\n",
    "print(r2_score(y_test, y_pred))"
   ]
  },
  {
   "cell_type": "code",
   "execution_count": 172,
   "metadata": {},
   "outputs": [
    {
     "data": {
      "image/png": "[encoded data removed]",
      "text/plain": [
       "<Figure size 1080x720 with 1 Axes>"
      ]
     },
     "metadata": {
      "needs_background": "light"
     },
     "output_type": "display_data"
    }
   ],
   "source": [
    "import matplotlib.pyplot as plt\n",
    "\n",
    "plt.figure(figsize=(15,10))\n",
    "plt.scatter(y_test, y_pred)\n",
    "plt.xlabel('Actual')\n",
    "plt.ylabel('Predicted')\n",
    "plt.show()"
   ]
  },
  {
   "cell_type": "code",
   "execution_count": 173,
   "metadata": {},
   "outputs": [
    {
     "name": "stdout",
     "output_type": "stream",
     "text": [
      "['efficiency_avg', 'sleep_score']\n"
     ]
    }
   ],
   "source": [
    "grades_numeric = pd.read_csv('grades_numeric.csv')\n",
    "sleep_grade = pd.merge(grades_numeric, average_sleeps, on=['egoid'])\n",
    "sleep_grade.to_csv('sleep_grade.csv', index=False)\n",
    "\n",
    "# sleep_grade.drop('')\n",
    "corr_matrix = sleep_grade.corr().abs()\n",
    "corr_matrix.to_csv('corr_matrix.csv', index=True)\n",
    "upper = corr_matrix.where(np.triu(np.ones(corr_matrix.shape), k=1).astype(bool))\n",
    "to_drop = [column for column in upper.columns if any(upper[column] > 0.95)]\n",
    "# df.drop(to_drop, axis=1, inplace=True)\n",
    "print(to_drop)"
   ]
  },
  {
   "cell_type": "code",
   "execution_count": 174,
   "metadata": {},
   "outputs": [],
   "source": [
    "# sns.pairplot(sleep_grade, hue='egoid')"
   ]
  }
 ],
 "metadata": {
  "interpreter": {
   "hash": "a80e6dafd4e4210dfc488fe76cd91449caa661e442ab457230cddcbd7c756147"
  },
  "kernelspec": {
   "display_name": "Python 3.9.10 64-bit (windows store)",
   "language": "python",
   "name": "python3"
  },
  "language_info": {
   "codemirror_mode": {
    "name": "ipython",
    "version": 3
   },
   "file_extension": ".py",
   "mimetype": "text/x-python",
   "name": "python",
   "nbconvert_exporter": "python",
   "pygments_lexer": "ipython3",
   "version": "3.9.10"
  },
  "orig_nbformat": 4
 },
 "nbformat": 4,
 "nbformat_minor": 2
}
