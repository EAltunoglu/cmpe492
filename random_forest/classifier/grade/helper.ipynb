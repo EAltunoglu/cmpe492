{
 "cells": [
  {
   "cell_type": "code",
   "execution_count": 2,
   "metadata": {},
   "outputs": [],
   "source": [
    "import pandas as pd\n",
    "import numpy as np\n",
    "from sklearn.model_selection import train_test_split\n",
    "from sklearn.ensemble import RandomForestRegressor, RandomForestClassifier\n",
    "from sklearn.datasets import make_classification\n",
    "from sklearn.metrics import classification_report"
   ]
  },
  {
   "cell_type": "code",
   "execution_count": 3,
   "metadata": {},
   "outputs": [
    {
     "name": "stdout",
     "output_type": "stream",
     "text": [
      "Wave:  1\n",
      "              precision    recall  f1-score   support\n",
      "\n",
      "           A       0.53      0.66      0.59     10469\n",
      "          A-       0.24      0.21      0.23      4887\n",
      "           B       0.11      0.09      0.10      1824\n",
      "          B+       0.13      0.09      0.10      2486\n",
      "          B-       0.07      0.05      0.06       635\n",
      "           C       0.03      0.01      0.02       304\n",
      "          C+       0.05      0.03      0.04       388\n",
      "          C-       0.17      0.20      0.18        85\n",
      "           S       0.12      0.06      0.08      1070\n",
      "\n",
      "    accuracy                           0.38     22148\n",
      "   macro avg       0.16      0.16      0.15     22148\n",
      "weighted avg       0.34      0.38      0.36     22148\n",
      "\n"
     ]
    }
   ],
   "source": [
    "# missing 201500 201700 201800 201810\n",
    "#               201510       201520       201600       201610      201620      201710      201720      201820\n",
    "# academic_periods = [201510, 201520, 201600, 201610, 201620, 201710, 201720, 201820]\n",
    "\n",
    "for wave in range(1, 2):\n",
    "    print('Wave: ', wave)\n",
    "    data = pd.read_csv(f'../../../final_data/activity_sleep_survey_grade/activity_sleep_survey_grade_{wave}.csv')\n",
    "\n",
    "    train_data = pd.get_dummies(data.drop(['egoid', 'FinalGrade', 'CourseReferenceNumber'], axis=1))\n",
    "\n",
    "    train_features, test_features, train_labels, test_labels = train_test_split(train_data, data['FinalGrade'], test_size = 0.25, random_state = 42)\n",
    "\n",
    "    clf = RandomForestClassifier(n_estimators=1000, random_state=33, oob_score=True)\n",
    "    clf.fit(train_features, train_labels)\n",
    "\n",
    "    print(classification_report(test_labels, clf.predict(test_features)))"
   ]
  },
  {
   "cell_type": "code",
   "execution_count": 4,
   "metadata": {},
   "outputs": [
    {
     "data": {
      "text/plain": [
       "daddec_1                                         0.000000\n",
       "momdec_1                                         0.000000\n",
       "AcademicPeriod                                   0.000000\n",
       "usedrugs_prescr_1_Less than 1-2 times a month    0.000031\n",
       "exercise_1_0                                     0.000051\n",
       "                                                   ...   \n",
       "timeoutofbed                                     0.023634\n",
       "timetobed                                        0.023785\n",
       "efficiency                                       0.023994\n",
       "lowrangecal                                      0.024027\n",
       "meanrate                                         0.024271\n",
       "Length: 204, dtype: float64"
      ]
     },
     "execution_count": 4,
     "metadata": {},
     "output_type": "execute_result"
    }
   ],
   "source": [
    "feature_imp = pd.Series(clf.feature_importances_, index = train_data.columns).sort_values(ascending = True)\n",
    "feature_imp"
   ]
  },
  {
   "cell_type": "code",
   "execution_count": 5,
   "metadata": {},
   "outputs": [
    {
     "name": "stdout",
     "output_type": "stream",
     "text": [
      "sedentaryminutes 196\n"
     ]
    }
   ],
   "source": [
    "count_val = 0; counter = 0\n",
    "\n",
    "for feature, value in feature_imp.items():\n",
    "    count_val += value\n",
    "    counter += 1\n",
    "    if count_val >= 0.80:\n",
    "        print(feature, counter)\n",
    "        break"
   ]
  },
  {
   "cell_type": "code",
   "execution_count": 29,
   "metadata": {},
   "outputs": [],
   "source": [
    "colors = ['#66afe9', '#66afe9', '#144281', '#144281', '#144281', '#66afe9', '#66afe9', '#66afe9', '#66afe9', '#66afe9', '#66afe9', '#144281', '#144281', '#66afe9', '#144281', '#66afe9', '#66afe9', '#66afe9', '#66afe9', '#144281']"
   ]
  },
  {
   "cell_type": "code",
   "execution_count": 30,
   "metadata": {},
   "outputs": [
    {
     "data": {
      "image/png": "[encoded data removed]",
      "text/plain": [
       "<Figure size 432x288 with 1 Axes>"
      ]
     },
     "metadata": {
      "needs_background": "light"
     },
     "output_type": "display_data"
    }
   ],
   "source": [
    "ax = feature_imp[-20:].plot.barh(color= [ elem for elem in reversed(colors) ])\n",
    "ax.set_title(\"Random Forest Feature Importances (MDI)\")\n",
    "ax.figure.tight_layout()"
   ]
  },
  {
   "cell_type": "code",
   "execution_count": null,
   "metadata": {},
   "outputs": [],
   "source": []
  }
 ],
 "metadata": {
  "interpreter": {
   "hash": "81794d4967e6c3204c66dcd87b604927b115b27c00565d3d43f05ba2f3a2cb0d"
  },
  "kernelspec": {
   "display_name": "Python 3.9.0 64-bit",
   "language": "python",
   "name": "python3"
  },
  "language_info": {
   "codemirror_mode": {
    "name": "ipython",
    "version": 3
   },
   "file_extension": ".py",
   "mimetype": "text/x-python",
   "name": "python",
   "nbconvert_exporter": "python",
   "pygments_lexer": "ipython3",
   "version": "3.9.0"
  },
  "orig_nbformat": 4
 },
 "nbformat": 4,
 "nbformat_minor": 2
}
