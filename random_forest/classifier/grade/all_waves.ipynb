{
 "cells": [
  {
   "cell_type": "code",
   "execution_count": 2,
   "metadata": {},
   "outputs": [],
   "source": [
    "import pandas as pd\n",
    "import numpy as np\n",
    "from sklearn.model_selection import train_test_split\n",
    "from sklearn.ensemble import RandomForestRegressor, RandomForestClassifier\n",
    "from sklearn.datasets import make_classification\n",
    "from sklearn.metrics import classification_report"
   ]
  },
  {
   "cell_type": "code",
   "execution_count": 3,
   "metadata": {},
   "outputs": [
    {
     "name": "stdout",
     "output_type": "stream",
     "text": [
      "Wave:  1\n",
      "              precision    recall  f1-score   support\n",
      "\n",
      "           A       0.74      0.80      0.77     10469\n",
      "          A-       0.52      0.47      0.49      4887\n",
      "           B       0.26      0.24      0.25      1824\n",
      "          B+       0.26      0.22      0.24      2486\n",
      "          B-       0.14      0.12      0.13       635\n",
      "           C       0.16      0.17      0.17       304\n",
      "          C+       0.16      0.19      0.17       388\n",
      "          C-       0.13      0.15      0.14        85\n",
      "           S       0.18      0.17      0.17      1070\n",
      "\n",
      "    accuracy                           0.55     22148\n",
      "   macro avg       0.28      0.28      0.28     22148\n",
      "weighted avg       0.53      0.55      0.54     22148\n",
      "\n",
      "Wave:  2\n",
      "              precision    recall  f1-score   support\n",
      "\n",
      "           A       0.76      0.84 