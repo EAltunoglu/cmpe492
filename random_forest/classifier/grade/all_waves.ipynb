{
 "cells": [
  {
   "cell_type": "code",
   "execution_count": 2,
   "metadata": {},
   "outputs": [],
   "source": [
    "import pandas as pd\n",
    "import numpy as np\n",
    "from sklearn.model_selection import train_test_split\n",
    "from sklearn.ensemble import RandomForestRegressor, RandomForestClassifier\n",
    "from sklearn.datasets import make_classification\n",
    "from sklearn.metrics import classification_report"
   ]
  },
  {
   "cell_type": "code",
   "execution_count": 3,
   "metadata": {},
   "outputs": [
    {
     "name": "stdout",
     "output_type": "stream",
     "text": [
      "Wave:  1\n",
      "              precision    recall  f1-score   support\n",
      "\n",
      "           A       0.53      0.66      0.59     10469\n",
      "          A-       0.24      0.21      0.23      4887\n",
      "           B       0.11      0.09      0.10      1824\n",
      "          B+       0.13      0.09      0.10      2486\n",
      "          B-       0.07      0.05      0.06       635\n",
      "           C       0.03      0.01      0.02       304\n",
      "          C+       0.05      0.03      0.04       388\n",
      "          C-       0.17      0.20      0.18        85\n",
      "           S       0.12      0.06      0.08      1070\n",
      "\n",
      "    accuracy                           0.38     22148\n",
      "   macro avg       0.16      0.16      0.15     22148\n",
      "weighted avg       0.34      0.38      0.36     22148\n",
      "\n"
     ]
    }
   ],
   "source": [
    "# missing 201500 201700 201800 201810\n",
    "#               201510       201520       201600       201610      201620      201710      201720      201820\n",
    "# academic_periods = [201510, 201520, 201600, 201610, 201620, 201710, 201720, 201820]\n",
    "\n",
    "for wave in range(1, 2):\n",
    "    print('Wave: ', wave)\n",
    "    data = pd.read_csv(f'../../../final_data/activity_sleep_survey_grade/activity_sleep_survey_grade_{wave}.csv')\n",
    "\n",
    "    train_data = pd.get_dummies(data.drop(['egoid', 'FinalGrade', 'CourseReferenceNumber'], axis=1))\n",
    "\n",
    "    train_features, test_features, train_labels, test_labels = train_test_split(train_data, data['FinalGrade'], test_size = 0.25, random_state = 42)\n",
    "\n",
    "    clf = RandomForestClassifier(n_estimators=1000, random_state=33, oob_score=True)\n",
    "    clf.fit(train_features, train_labels)\n",
    "\n",
    "    print(classification_report(test_labels, clf.predict(test_features)))"
   ]
  },
  {
   "cell_type": "code",
   "execution_count": 5,
   "metadata": {},
   "outputs": [
    {
     "name": "stdout",
     "output_type": "stream",
     "text": [
      "Wave:  1\n",
      "              precision    recall  f1-score   support\n",
      "\n",
      "           A       0.73      0.80      0.76     10469\n",
      "          A-       0.51      0.47      0.49      4887\n",
      "           B       0.24      0.22      0.23      1824\n",
      "          B+       0.23      0.20      0.22      2486\n",
      "          B-       0.13      0.11      0.12       635\n",
      "           C       0.15      0.15      0.15       304\n",
      "          C+       0.16      0.19      0.17       388\n",
      "          C-       0.13      0.15      0.14        85\n",
      "           S       0.15      0.15      0.15      1070\n",
      "\n",
      "    accuracy                           0.54     22148\n",
      "   macro avg       0.27      0.27      0.27     22148\n",
      "weighted avg       0.52      0.54      0.53     22148\n",
      "\n"
     ]
    }
   ],
   "source": [
    "# missing 201500 201700 201800 201810\n",
    "#               201510       201520       201600       201610      201620      201710      201720      201820\n",
    "# academic_periods = [201510, 201520, 201600, 201610, 201620, 201710, 201720, 201820]\n",
    "\n",
    "for wave in range(1, 2):\n",
    "    print('Wave: ', wave)\n",
    "    data = pd.read_csv(f'../../../final_data/activity_sleep_survey_grade/activity_sleep_survey_grade_{wave}.csv')\n",
    "\n",
    "    train_data = pd.get_dummies(data.drop(['egoid', 'FinalGrade'], axis=1))\n",
    "\n",
    "    train_features, test_features, train_labels, test_labels = train_test_split(train_data, data['FinalGrade'], test_size = 0.25, random_state = 42)\n",
    "\n",
    "    clf = RandomForestClassifier(n_estimators=1000, random_state=33, oob_score=True)\n",
    "    clf.fit(train_features, train_labels)\n",
    "\n",
    "    print(classification_report(test_labels, clf.predict(test_features)))"
   ]
  },
  {
   "cell_type": "code",
   "execution_count": 8,
   "metadata": {},
   "outputs": [
    {
     "data": {
      "text/plain": [
       "CourseReferenceNumber                            0.585728\n",
       "meanrate                                         0.008811\n",
       "lowrangecal                                      0.008766\n",
       "efficiency                                       0.008713\n",
       "timetobed                                        0.008568\n",
       "                                                   ...   \n",
       "exercise_1_0                                     0.000031\n",
       "usedrugs_prescr_1_Less than 1-2 times a month    0.000017\n",
       "daddec_1                                         0.000000\n",
       "momdec_1                                         0.000000\n",
       "AcademicPeriod                                   0.000000\n",
       "Length: 205, dtype: float64"
      ]
     },
     "execution_count": 8,
     "metadata": {},
     "output_type": "execute_result"
    }
   ],
   "source": [
    "feature_imp = pd.Series(clf.feature_importances_, index = train_data.columns).sort_values(ascending = False)\n",
    "feature_imp"
   ]
  }
 ],
 "metadata": {
  "interpreter": {
   "hash": "81794d4967e6c3204c66dcd87b604927b115b27c00565d3d43f05ba2f3a2cb0d"
  },
  "kernelspec": {
   "display_name": "Python 3.9.0 64-bit",
   "language": "python",
   "name": "python3"
  },
  "language_info": {
   "codemirror_mode": {
    "name": "ipython",
    "version": 3
   },
   "file_extension": ".py",
   "mimetype": "text/x-python",
   "name": "python",
   "nbconvert_exporter": "python",
   "pygments_lexer": "ipython3",
   "version": "3.9.0"
  },
  "orig_nbformat": 4
 },
 "nbformat": 4,
 "nbformat_minor": 2
}
