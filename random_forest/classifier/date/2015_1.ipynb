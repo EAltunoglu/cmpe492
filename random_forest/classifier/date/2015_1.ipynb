{
 "cells": [
  {
   "cell_type": "code",
   "execution_count": 1,
   "metadata": {},
   "outputs": [],
   "source": [
    "import pandas as pd\n",
    "import numpy as np\n",
    "import matplotlib.pyplot as plt\n",
    "from sklearn.model_selection import train_test_split\n",
    "from sklearn.ensemble import RandomForestRegressor, RandomForestClassifier\n",
    "from sklearn.datasets import make_classification\n",
    "from sklearn.metrics import classification_report, confusion_matrix, plot_confusion_matrix, ConfusionMatrixDisplay"
   ]
  },
  {
   "cell_type": "code",
   "execution_count": 3,
   "metadata": {},
   "outputs": [],
   "source": [
    "# train for 3 date class: break/class/final\n",
    "\n",
    "activity_sleep_survey = pd.read_csv('../../../merged_data/activity_sleep_daily_date_class_2015.csv')\n",
    "activity_sleep_survey.drop(['timetobed', 'timeoutofbed'], axis=1, inplace=True)\n",
    "activity_sleep_survey.dropna(inplace=True)"
   ]
  },
  {
   "cell_type": "code",
   "execution_count": 5,
   "metadata": {},
   "outputs": [
    {
     "data": {
      "text/plain": [
       "RandomForestClassifier(oob_score=True, random_state=33)"
      ]
     },
     "execution_count": 5,
     "metadata": {},
     "output_type": "execute_result"
    }
   ],
   "source": [
    "train_data = pd.get_dummies(activity_sleep_survey.dropna().drop(['egoid', 'dataDate'], axis=1))\n",
    "\n",
    "clf1 = RandomForestClassifier(random_state=33, oob_score=True)\n",
    "clf1.fit(train_data, activity_sleep_survey['dataDate'])"
   ]
  },
  {
   "cell_type": "code",
   "execution_count": 6,
   "metadata": {},
   "outputs": [
    {
     "data": {
      "text/plain": [
       "steps                   0.158503\n",
       "lightlyactiveminutes    0.075563\n",
       "veryactiveminutes       0.064706\n",
       "sedentaryminutes        0.062412\n",
       "fairlyactiveminutes     0.059132\n",
       "fatburncal              0.053465\n",
       "bedtimedur              0.049077\n",
       "minsasleep              0.045499\n",
       "sdrate                  0.044998\n",
       "lowrangecal             0.044847\n",
       "floors                  0.043963\n",
       "meanrate                0.042340\n",
       "fatburnmins             0.040749\n",
       "lowrangemins            0.038759\n",
       "efficiency              0.036417\n",
       "minsawake               0.031357\n",
       "complypercent           0.025715\n",
       "minstofallasleep        0.022304\n",
       "cardiocal               0.019650\n",
       "cardiomins              0.014998\n",
       "minsafterwakeup         0.013848\n",
       "peakcal                 0.006441\n",
       "peakmins                0.005255\n",
       "dtype: float64"
      ]
     },
     "execution_count": 6,
     "metadata": {},
     "output_type": "execute_result"
    }
   ],
   "source": [
    "feature_imp = pd.Series(clf1.feature_importances_, index = train_data.columns).sort_values(ascending = False)\n",
    "feature_imp"
   ]
  },
  {
   "cell_type": "code",
   "execution_count": 7,
   "metadata": {},
   "outputs": [
    {
     "name": "stdout",
     "output_type": "stream",
     "text": [
      "              precision    recall  f1-score   support\n",
      "\n",
      "           b       0.75      0.60      0.67      2748\n",
      "           c       0.83      0.94      0.88      7214\n",
      "           f       0.00      0.00      0.00       387\n",
      "\n",
      "    accuracy                           0.81     10349\n",
      "   macro avg       0.53      0.51      0.51     10349\n",
      "weighted avg       0.78      0.81      0.79     10349\n",
      "\n"
     ]
    },
    {
     "name": "stderr",
     "output_type": "stream",
     "text": [
      "c:\\Python39\\lib\\site-packages\\sklearn\\metrics\\_classification.py:1318: UndefinedMetricWarning: Precision and F-score are ill-defined and being set to 0.0 in labels with no predicted samples. Use `zero_division` parameter to control this behavior.\n",
      "  _warn_prf(average, modifier, msg_start, len(result))\n",
      "c:\\Python39\\lib\\site-packages\\sklearn\\metrics\\_classification.py:1318: UndefinedMetricWarning: Precision and F-score are ill-defined and being set to 0.0 in labels with no predicted samples. Use `zero_division` parameter to control this behavior.\n",
      "  _warn_prf(average, modifier, msg_start, len(result))\n",
      "c:\\Python39\\lib\\site-packages\\sklearn\\metrics\\_classification.py:1318: UndefinedMetricWarning: Precision and F-score are ill-defined and being set to 0.0 in labels with no predicted samples. Use `zero_division` parameter to control this behavior.\n",
      "  _warn_prf(average, modifier, msg_start, len(result))\n"
     ]
    }
   ],
   "source": [
    "train_features, test_features, train_labels, test_labels = train_test_split(train_data, activity_sleep_survey['dataDate'], test_size = 0.25, random_state = 42)\n",
    "\n",
    "clf2 = RandomForestClassifier(random_state=33, oob_score=True)\n",
    "clf2.fit(train_features, train_labels)\n",
    "\n",
    "print(classification_report(test_labels, clf2.predict(test_features)))"
   ]
  },
  {
   "cell_type": "code",
   "execution_count": 8,
   "metadata": {},
   "outputs": [
    {
     "data": {
      "text/plain": [
       "0.8022997391052276"
      ]
     },
     "execution_count": 8,
     "metadata": {},
     "output_type": "execute_result"
    }
   ],
   "source": [
    "clf2.oob_score_"
   ]
  },
  {
   "cell_type": "code",
   "execution_count": 10,
   "metadata": {},
   "outputs": [
    {
     "name": "stdout",
     "output_type": "stream",
     "text": [
      "              precision    recall  f1-score   support\n",
      "\n",
      "  fall_break       0.35      0.09      0.15       931\n",
      "  fall_class       0.77      0.99      0.86      7214\n",
      "  fall_final       0.00      0.00      0.00       387\n",
      "summer_break       0.64      0.24      0.35      1015\n",
      "winter_break       0.57      0.32      0.41       802\n",
      "\n",
      "    accuracy                           0.74     10349\n",
      "   macro avg       0.47      0.33      0.35     10349\n",
      "weighted avg       0.67      0.74      0.68     10349\n",
      "\n"
     ]
    }
   ],
   "source": [
    "# train for 5 date class: summer break / fall class / fall break / fall final / winter break\n",
    "\n",
    "activity_sleep_survey = pd.read_csv('../../final_data/activity_sleep_survey_date_extended_class_2015_1.csv')\n",
    "activity_sleep_survey.drop(['timetobed', 'timeoutofbed'], axis=1, inplace=True)\n",
    "activity_sleep_survey.dropna(inplace=True)\n",
    "\n",
    "train_data = pd.get_dummies(activity_sleep_survey.dropna().drop(['egoid', 'dataDate'], axis=1))\n",
    "cols = train_data.columns\n",
    "\n",
    "train_features, test_features, train_labels, test_labels = train_test_split(train_data, activity_sleep_survey['dataDate'], test_size = 0.25, random_state = 42)\n",
    "clf3 = RandomForestClassifier(random_state=33, oob_score=True)\n",
    "clf3.fit(train_features, train_labels)\n",
    "\n",
    "\n",
    "print(classification_report(test_labels, clf3.predict(test_features)))"
   ]
  },
  {
   "cell_type": "code",
   "execution_count": 15,
   "metadata": {},
   "outputs": [
    {
     "name": "stdout",
     "output_type": "stream",
     "text": [
      "              precision    recall  f1-score   support\n",
      "\n",
      "  fall_break       0.28      0.10      0.14       931\n",
      "  fall_class       0.78      0.98      0.87      7214\n",
      "  fall_final       0.00      0.00      0.00       387\n",
      "summer_break       0.42      0.19      0.26      1015\n",
      "winter_break       0.45      0.31      0.37       802\n",
      "\n",
      "    accuracy                           0.73     10349\n",
      "   macro avg       0.39      0.31      0.33     10349\n",
      "weighted avg       0.65      0.73      0.67     10349\n",
      "\n"
     ]
    },
    {
     "name": "stderr",
     "output_type": "stream",
     "text": [
      "c:\\Python39\\lib\\site-packages\\sklearn\\metrics\\_classification.py:1318: UndefinedMetricWarning: Precision and F-score are ill-defined and being set to 0.0 in labels with no predicted samples. Use `zero_division` parameter to control this behavior.\n",
      "  _warn_prf(average, modifier, msg_start, len(result))\n",
      "c:\\Python39\\lib\\site-packages\\sklearn\\metrics\\_classification.py:1318: UndefinedMetricWarning: Precision and F-score are ill-defined and being set to 0.0 in labels with no predicted samples. Use `zero_division` parameter to control this behavior.\n",
      "  _warn_prf(average, modifier, msg_start, len(result))\n",
      "c:\\Python39\\lib\\site-packages\\sklearn\\metrics\\_classification.py:1318: UndefinedMetricWarning: Precision and F-score are ill-defined and being set to 0.0 in labels with no predicted samples. Use `zero_division` parameter to control this behavior.\n",
      "  _warn_prf(average, modifier, msg_start, len(result))\n"
     ]
    }
   ],
   "source": [
    "# 2015 without survey. Try without survey data to examine differences\n",
    "activity_sleep = pd.read_csv('../../merged_data/activity_sleep_daily_date_extended_class_2015.csv')\n",
    "activity_sleep.drop(['timetobed', 'timeoutofbed'], axis=1, inplace=True)\n",
    "activity_sleep.dropna(inplace=True)\n",
    "\n",
    "train_data = pd.get_dummies(activity_sleep.dropna().drop(['egoid', 'dataDate'], axis=1))\n",
    "\n",
    "train_features, test_features, train_labels, test_labels = train_test_split(train_data, activity_sleep['dataDate'], test_size = 0.25, random_state = 42)\n",
    "\n",
    "clf = RandomForestClassifier(random_state=33, oob_score=True)\n",
    "clf.fit(train_features, train_labels)\n",
    "print(classification_report(test_labels, clf.predict(test_features)))"
   ]
  },
  {
   "cell_type": "code",
   "execution_count": 8,
   "metadata": {},
   "outputs": [
    {
     "data": {
      "image/png": "[encoded data removed]",
      "text/plain": [
       "<Figure size 432x288 with 2 Axes>"
      ]
     },
     "metadata": {
      "needs_background": "light"
     },
     "output_type": "display_data"
    }
   ],
   "source": [
    "def apply_conversion(x):\n",
    "    if x == 'b':\n",
    "        return 'break'\n",
    "    elif x == 'c':\n",
    "        return 'class'\n",
    "    elif x == 'f':\n",
    "        return 'final'\n",
    "\n",
    "# train for 3 date class: break/class/final\n",
    "\n",
    "activity_sleep_survey = pd.read_csv('../../../merged_data/activity_sleep_daily_date_class_2015.csv')\n",
    "activity_sleep_survey.drop(['timetobed', 'timeoutofbed'], axis=1, inplace=True)\n",
    "activity_sleep_survey.dropna(inplace=True)\n",
    "\n",
    "train_data = pd.get_dummies(activity_sleep_survey.dropna().drop(['egoid', 'dataDate'], axis=1))\n",
    "\n",
    "train_features, test_features, train_labels, test_labels = train_test_split(train_data, activity_sleep_survey['dataDate'].apply(apply_conversion), test_size = 0.25, random_state = 42)\n",
    "\n",
    "clf = RandomForestClassifier(random_state=33, oob_score=True)\n",
    "clf.fit(train_features, train_labels)\n",
    "\n",
    "ConfusionMatrixDisplay.from_predictions(test_labels, clf.predict(test_features), labels=['break', 'class'])\n",
    "plt.show()"
   ]
  }
 ],
 "metadata": {
  "interpreter": {
   "hash": "b7433dc76bbec79316ba80912b4bf308cefecc15e81e3f815eeef1d0e9775f42"
  },
  "kernelspec": {
   "display_name": "Python 3.9.13 64-bit (windows store)",
   "language": "python",
   "name": "python3"
  },
  "language_info": {
   "codemirror_mode": {
    "name": "ipython",
    "version": 3
   },
   "file_extension": ".py",
   "mimetype": "text/x-python",
   "name": "python",
   "nbconvert_exporter": "python",
   "pygments_lexer": "ipython3",
   "version": "3.9.13"
  },
  "orig_nbformat": 4
 },
 "nbformat": 4,
 "nbformat_minor": 2
}
