{
 "cells": [
  {
   "cell_type": "code",
   "execution_count": 1,
   "metadata": {},
   "outputs": [],
   "source": [
    "import pandas as pd\n",
    "import numpy as np\n",
    "from sklearn.model_selection import train_test_split\n",
    "from sklearn.ensemble import RandomForestRegressor, RandomForestClassifier\n",
    "from sklearn.datasets import make_classification\n",
    "from sklearn.metrics import classification_report"
   ]
  },
  {
   "cell_type": "code",
   "execution_count": 2,
   "metadata": {},
   "outputs": [
    {
     "name": "stdout",
     "output_type": "stream",
     "text": [
      "              precision    recall  f1-score   support\n",
      "\n",
      "  fall_break       0.67      0.07      0.13       540\n",
      "  fall_class       0.81      0.97      0.89      4146\n",
      "summer_break       0.81      0.62      0.70      1483\n",
      "\n",
      "    accuracy                           0.81      6169\n",
      "   macro avg       0.76      0.56      0.57      6169\n",
      "weighted avg       0.80      0.81      0.78      6169\n",
      "\n"
     ]
    }
   ],
   "source": [
    "# Wave 1 between specified dates in the date_class.py file\n",
    "activity_sleep_survey = pd.read_csv('../../../final_data/sleep_timestamp/activity_sleep_survey_date_extended_1.csv')\n",
    "\n",
    "train_data = pd.get_dummies(activity_sleep_survey.drop(['egoid', 'dataDate'], axis=1))\n",
    "\n",
    "train_features, test_features, train_labels, test_labels = train_test_split(train_data, activity_sleep_survey['dataDate'], test_size = 0.25, random_state = 42)\n",
    "\n",
    "clf = RandomForestClassifier(random_state=33, oob_score=True)\n",
    "clf.fit(train_features, train_labels)\n",
    "\n",
    "print(classification_report(test_labels, clf.predict(test_features)))"
   ]
  },
  {
   "cell_type": "code",
   "execution_count": 4,
   "metadata": {},
   "outputs": [
    {
     "name": "stdout",
     "output_type": "stream",
     "text": [
      "Wave:  1\n",
      "              precision    recall  f1-score   support\n",
      "\n",
      "  fall_break       0.67      0.07      0.13       540\n",
      "  fall_class       0.81      0.97      0.89      4146\n",
      "summer_break       0.81      0.62      0.70      1483\n",
      "\n",
      "    accuracy                           0.81      6169\n",
      "   macro avg       0.76      0.56      0.57      6169\n",
      "weighted avg       0.80      0.81      0.78      6169\n",
      "\n",
      "Wave:  2\n",
      "              precision    recall  f1-score   support\n",
      "\n",
      "  fall_break       0.12      0.00      0.01       349\n",
      "  fall_class       0.58      0.23      0.32      2766\n",
      "  fall_final       0.50      0.00      0.01       351\n",
      "spring_break       0.40      0.03      0.05       825\n",
      "spring_class       0.61      0.93      0.74      5919\n",
      "winter_break       0.56      0.56      0.56      1469\n",
      "\n",
      "    accuracy                           0.60     11679\n",
      "   macro avg       0.46      0.29      0.28     11679\n",
      "weighted avg       0.56      0.60      0.52     11679\n",
      "\n",
      "Wave:  3\n",
      "              precision    recall  f1-score   support\n",
      "\n",
      "  fall_class       0.65      0.09      0.15       702\n",
      "spring_class       0.61      0.23      0.34       957\n",
      "spring_final       0.17      0.00      0.01       284\n",
      "summer_break       0.79      0.99      0.88      5753\n",
      "\n",
      "    accuracy                           0.78      7696\n",
      "   macro avg       0.55      0.33      0.34      7696\n",
      "weighted avg       0.73      0.78      0.71      7696\n",
      "\n",
      "Wave:  4\n"
     ]
    },
    {
     "name": "stderr",
     "output_type": "stream",
     "text": [
      "C:\\Users\\Eren\\AppData\\Local\\Packages\\PythonSoftwareFoundation.Python.3.9_qbz5n2kfra8p0\\LocalCache\\local-packages\\Python39\\site-packages\\sklearn\\metrics\\_classification.py:1318: UndefinedMetricWarning: Precision and F-score are ill-defined and being set to 0.0 in labels with no predicted samples. Use `zero_division` parameter to control this behavior.\n",
      "  _warn_prf(average, modifier, msg_start, len(result))\n",
      "C:\\Users\\Eren\\AppData\\Local\\Packages\\PythonSoftwareFoundation.Python.3.9_qbz5n2kfra8p0\\LocalCache\\local-packages\\Python39\\site-packages\\sklearn\\metrics\\_classification.py:1318: UndefinedMetricWarning: Precision and F-score are ill-defined and being set to 0.0 in labels with no predicted samples. Use `zero_division` parameter to control this behavior.\n",
      "  _warn_prf(average, modifier, msg_start, len(result))\n",
      "C:\\Users\\Eren\\AppData\\Local\\Packages\\PythonSoftwareFoundation.Python.3.9_qbz5n2kfra8p0\\LocalCache\\local-packages\\Python39\\site-packages\\sklearn\\metrics\\_classification.py:1318: UndefinedMetricWarning: Precision and F-score are ill-defined and being set to 0.0 in labels with no predicted samples. Use `zero_division` parameter to control this behavior.\n",
      "  _warn_prf(average, modifier, msg_start, len(result))\n"
     ]
    },
    {
     "name": "stdout",
     "output_type": "stream",
     "text": [
      "              precision    recall  f1-score   support\n",
      "\n",
      "  fall_break       0.45      0.07      0.12       809\n",
      "  fall_class       0.80      0.99      0.88      5546\n",
      "  fall_final       0.00      0.00      0.00       314\n",
      "winter_break       0.58      0.34      0.43       768\n",
      "\n",
      "    accuracy                           0.78      7437\n",
      "   macro avg       0.46      0.35      0.36      7437\n",
      "weighted avg       0.70      0.78      0.72      7437\n",
      "\n",
      "Wave:  5\n",
      "              precision    recall  f1-score   support\n",
      "\n",
      "spring_break       0.45      0.02      0.03       748\n",
      "spring_class       0.73      0.96      0.83      5819\n",
      "spring_final       0.00      0.00      0.00       297\n",
      "summer_break       0.60      0.55      0.57      2202\n",
      "winter_break       0.57      0.14      0.23       867\n",
      "\n",
      "    accuracy                           0.70      9933\n",
      "   macro avg       0.47      0.33      0.33      9933\n",
      "weighted avg       0.64      0.70      0.63      9933\n",
      "\n",
      "Wave:  6\n"
     ]
    },
    {
     "name": "stderr",
     "output_type": "stream",
     "text": [
      "C:\\Users\\Eren\\AppData\\Local\\Packages\\PythonSoftwareFoundation.Python.3.9_qbz5n2kfra8p0\\LocalCache\\local-packages\\Python39\\site-packages\\sklearn\\metrics\\_classification.py:1318: UndefinedMetricWarning: Precision and F-score are ill-defined and being set to 0.0 in labels with no predicted samples. Use `zero_division` parameter to control this behavior.\n",
      "  _warn_prf(average, modifier, msg_start, len(result))\n",
      "C:\\Users\\Eren\\AppData\\Local\\Packages\\PythonSoftwareFoundation.Python.3.9_qbz5n2kfra8p0\\LocalCache\\local-packages\\Python39\\site-packages\\sklearn\\metrics\\_classification.py:1318: UndefinedMetricWarning: Precision and F-score are ill-defined and being set to 0.0 in labels with no predicted samples. Use `zero_division` parameter to control this behavior.\n",
      "  _warn_prf(average, modifier, msg_start, len(result))\n",
      "C:\\Users\\Eren\\AppData\\Local\\Packages\\PythonSoftwareFoundation.Python.3.9_qbz5n2kfra8p0\\LocalCache\\local-packages\\Python39\\site-packages\\sklearn\\metrics\\_classification.py:1318: UndefinedMetricWarning: Precision and F-score are ill-defined and being set to 0.0 in labels with no predicted samples. Use `zero_division` parameter to control this behavior.\n",
      "  _warn_prf(average, modifier, msg_start, len(result))\n"
     ]
    },
    {
     "name": "stdout",
     "output_type": "stream",
     "text": [
      "              precision    recall  f1-score   support\n",
      "\n",
      "  fall_break       0.42      0.03      0.06       717\n",
      "  fall_class       0.72      0.97      0.82      4895\n",
      "  fall_final       0.00      0.00      0.00       242\n",
      "summer_break       0.77      0.57      0.65      1712\n",
      "winter_break       0.55      0.21      0.31       682\n",
      "\n",
      "    accuracy                           0.72      8248\n",
      "   macro avg       0.49      0.36      0.37      8248\n",
      "weighted avg       0.67      0.72      0.66      8248\n",
      "\n",
      "Wave:  7\n"
     ]
    },
    {
     "name": "stderr",
     "output_type": "stream",
     "text": [
      "C:\\Users\\Eren\\AppData\\Local\\Packages\\PythonSoftwareFoundation.Python.3.9_qbz5n2kfra8p0\\LocalCache\\local-packages\\Python39\\site-packages\\sklearn\\metrics\\_classification.py:1318: UndefinedMetricWarning: Precision and F-score are ill-defined and being set to 0.0 in labels with no predicted samples. Use `zero_division` parameter to control this behavior.\n",
      "  _warn_prf(average, modifier, msg_start, len(result))\n",
      "C:\\Users\\Eren\\AppData\\Local\\Packages\\PythonSoftwareFoundation.Python.3.9_qbz5n2kfra8p0\\LocalCache\\local-packages\\Python39\\site-packages\\sklearn\\metrics\\_classification.py:1318: UndefinedMetricWarning: Precision and F-score are ill-defined and being set to 0.0 in labels with no predicted samples. Use `zero_division` parameter to control this behavior.\n",
      "  _warn_prf(average, modifier, msg_start, len(result))\n",
      "C:\\Users\\Eren\\AppData\\Local\\Packages\\PythonSoftwareFoundation.Python.3.9_qbz5n2kfra8p0\\LocalCache\\local-packages\\Python39\\site-packages\\sklearn\\metrics\\_classification.py:1318: UndefinedMetricWarning: Precision and F-score are ill-defined and being set to 0.0 in labels with no predicted samples. Use `zero_division` parameter to control this behavior.\n",
      "  _warn_prf(average, modifier, msg_start, len(result))\n"
     ]
    },
    {
     "name": "stdout",
     "output_type": "stream",
     "text": [
      "              precision    recall  f1-score   support\n",
      "\n",
      "  fall_break       0.00      0.00      0.00       450\n",
      "  fall_class       0.59      0.42      0.49      3071\n",
      "  fall_final       0.00      0.00      0.00       161\n",
      "spring_break       0.29      0.01      0.01       681\n",
      "spring_class       0.58      0.86      0.69      5700\n",
      "spring_final       0.00      0.00      0.00       245\n",
      "summer_break       0.55      0.65      0.60      3529\n",
      "winter_break       0.47      0.12      0.19      1120\n",
      "\n",
      "    accuracy                           0.57     14957\n",
      "   macro avg       0.31      0.26      0.25     14957\n",
      "weighted avg       0.52      0.57      0.52     14957\n",
      "\n",
      "Wave:  8\n",
      "              precision    recall  f1-score   support\n",
      "\n",
      "spring_break       0.53      0.04      0.08       246\n",
      "spring_class       0.76      0.99      0.86      2134\n",
      "spring_final       0.00      0.00      0.00        83\n",
      "summer_break       0.57      0.03      0.06       125\n",
      "winter_break       0.64      0.17      0.27       315\n",
      "\n",
      "    accuracy                           0.75      2903\n",
      "   macro avg       0.50      0.25      0.25      2903\n",
      "weighted avg       0.70      0.75      0.67      2903\n",
      "\n"
     ]
    },
    {
     "name": "stderr",
     "output_type": "stream",
     "text": [
      "C:\\Users\\Eren\\AppData\\Local\\Packages\\PythonSoftwareFoundation.Python.3.9_qbz5n2kfra8p0\\LocalCache\\local-packages\\Python39\\site-packages\\sklearn\\metrics\\_classification.py:1318: UndefinedMetricWarning: Precision and F-score are ill-defined and being set to 0.0 in labels with no predicted samples. Use `zero_division` parameter to control this behavior.\n",
      "  _warn_prf(average, modifier, msg_start, len(result))\n",
      "C:\\Users\\Eren\\AppData\\Local\\Packages\\PythonSoftwareFoundation.Python.3.9_qbz5n2kfra8p0\\LocalCache\\local-packages\\Python39\\site-packages\\sklearn\\metrics\\_classification.py:1318: UndefinedMetricWarning: Precision and F-score are ill-defined and being set to 0.0 in labels with no predicted samples. Use `zero_division` parameter to control this behavior.\n",
      "  _warn_prf(average, modifier, msg_start, len(result))\n",
      "C:\\Users\\Eren\\AppData\\Local\\Packages\\PythonSoftwareFoundation.Python.3.9_qbz5n2kfra8p0\\LocalCache\\local-packages\\Python39\\site-packages\\sklearn\\metrics\\_classification.py:1318: UndefinedMetricWarning: Precision and F-score are ill-defined and being set to 0.0 in labels with no predicted samples. Use `zero_division` parameter to control this behavior.\n",
      "  _warn_prf(average, modifier, msg_start, len(result))\n"
     ]
    }
   ],
   "source": [
    "# Waves between specified dates in the date_class.py file\n",
    "# begin_dates = ['2015-1-1' , '2015-11-1', '2016-4-15', '2016-9-1', '2017-1-1', '2017-7-1', '2018-1-1', '2019-1-1']\n",
    "# end_dates   = ['2015-11-1', '2016-4-15', '2016-9-1' , '2017-1-1', '2017-7-1', '2018-1-1', '2019-1-1', '2020-1-1']\n",
    "\n",
    "for wave in range(1, 9):\n",
    "    print('Wave: ', wave)\n",
    "    activity_sleep_survey = pd.read_csv(f'../../../final_data/sleep_timestamp/activity_sleep_survey_date_extended_{wave}.csv')\n",
    "\n",
    "    train_data = pd.get_dummies(activity_sleep_survey.drop(['egoid', 'dataDate'], axis=1))\n",
    "\n",
    "    train_features, test_features, train_labels, test_labels = train_test_split(train_data, activity_sleep_survey['dataDate'], test_size = 0.25, random_state = 42)\n",
    "\n",
    "    clf = RandomForestClassifier(n_estimators=1000, random_state=33, oob_score=True)\n",
    "    clf.fit(train_features, train_labels)\n",
    "\n",
    "    print(classification_report(test_labels, clf.predict(test_features)))"
   ]
  },
  {
   "cell_type": "code",
   "execution_count": 5,
   "metadata": {},
   "outputs": [
    {
     "name": "stdout",
     "output_type": "stream",
     "text": [
      "Wave:  1\n",
      "              precision    recall  f1-score   support\n",
      "\n",
      "  fall_break       0.54      0.07      0.12       540\n",
      "  fall_class       0.82      0.96      0.88      4146\n",
      "summer_break       0.73      0.61      0.67      1483\n",
      "\n",
      "    accuracy                           0.80      6169\n",
      "   macro avg       0.70      0.55      0.56      6169\n",
      "weighted avg       0.77      0.80      0.76      6169\n",
      "\n",
      "Wave:  2\n"
     ]
    },
    {
     "name": "stderr",
     "output_type": "stream",
     "text": [
      "C:\\Users\\Eren\\AppData\\Local\\Packages\\PythonSoftwareFoundation.Python.3.9_qbz5n2kfra8p0\\LocalCache\\local-packages\\Python39\\site-packages\\sklearn\\metrics\\_classification.py:1318: UndefinedMetricWarning: Precision and F-score are ill-defined and being set to 0.0 in labels with no predicted samples. Use `zero_division` parameter to control this behavior.\n",
      "  _warn_prf(average, modifier, msg_start, len(result))\n",
      "C:\\Users\\Eren\\AppData\\Local\\Packages\\PythonSoftwareFoundation.Python.3.9_qbz5n2kfra8p0\\LocalCache\\local-packages\\Python39\\site-packages\\sklearn\\metrics\\_classification.py:1318: UndefinedMetricWarning: Precision and F-score are ill-defined and being set to 0.0 in labels with no predicted samples. Use `zero_division` parameter to control this behavior.\n",
      "  _warn_prf(average, modifier, msg_start, len(result))\n",
      "C:\\Users\\Eren\\AppData\\Local\\Packages\\PythonSoftwareFoundation.Python.3.9_qbz5n2kfra8p0\\LocalCache\\local-packages\\Python39\\site-packages\\sklearn\\metrics\\_classification.py:1318: UndefinedMetricWarning: Precision and F-score are ill-defined and being set to 0.0 in labels with no predicted samples. Use `zero_division` parameter to control this behavior.\n",
      "  _warn_prf(average, modifier, msg_start, len(result))\n"
     ]
    },
    {
     "name": "stdout",
     "output_type": "stream",
     "text": [
      "              precision    recall  f1-score   support\n",
      "\n",
      "  fall_break       0.00      0.00      0.00       365\n",
      "  fall_class       0.42      0.15      0.22      2991\n",
      "  fall_final       0.00      0.00      0.00       355\n",
      "spring_break       0.26      0.02      0.05       806\n",
      "spring_class       0.59      0.90      0.71      6182\n",
      "winter_break       0.51      0.56      0.54      1561\n",
      "\n",
      "    accuracy                           0.56     12260\n",
      "   macro avg       0.30      0.27      0.25     12260\n",
      "weighted avg       0.48      0.56      0.48     12260\n",
      "\n",
      "Wave:  3\n"
     ]
    },
    {
     "name": "stderr",
     "output_type": "stream",
     "text": [
      "C:\\Users\\Eren\\AppData\\Local\\Packages\\PythonSoftwareFoundation.Python.3.9_qbz5n2kfra8p0\\LocalCache\\local-packages\\Python39\\site-packages\\sklearn\\metrics\\_classification.py:1318: UndefinedMetricWarning: Precision and F-score are ill-defined and being set to 0.0 in labels with no predicted samples. Use `zero_division` parameter to control this behavior.\n",
      "  _warn_prf(average, modifier, msg_start, len(result))\n",
      "C:\\Users\\Eren\\AppData\\Local\\Packages\\PythonSoftwareFoundation.Python.3.9_qbz5n2kfra8p0\\LocalCache\\local-packages\\Python39\\site-packages\\sklearn\\metrics\\_classification.py:1318: UndefinedMetricWarning: Precision and F-score are ill-defined and being set to 0.0 in labels with no predicted samples. Use `zero_division` parameter to control this behavior.\n",
      "  _warn_prf(average, modifier, msg_start, len(result))\n",
      "C:\\Users\\Eren\\AppData\\Local\\Packages\\PythonSoftwareFoundation.Python.3.9_qbz5n2kfra8p0\\LocalCache\\local-packages\\Python39\\site-packages\\sklearn\\metrics\\_classification.py:1318: UndefinedMetricWarning: Precision and F-score are ill-defined and being set to 0.0 in labels with no predicted samples. Use `zero_division` parameter to control this behavior.\n",
      "  _warn_prf(average, modifier, msg_start, len(result))\n"
     ]
    },
    {
     "name": "stdout",
     "output_type": "stream",
     "text": [
      "              precision    recall  f1-score   support\n",
      "\n",
      "  fall_class       0.49      0.10      0.17       779\n",
      "spring_class       0.53      0.28      0.37      1186\n",
      "spring_final       0.00      0.00      0.00       337\n",
      "summer_break       0.80      0.98      0.88      6502\n",
      "\n",
      "    accuracy                           0.77      8804\n",
      "   macro avg       0.45      0.34      0.35      8804\n",
      "weighted avg       0.70      0.77      0.71      8804\n",
      "\n",
      "Wave:  4\n",
      "              precision    recall  f1-score   support\n",
      "\n",
      "  fall_break       0.32      0.07      0.11       896\n",
      "  fall_class       0.82      0.98      0.89      6547\n",
      "  fall_final       0.33      0.00      0.01       318\n",
      "winter_break       0.53      0.35      0.42       864\n",
      "\n",
      "    accuracy                           0.79      8625\n",
      "   macro avg       0.50      0.35      0.36      8625\n",
      "weighted avg       0.72      0.79      0.73      8625\n",
      "\n",
      "Wave:  5\n",
      "              precision    recall  f1-score   support\n",
      "\n",
      "spring_break       0.32      0.01      0.02       739\n",
      "spring_class       0.72      0.94      0.82      6227\n",
      "spring_final       1.00      0.00      0.01       304\n",
      "summer_break       0.54      0.48      0.51      2441\n",
      "winter_break       0.43      0.14      0.22       953\n",
      "\n",
      "    accuracy                           0.67     10664\n",
      "   macro avg       0.60      0.32      0.31     10664\n",
      "weighted avg       0.63      0.67      0.61     10664\n",
      "\n",
      "Wave:  6\n"
     ]
    },
    {
     "name": "stderr",
     "output_type": "stream",
     "text": [
      "C:\\Users\\Eren\\AppData\\Local\\Packages\\PythonSoftwareFoundation.Python.3.9_qbz5n2kfra8p0\\LocalCache\\local-packages\\Python39\\site-packages\\sklearn\\metrics\\_classification.py:1318: UndefinedMetricWarning: Precision and F-score are ill-defined and being set to 0.0 in labels with no predicted samples. Use `zero_division` parameter to control this behavior.\n",
      "  _warn_prf(average, modifier, msg_start, len(result))\n",
      "C:\\Users\\Eren\\AppData\\Local\\Packages\\PythonSoftwareFoundation.Python.3.9_qbz5n2kfra8p0\\LocalCache\\local-packages\\Python39\\site-packages\\sklearn\\metrics\\_classification.py:1318: UndefinedMetricWarning: Precision and F-score are ill-defined and being set to 0.0 in labels with no predicted samples. Use `zero_division` parameter to control this behavior.\n",
      "  _warn_prf(average, modifier, msg_start, len(result))\n",
      "C:\\Users\\Eren\\AppData\\Local\\Packages\\PythonSoftwareFoundation.Python.3.9_qbz5n2kfra8p0\\LocalCache\\local-packages\\Python39\\site-packages\\sklearn\\metrics\\_classification.py:1318: UndefinedMetricWarning: Precision and F-score are ill-defined and being set to 0.0 in labels with no predicted samples. Use `zero_division` parameter to control this behavior.\n",
      "  _warn_prf(average, modifier, msg_start, len(result))\n"
     ]
    },
    {
     "name": "stdout",
     "output_type": "stream",
     "text": [
      "              precision    recall  f1-score   support\n",
      "\n",
      "  fall_break       0.19      0.02      0.03       740\n",
      "  fall_class       0.73      0.94      0.82      5553\n",
      "  fall_final       0.00      0.00      0.00       272\n",
      "summer_break       0.63      0.54      0.58      1950\n",
      "winter_break       0.45      0.22      0.29       748\n",
      "\n",
      "    accuracy                           0.70      9263\n",
      "   macro avg       0.40      0.34      0.35      9263\n",
      "weighted avg       0.62      0.70      0.64      9263\n",
      "\n",
      "Wave:  7\n"
     ]
    },
    {
     "name": "stderr",
     "output_type": "stream",
     "text": [
      "C:\\Users\\Eren\\AppData\\Local\\Packages\\PythonSoftwareFoundation.Python.3.9_qbz5n2kfra8p0\\LocalCache\\local-packages\\Python39\\site-packages\\sklearn\\metrics\\_classification.py:1318: UndefinedMetricWarning: Precision and F-score are ill-defined and being set to 0.0 in labels with no predicted samples. Use `zero_division` parameter to control this behavior.\n",
      "  _warn_prf(average, modifier, msg_start, len(result))\n",
      "C:\\Users\\Eren\\AppData\\Local\\Packages\\PythonSoftwareFoundation.Python.3.9_qbz5n2kfra8p0\\LocalCache\\local-packages\\Python39\\site-packages\\sklearn\\metrics\\_classification.py:1318: UndefinedMetricWarning: Precision and F-score are ill-defined and being set to 0.0 in labels with no predicted samples. Use `zero_division` parameter to control this behavior.\n",
      "  _warn_prf(average, modifier, msg_start, len(result))\n",
      "C:\\Users\\Eren\\AppData\\Local\\Packages\\PythonSoftwareFoundation.Python.3.9_qbz5n2kfra8p0\\LocalCache\\local-packages\\Python39\\site-packages\\sklearn\\metrics\\_classification.py:1318: UndefinedMetricWarning: Precision and F-score are ill-defined and being set to 0.0 in labels with no predicted samples. Use `zero_division` parameter to control this behavior.\n",
      "  _warn_prf(average, modifier, msg_start, len(result))\n"
     ]
    },
    {
     "name": "stdout",
     "output_type": "stream",
     "text": [
      "              precision    recall  f1-score   support\n",
      "\n",
      "  fall_break       0.00      0.00      0.00       450\n",
      "  fall_class       0.43      0.25      0.31      3071\n",
      "  fall_final       0.00      0.00      0.00       161\n",
      "spring_break       0.25      0.00      0.01       681\n",
      "spring_class       0.53      0.80      0.64      5700\n",
      "spring_final       0.00      0.00      0.00       245\n",
      "summer_break       0.49      0.60      0.54      3529\n",
      "winter_break       0.35      0.09      0.14      1120\n",
      "\n",
      "    accuracy                           0.51     14957\n",
      "   macro avg       0.26      0.22      0.21     14957\n",
      "weighted avg       0.44      0.51      0.45     14957\n",
      "\n",
      "Wave:  8\n",
      "              precision    recall  f1-score   support\n",
      "\n",
      "spring_break       0.31      0.02      0.03       307\n",
      "spring_class       0.76      0.99      0.86      2569\n",
      "spring_final       0.00      0.00      0.00       111\n",
      "summer_break       0.33      0.01      0.01       144\n",
      "winter_break       0.49      0.13      0.20       324\n",
      "\n",
      "    accuracy                           0.75      3455\n",
      "   macro avg       0.38      0.23      0.22      3455\n",
      "weighted avg       0.65      0.75      0.66      3455\n",
      "\n"
     ]
    },
    {
     "name": "stderr",
     "output_type": "stream",
     "text": [
      "C:\\Users\\Eren\\AppData\\Local\\Packages\\PythonSoftwareFoundation.Python.3.9_qbz5n2kfra8p0\\LocalCache\\local-packages\\Python39\\site-packages\\sklearn\\metrics\\_classification.py:1318: UndefinedMetricWarning: Precision and F-score are ill-defined and being set to 0.0 in labels with no predicted samples. Use `zero_division` parameter to control this behavior.\n",
      "  _warn_prf(average, modifier, msg_start, len(result))\n",
      "C:\\Users\\Eren\\AppData\\Local\\Packages\\PythonSoftwareFoundation.Python.3.9_qbz5n2kfra8p0\\LocalCache\\local-packages\\Python39\\site-packages\\sklearn\\metrics\\_classification.py:1318: UndefinedMetricWarning: Precision and F-score are ill-defined and being set to 0.0 in labels with no predicted samples. Use `zero_division` parameter to control this behavior.\n",
      "  _warn_prf(average, modifier, msg_start, len(result))\n",
      "C:\\Users\\Eren\\AppData\\Local\\Packages\\PythonSoftwareFoundation.Python.3.9_qbz5n2kfra8p0\\LocalCache\\local-packages\\Python39\\site-packages\\sklearn\\metrics\\_classification.py:1318: UndefinedMetricWarning: Precision and F-score are ill-defined and being set to 0.0 in labels with no predicted samples. Use `zero_division` parameter to control this behavior.\n",
      "  _warn_prf(average, modifier, msg_start, len(result))\n"
     ]
    }
   ],
   "source": [
    "# Waves without survey data\n",
    "for wave in range(1, 9):\n",
    "    print('Wave: ', wave)\n",
    "    activity_sleep_survey = pd.read_csv(f'../../../final_data/activity_sleep/activity_sleep_date_extended_{wave}.csv')\n",
    "\n",
    "    train_data = pd.get_dummies(activity_sleep_survey.drop(['egoid', 'dataDate'], axis=1))\n",
    "\n",
    "    train_features, test_features, train_labels, test_labels = train_test_split(train_data, activity_sleep_survey['dataDate'], test_size = 0.25, random_state = 42)\n",
    "\n",
    "    clf = RandomForestClassifier(random_state=33, oob_score=True)\n",
    "    clf.fit(train_features, train_labels)\n",
    "\n",
    "    print(classification_report(test_labels, clf.predict(test_features)))\n",
    "\n",
    "## Wave #: survey -> without survey\n",
    "## Wave 1: 0.81 -> 0.80\n",
    "## Wave 2: 0.60 -> 0.56\n",
    "## Wave 3: 0.78 -> 0.77\n",
    "## Wave 4: 0.78 -> 0.79\n",
    "## Wave 5: 0.70 -> 0.67\n",
    "## Wave 6: 0.72 -> 0.70\n",
    "## Wave 7: 0.57 -> 0.51\n",
    "## Wave 8: 0.75 -> 0.75"
   ]
  }
 ],
 "metadata": {
  "interpreter": {
   "hash": "b7433dc76bbec79316ba80912b4bf308cefecc15e81e3f815eeef1d0e9775f42"
  },
  "kernelspec": {
   "display_name": "Python 3.9.13 64-bit (windows store)",
   "language": "python",
   "name": "python3"
  },
  "language_info": {
   "codemirror_mode": {
    "name": "ipython",
    "version": 3
   },
   "file_extension": ".py",
   "mimetype": "text/x-python",
   "name": "python",
   "nbconvert_exporter": "python",
   "pygments_lexer": "ipython3",
   "version": "3.9.13"
  },
  "orig_nbformat": 4
 },
 "nbformat": 4,
 "nbformat_minor": 2
}
