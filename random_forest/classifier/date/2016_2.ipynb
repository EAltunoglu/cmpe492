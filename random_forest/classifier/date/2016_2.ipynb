{
 "cells": [
  {
   "cell_type": "code",
   "execution_count": 1,
   "metadata": {},
   "outputs": [],
   "source": [
    "import pandas as pd\n",
    "import numpy as np\n",
    "from sklearn.model_selection import train_test_split\n",
    "from sklearn.ensemble import RandomForestRegressor, RandomForestClassifier\n",
    "from sklearn.datasets import make_classification\n",
    "from sklearn.metrics import classification_report"
   ]
  },
  {
   "cell_type": "code",
   "execution_count": 5,
   "metadata": {},
   "outputs": [
    {
     "name": "stderr",
     "output_type": "stream",
     "text": [
      "c:\\Python39\\lib\\site-packages\\sklearn\\metrics\\_classification.py:1318: UndefinedMetricWarning: Precision and F-score are ill-defined and being set to 0.0 in labels with no predicted samples. Use `zero_division` parameter to control this behavior.\n",
      "  _warn_prf(average, modifier, msg_start, len(result))\n"
     ]
    },
    {
     "name": "stdout",
     "output_type": "stream",
     "text": [
      "              precision    recall  f1-score   support\n",
      "\n",
      "  fall_break       0.10      0.00      0.00       912\n",
      "  fall_class       0.49      0.55      0.52      7369\n",
      "  fall_final       0.00      0.00      0.00       345\n",
      "spring_break       0.00      0.00      0.00       836\n",
      "spring_class       0.53      0.57      0.55      7249\n",
      "spring_final       0.00      0.00      0.00       348\n",
      "summer_break       0.52      0.71      0.60      6397\n",
      "winter_break       0.41      0.04      0.08      1627\n",
      "\n",
      "    accuracy                           0.51     25083\n",
      "   macro avg       0.25      0.23      0.22     25083\n",
      "weighted avg       0.46      0.51      0.47     25083\n",
      "\n"
     ]
    },
    {
     "name": "stderr",
     "output_type": "stream",
     "text": [
      "c:\\Python39\\lib\\site-packages\\sklearn\\metrics\\_classification.py:1318: UndefinedMetricWarning: Precision and F-score are ill-defined and being set to 0.0 in labels with no predicted samples. Use `zero_division` parameter to control this behavior.\n",
      "  _warn_prf(average, modifier, msg_start, len(result))\n",
      "c:\\Python39\\lib\\site-packages\\sklearn\\metrics\\_classification.py:1318: UndefinedMetricWarning: Precision and F-score are ill-defined and being set to 0.0 in labels with no predicted samples. Use `zero_division` parameter to control this behavior.\n",
      "  _warn_prf(average, modifier, msg_start, len(result))\n"
     ]
    }
   ],
   "source": [
    "# 2016 without survey\n",
    "activity_sleep = pd.read_csv('../../merged_data/activity_sleep_daily_date_extended_class_2016.csv')\n",
    "activity_sleep.drop(['timetobed', 'timeoutofbed'], axis=1, inplace=True)\n",
    "activity_sleep.dropna(inplace=True)\n",
    "\n",
    "train_data = pd.get_dummies(activity_sleep.dropna().drop(['egoid', 'dataDate'], axis=1))\n",
    "\n",
    "train_features, test_features, train_labels, test_labels = train_test_split(train_data, activity_sleep['dataDate'], test_size = 0.25, random_state = 42)\n",
    "\n",
    "clf = RandomForestClassifier(random_state=33, oob_score=True)\n",
    "clf.fit(train_features, train_labels)\n",
    "\n",
    "print(classification_report(test_labels, clf.predict(test_features)))"
   ]
  },
  {
   "cell_type": "code",
   "execution_count": 4,
   "metadata": {},
   "outputs": [
    {
     "name": "stdout",
     "output_type": "stream",
     "text": [
      "              precision    recall  f1-score   support\n",
      "\n",
      "  fall_break       0.29      0.02      0.03       915\n",
      "  fall_class       0.63      0.71      0.66      7099\n",
      "  fall_final       0.33      0.00      0.01       356\n",
      "spring_break       0.20      0.01      0.03       801\n",
      "spring_class       0.64      0.76      0.70      7123\n",
      "spring_final       0.00      0.00      0.00       304\n",
      "summer_break       0.61      0.73      0.67      6338\n",
      "winter_break       0.53      0.12      0.20      1529\n",
      "\n",
      "    accuracy                           0.62     24465\n",
      "   macro avg       0.40      0.29      0.29     24465\n",
      "weighted avg       0.58      0.62      0.58     24465\n",
      "\n"
     ]
    }
   ],
   "source": [
    "# 2016 survey wave 2\n",
    "activity_sleep_survey = pd.read_csv('../../final_data/activity_sleep_survey_date_extended_class_2016_2.csv')\n",
    "train_data = pd.get_dummies(activity_sleep_survey.dropna().drop(['egoid', 'dataDate', 'timetobed', 'timeoutofbed'], axis=1))\n",
    "\n",
    "train_features, test_features, train_labels, test_labels = train_test_split(train_data, activity_sleep_survey.dropna()['dataDate'], test_size = 0.25, random_state = 42)\n",
    "\n",
    "clf = RandomForestClassifier(random_state=33, oob_score=True)\n",
    "clf.fit(train_features, train_labels)\n",
    "print(classification_report(test_labels, clf.predict(test_features)))"
   ]
  }
 ],
 "metadata": {
  "interpreter": {
   "hash": "81794d4967e6c3204c66dcd87b604927b115b27c00565d3d43f05ba2f3a2cb0d"
  },
  "kernelspec": {
   "display_name": "Python 3.9.0 64-bit",
   "language": "python",
   "name": "python3"
  },
  "language_info": {
   "codemirror_mode": {
    "name": "ipython",
    "version": 3
   },
   "file_extension": ".py",
   "mimetype": "text/x-python",
   "name": "python",
   "nbconvert_exporter": "python",
   "pygments_lexer": "ipython3",
   "version": "3.9.0"
  },
  "orig_nbformat": 4
 },
 "nbformat": 4,
 "nbformat_minor": 2
}
