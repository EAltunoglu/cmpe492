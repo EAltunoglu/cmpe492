{
 "cells": [
  {
   "cell_type": "code",
   "execution_count": 7,
   "metadata": {},
   "outputs": [],
   "source": [
    "import pandas as pd\n",
    "import numpy as np\n",
    "from sklearn.model_selection import train_test_split\n",
    "from sklearn.ensemble import RandomForestRegressor, RandomForestClassifier\n",
    "from sklearn.datasets import make_classification\n",
    "from sklearn.metrics import classification_report"
   ]
  },
  {
   "cell_type": "code",
   "execution_count": 4,
   "metadata": {},
   "outputs": [],
   "source": [
    "# train for 3 date class: break/class/final\n",
    "\n",
    "activity_sleep_survey = pd.read_csv('../../merged/activity_sleep_daily_date_class.csv')\n",
    "activity_sleep_survey.drop(['timetobed', 'timeoutofbed'], axis=1, inplace=True)\n",
    "activity_sleep_survey.dropna(inplace=True)"
   ]
  },
  {
   "cell_type": "code",
   "execution_count": 4,
   "metadata": {},
   "outputs": [
    {
     "data": {
      "text/plain": [
       "steps                                                 0.087835\n",
       "veryactiveminutes                                     0.058759\n",
       "fairlyactiveminutes                                   0.046499\n",
       "lightlyactiveminutes                                  0.040686\n",
       "sedentaryminutes                                      0.039148\n",
       "                                                        ...   \n",
       "birthorder_1_sixth born or later, not the youngest    0.000058\n",
       "MEQGroup_1_definite morning                           0.000058\n",
       "momdec_1                                              0.000046\n",
       "usedrugs_prescr_1_Three times a week or more          0.000038\n",
       "momrace_1_Other                                       0.000022\n",
       "Length: 202, dtype: float64"
      ]
     },
     "execution_count": 4,
     "metadata": {},
     "output_type": "execute_result"
    }
   ],
   "source": [
    "train_data = pd.get_dummies(activity_sleep_survey.dropna().drop(['egoid', 'dataDate'], axis=1))\n",
    "\n",
    "clf1 = RandomForestClassifier(random_state=33, oob_score=True)\n",
    "clf1.fit(train_data, activity_sleep_survey['dataDate'])"
   ]
  },
  {
   "cell_type": "code",
   "execution_count": null,
   "metadata": {},
   "outputs": [],
   "source": [
    "feature_imp = pd.Series(clf1.feature_importances_, index = train_data.columns).sort_values(ascending = False)\n",
    "feature_imp"
   ]
  },
  {
   "cell_type": "code",
   "execution_count": 12,
   "metadata": {},
   "outputs": [
    {
     "name": "stdout",
     "output_type": "stream",
     "text": [
      "              precision    recall  f1-score   support\n",
      "\n",
      "           b       0.78      0.55      0.64      2748\n",
      "           c       0.81      0.95      0.88      7214\n",
      "           f       0.25      0.00      0.01       387\n",
      "\n",
      "    accuracy                           0.81     10349\n",
      "   macro avg       0.62      0.50      0.51     10349\n",
      "weighted avg       0.79      0.81      0.78     10349\n",
      "\n"
     ]
    }
   ],
   "source": [
    "train_features, test_features, train_labels, test_labels = train_test_split(train_data, activity_sleep_survey['dataDate'], test_size = 0.25, random_state = 42)\n",
    "\n",
    "clf2 = RandomForestClassifier(random_state=33, oob_score=True)\n",
    "clf2.fit(train_features, train_labels)\n",
    "\n",
    "print(classification_report(test_labels, clf2.predict(test_features)))"
   ]
  },
  {
   "cell_type": "code",
   "execution_count": 4,
   "metadata": {},
   "outputs": [
    {
     "data": {
      "text/plain": [
       "0.7399265629529423"
      ]
     },
     "execution_count": 4,
     "metadata": {},
     "output_type": "execute_result"
    }
   ],
   "source": [
    "clf2.oob_score_"
   ]
  },
  {
   "cell_type": "code",
   "execution_count": 6,
   "metadata": {},
   "outputs": [
    {
     "data": {
      "text/plain": [
       "0.7433568460720843"
      ]
     },
     "execution_count": 6,
     "metadata": {},
     "output_type": "execute_result"
    }
   ],
   "source": [
    "# train for 5 date class: summer break / fall class / fall break / fall final / winter break\n",
    "\n",
    "activity_sleep_survey = pd.read_csv('../../final_data/activity_sleep_daily_date_extended_class_2015_1.csv')\n",
    "activity_sleep_survey.drop(['timetobed', 'timeoutofbed'], axis=1, inplace=True)\n",
    "activity_sleep_survey.dropna(inplace=True)\n",
    "\n",
    "train_data = pd.get_dummies(activity_sleep_survey.dropna().drop(['egoid', 'dataDate'], axis=1))\n",
    "cols = train_data.columns\n",
    "\n",
    "train_features, test_features, train_labels, test_labels = train_test_split(train_data, activity_sleep_survey['dataDate'], test_size = 0.25, random_state = 42)\n",
    "clf3 = RandomForestClassifier(random_state=33, oob_score=True)\n",
    "clf3.fit(train_features, train_labels)\n",
    "\n",
    "\n",
    "print(classification_report(test_labels, clf3.predict(test_features)))"
   ]
  },
  {
   "cell_type": "code",
   "execution_count": 15,
   "metadata": {},
   "outputs": [
    {
     "name": "stdout",
     "output_type": "stream",
     "text": [
      "              precision    recall  f1-score   support\n",
      "\n",
      "  fall_break       0.28      0.10      0.14       931\n",
      "  fall_class       0.78      0.98      0.87      7214\n",
      "  fall_final       0.00      0.00      0.00       387\n",
      "summer_break       0.42      0.19      0.26      1015\n",
      "winter_break       0.45      0.31      0.37       802\n",
      "\n",
      "    accuracy                           0.73     10349\n",
      "   macro avg       0.39      0.31      0.33     10349\n",
      "weighted avg       0.65      0.73      0.67     10349\n",
      "\n"
     ]
    },
    {
     "name": "stderr",
     "output_type": "stream",
     "text": [
      "C:\\Users\\Eren\\AppData\\Local\\Packages\\PythonSoftwareFoundation.Python.3.9_qbz5n2kfra8p0\\LocalCache\\local-packages\\Python39\\site-packages\\sklearn\\metrics\\_classification.py:1318: UndefinedMetricWarning: Precision and F-score are ill-defined and being set to 0.0 in labels with no predicted samples. Use `zero_division` parameter to control this behavior.\n",
      "  _warn_prf(average, modifier, msg_start, len(result))\n",
      "C:\\Users\\Eren\\AppData\\Local\\Packages\\PythonSoftwareFoundation.Python.3.9_qbz5n2kfra8p0\\LocalCache\\local-packages\\Python39\\site-packages\\sklearn\\metrics\\_classification.py:1318: UndefinedMetricWarning: Precision and F-score are ill-defined and being set to 0.0 in labels with no predicted samples. Use `zero_division` parameter to control this behavior.\n",
      "  _warn_prf(average, modifier, msg_start, len(result))\n",
      "C:\\Users\\Eren\\AppData\\Local\\Packages\\PythonSoftwareFoundation.Python.3.9_qbz5n2kfra8p0\\LocalCache\\local-packages\\Python39\\site-packages\\sklearn\\metrics\\_classification.py:1318: UndefinedMetricWarning: Precision and F-score are ill-defined and being set to 0.0 in labels with no predicted samples. Use `zero_division` parameter to control this behavior.\n",
      "  _warn_prf(average, modifier, msg_start, len(result))\n"
     ]
    }
   ],
   "source": [
    "# 2015 without survey. Try without survey data to examine differences\n",
    "activity_sleep = pd.read_csv('../../merged_data/activity_sleep_daily_date_extended_class_2015.csv')\n",
    "activity_sleep.drop(['timetobed', 'timeoutofbed'], axis=1, inplace=True)\n",
    "activity_sleep.dropna(inplace=True)\n",
    "\n",
    "train_data = pd.get_dummies(activity_sleep.dropna().drop(['egoid', 'dataDate'], axis=1))\n",
    "\n",
    "train_features, test_features, train_labels, test_labels = train_test_split(train_data, activity_sleep['dataDate'], test_size = 0.25, random_state = 42)\n",
    "\n",
    "clf = RandomForestClassifier(random_state=33, oob_score=True)\n",
    "clf.fit(train_features, train_labels)\n",
    "print(classification_report(test_labels, clf.predict(test_features)))"
   ]
  },
  {
   "cell_type": "code",
   "execution_count": null,
   "metadata": {},
   "outputs": [],
   "source": []
  }
 ],
 "metadata": {
  "interpreter": {
   "hash": "81794d4967e6c3204c66dcd87b604927b115b27c00565d3d43f05ba2f3a2cb0d"
  },
  "kernelspec": {
   "display_name": "Python 3.9.0 64-bit",
   "language": "python",
   "name": "python3"
  },
  "language_info": {
   "codemirror_mode": {
    "name": "ipython",
    "version": 3
   },
   "file_extension": ".py",
   "mimetype": "text/x-python",
   "name": "python",
   "nbconvert_exporter": "python",
   "pygments_lexer": "ipython3",
   "version": "3.9.0"
  },
  "orig_nbformat": 4
 },
 "nbformat": 4,
 "nbformat_minor": 2
}
