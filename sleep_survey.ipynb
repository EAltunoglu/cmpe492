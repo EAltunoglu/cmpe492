{
 "cells": [
  {
   "cell_type": "code",
   "execution_count": 8,
   "metadata": {},
   "outputs": [],
   "source": [
    "import pandas as pd\n",
    "import seaborn as sns\n",
    "import pandasql as psql\n",
    "import numpy as np\n",
    "import matplotlib.pyplot as plt\n",
    "from dython.nominal import identify_nominal_columns\n",
    "from scipy import stats\n",
    "from scipy.stats import chisquare\n",
    "from sklearn.model_selection import train_test_split\n",
    "from sklearn.feature_selection import SelectKBest, chi2\n",
    "from sklearn.linear_model import LinearRegression\n",
    "from sklearn.metrics import r2_score\n",
    "from sklearn.preprocessing import LabelEncoder, OrdinalEncoder, MinMaxScaler\n",
    "import mca\n",
    "import prince"
   ]
  },
  {
   "cell_type": "code",
   "execution_count": 9,
   "metadata": {},
   "outputs": [
    {
     "name": "stderr",
     "output_type": "stream",
     "text": [
      "C:\\Users\\Eren\\AppData\\Local\\Temp/ipykernel_20360/3128869089.py:2: DtypeWarning: Columns (314,391,392,789,791,792,1124,1125,1227,1228,1231,1232,1477,1478,1554,1555,1556,1557,1558,1559,1561,1568,1571,1678,1687,1745,1746,1818,1836,1837,1843,1844,1849,1851,1852,1853,2072,2116,2117,2264,2266,2280,2281,2282,2283,2289,2290,2483,2484,2501,2502,2508,2509,2699,2711,2712,2830) have mixed types. Specify dtype option on import or set low_memory=False.\n",
      "  survey = pd.read_csv('original_data/survey.csv')\n"
     ]
    }
   ],
   "source": [
    "sleep = pd.read_csv('original_data/sleep.csv')\n",
    "survey = pd.read_csv('original_data/survey.csv')"
   ]
  },
  {
   "cell_type": "code",
   "execution_count": 10,
   "metadata": {},
   "outputs": [],
   "source": [
    "sleep = sleep.dropna()\n",
    "# survey = survey.dropna()"
   ]
  },
  {
   "cell_type": "code",
   "execution_count": 11,
   "metadata": {},
   "outputs": [],
   "source": [
    "# sleep_survey = pd.merge(sleep, survey, on=['egoid'])\n",
    "# sleep_survey.to_csv('merged_data/sleep_survey.csv', index=False)\n",
    "\n",
    "sleep_survey = pd.read_csv('merged_data/sleep_survey.csv')"
   ]
  },
  {
   "cell_type": "code",
   "execution_count": null,
   "metadata": {},
   "outputs": [],
   "source": [
    "def get_redundant_pairs(df):\n",
    "    '''Get diagonal and lower triangular pairs of correlation matrix'''\n",
    "    pairs_to_drop = []\n",
    "    cols = df.columns\n",
    "    for i in range(0, df.shape[1]):\n",
    "        for j in range(0, i+1):\n",
    "            pairs_to_drop.append((cols[i], cols[j], df.iat[i, j]))\n",
    "    return pairs_to_drop\n",
    "\n",
    "def get_top_abs_correlations(df):\n",
    "    abs_corr = df.corr().abs()\n",
    "    # au_corr = df.corr().abs().unstack()\n",
    "    labels_to_drop = get_redundant_pairs(abs_corr)\n",
    "    return sorted(labels_to_drop, key=lambda tup: tup[2], reverse=True)\n",
    "    # au_corr = au_corr.drop(labels=labels_to_drop).sort_values(ascending=False)\n",
    "    # return au_corr[0:n]"
   ]
  },
  {
   "cell_type": "code",
   "execution_count": null,
   "metadata": {},
   "outputs": [],
   "source": [
    "get_top_abs_correlations(sleep_survey)\n"
   ]
  }
 ],
 "metadata": {
  "interpreter": {
   "hash": "a80e6dafd4e4210dfc488fe76cd91449caa661e442ab457230cddcbd7c756147"
  },
  "kernelspec": {
   "display_name": "Python 3.9.12 64-bit (windows store)",
   "language": "python",
   "name": "python3"
  },
  "language_info": {
   "codemirror_mode": {
    "name": "ipython",
    "version": 3
   },
   "file_extension": ".py",
   "mimetype": "text/x-python",
   "name": "python",
   "nbconvert_exporter": "python",
   "pygments_lexer": "ipython3",
   "version": "3.9.12"
  },
  "orig_nbformat": 4
 },
 "nbformat": 4,
 "nbformat_minor": 2
}
